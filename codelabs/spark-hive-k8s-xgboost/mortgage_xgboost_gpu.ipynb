{
 "cells": [
  {
   "cell_type": "code",
   "execution_count": 3,
   "metadata": {},
   "outputs": [],
   "source": [
    "# Copyright 2020 Google LLC\n",
    "#\n",
    "# Licensed under the Apache License, Version 2.0 (the \"License\");\n",
    "# you may not use this file except in compliance with the License.\n",
    "# You may obtain a copy of the License at\n",
    "#\n",
    "#     https://www.apache.org/licenses/LICENSE-2.0\n",
    "#\n",
    "# Unless required by applicable law or agreed to in writing, software\n",
    "# distributed under the License is distributed on an \"AS IS\" BASIS,\n",
    "# WITHOUT WARRANTIES OR CONDITIONS OF ANY KIND, either express or implied.\n",
    "# See the License for the specific language governing permissions and\n",
    "# limitations under the License."
   ]
  },
  {
   "cell_type": "markdown",
   "metadata": {},
   "source": [
    "# Mortgage XGboost - GPUs \n",
    "\n",
    "Based on notebooks from https://github.com/rapidsai/spark-examples\n",
    "\n",
    "Learn more about RAPIDS-Spark XGboost4j here https://news.developer.nvidia.com/gpu-accelerated-spark-xgboost/"
   ]
  },
  {
   "cell_type": "markdown",
   "metadata": {},
   "source": [
    "### Include pyspark methods used in notebook"
   ]
  },
  {
   "cell_type": "code",
   "execution_count": 1,
   "metadata": {},
   "outputs": [],
   "source": [
    "from pyspark.ml.evaluation import MulticlassClassificationEvaluator\n",
    "from pyspark.ml.feature import VectorAssembler\n",
    "from pyspark.sql.types import FloatType, IntegerType, StructField, StructType\n",
    "from pyspark.sql.functions import col\n",
    "from time import time"
   ]
  },
  {
   "cell_type": "markdown",
   "metadata": {},
   "source": [
    "### Read data in using GPU data reader\n",
    "\n",
    "This is a custom built reader created by Nvida to make use of GPUs to read data using GPUs. \n",
    "\n",
    "In Spark 2.4 you need include the GpuDataReader method but from Spark 3.0+ you will be able to use the native Spark read method."
   ]
  },
  {
   "cell_type": "code",
   "execution_count": 3,
   "metadata": {},
   "outputs": [],
   "source": [
    "from ml.dmlc.xgboost4j.scala.spark import XGBoostClassificationModel, XGBoostClassifier\n",
    "from ml.dmlc.xgboost4j.scala.spark.rapids import GpuDataReader"
   ]
  },
  {
   "cell_type": "markdown",
   "metadata": {},
   "source": [
    "### Set label used for model"
   ]
  },
  {
   "cell_type": "code",
   "execution_count": 9,
   "metadata": {},
   "outputs": [],
   "source": [
    "label = 'delinquency_12'"
   ]
  },
  {
   "cell_type": "markdown",
   "metadata": {},
   "source": [
    "### Create a list of the features used for the model"
   ]
  },
  {
   "cell_type": "code",
   "execution_count": 10,
   "metadata": {},
   "outputs": [
    {
     "data": {
      "text/plain": [
       "['orig_channel',\n",
       " 'first_home_buyer',\n",
       " 'loan_purpose',\n",
       " 'property_type',\n",
       " 'occupancy_status',\n",
       " 'property_state',\n",
       " 'product_type',\n",
       " 'relocation_mortgage_indicator',\n",
       " 'seller_name',\n",
       " 'mod_flag',\n",
       " 'orig_interest_rate',\n",
       " 'orig_upb',\n",
       " 'orig_loan_term',\n",
       " 'orig_ltv',\n",
       " 'orig_cltv',\n",
       " 'num_borrowers',\n",
       " 'dti',\n",
       " 'borrower_credit_score',\n",
       " 'num_units',\n",
       " 'zip',\n",
       " 'mortgage_insurance_percent',\n",
       " 'current_loan_delinquency_status',\n",
       " 'current_actual_upb',\n",
       " 'interest_rate',\n",
       " 'loan_age',\n",
       " 'msa',\n",
       " 'non_interest_bearing_upb']"
      ]
     },
     "execution_count": 10,
     "metadata": {},
     "output_type": "execute_result"
    }
   ],
   "source": [
    "schema = StructType([\n",
    "    StructField('orig_channel', FloatType()),\n",
    "    StructField('first_home_buyer', FloatType()),\n",
    "    StructField('loan_purpose', FloatType()),\n",
    "    StructField('property_type', FloatType()),\n",
    "    StructField('occupancy_status', FloatType()),\n",
    "    StructField('property_state', FloatType()),\n",
    "    StructField('product_type', FloatType()),\n",
    "    StructField('relocation_mortgage_indicator', FloatType()),\n",
    "    StructField('seller_name', FloatType()),\n",
    "    StructField('mod_flag', FloatType()),\n",
    "    StructField('orig_interest_rate', FloatType()),\n",
    "    StructField('orig_upb', IntegerType()),\n",
    "    StructField('orig_loan_term', IntegerType()),\n",
    "    StructField('orig_ltv', FloatType()),\n",
    "    StructField('orig_cltv', FloatType()),\n",
    "    StructField('num_borrowers', FloatType()),\n",
    "    StructField('dti', FloatType()),\n",
    "    StructField('borrower_credit_score', FloatType()),\n",
    "    StructField('num_units', IntegerType()),\n",
    "    StructField('zip', IntegerType()),\n",
    "    StructField('mortgage_insurance_percent', FloatType()),\n",
    "    StructField('current_loan_delinquency_status', IntegerType()),\n",
    "    StructField('current_actual_upb', FloatType()),\n",
    "    StructField('interest_rate', FloatType()),\n",
    "    StructField('loan_age', FloatType()),\n",
    "    StructField('msa', FloatType()),\n",
    "    StructField('non_interest_bearing_upb', FloatType()),\n",
    "    StructField(label, IntegerType()),\n",
    "])\n",
    "\n",
    "features = [ x.name for x in schema if x.name != label ]\n",
    "features"
   ]
  },
  {
   "cell_type": "markdown",
   "metadata": {},
   "source": [
    "### Read training data parquet files"
   ]
  },
  {
   "cell_type": "code",
   "execution_count": 6,
   "metadata": {},
   "outputs": [
    {
     "name": "stdout",
     "output_type": "stream",
     "text": [
      "Found 2 items\n",
      "-rwx------   3 root root          0 2020-05-12 12:01 gs://dataproc-datalake-warehouse/datasets/mortgage_small_train/_SUCCESS\n",
      "-rwx------   3 root root      48716 2020-05-12 12:01 gs://dataproc-datalake-warehouse/datasets/mortgage_small_train/part-00000-52e89ff6-2296-4552-95f0-65923d730f3b-c000.snappy.parquet\n"
     ]
    }
   ],
   "source": [
    "!hdfs dfs -ls gs://dataproc-datalake-warehouse/datasets/mortgage_small_train"
   ]
  },
  {
   "cell_type": "code",
   "execution_count": null,
   "metadata": {},
   "outputs": [],
   "source": [
    "train_url_parquet_file = 'gs://dataproc-datalake-warehouse/datasets/mortgage_small_train/part-00000-52e89ff6-2296-4552-95f0-65923d730f3b-c000.snappy.parquet'\n",
    "train_data = GpuDataReader(spark).parquet(train_url_parquet_file)"
   ]
  },
  {
   "cell_type": "markdown",
   "metadata": {},
   "source": [
    "### Read eval data parquet files"
   ]
  },
  {
   "cell_type": "code",
   "execution_count": 8,
   "metadata": {},
   "outputs": [
    {
     "name": "stdout",
     "output_type": "stream",
     "text": [
      "Found 2 items\n",
      "-rwx------   3 root root          0 2020-05-12 12:01 gs://dataproc-datalake-warehouse/datasets/mortgage_small_eval/_SUCCESS\n",
      "-rwx------   3 root root      25983 2020-05-12 12:01 gs://dataproc-datalake-warehouse/datasets/mortgage_small_eval/part-00000-f95c666a-2937-4a46-a240-8047d5a0ffe8-c000.snappy.parquet\n"
     ]
    }
   ],
   "source": [
    "!hdfs dfs -ls gs://dataproc-datalake-warehouse/datasets/mortgage_small_eval"
   ]
  },
  {
   "cell_type": "code",
   "execution_count": 12,
   "metadata": {},
   "outputs": [],
   "source": [
    "eval_url_parquet_file = 'gs://dataproc-datalake-warehouse/datasets/mortgage_small_eval/part-00000-f95c666a-2937-4a46-a240-8047d5a0ffe8-c000.snappy.parquet'\n",
    "eval_data = GpuDataReader(spark).parquet(eval_url_parquet_file)"
   ]
  },
  {
   "cell_type": "markdown",
   "metadata": {},
   "source": [
    "### Create a XGBoostClassifier"
   ]
  },
  {
   "cell_type": "code",
   "execution_count": 18,
   "metadata": {},
   "outputs": [],
   "source": [
    "# params = { \n",
    "#     'eta': 0.1, #learning rate \n",
    "#     'gamma': 0.1,\n",
    "#     'missing': 0.0,\n",
    "#     'treeMethod': 'gpu_hist',\n",
    "#     'maxDepth': 10, \n",
    "#     'maxLeaves': 256,\n",
    "#     'growPolicy': 'depthwise',\n",
    "#     'objective': 'binary:logistic',\n",
    "#     'minChildWeight': 30.0,\n",
    "#     'lambda_': 1.0,\n",
    "#     'scalePosWeight': 2.0,\n",
    "#     'subsample': 1.0,\n",
    "#     'nthread': 1,\n",
    "#     'numRound': 100,\n",
    "#     'numWorkers': 1,\n",
    "# }\n",
    "\n",
    "params = { \n",
    "    'treeMethod': 'gpu_hist',\n",
    "    'objective': 'binary:logistic'\n",
    "}\n",
    "\n",
    "classifier = XGBoostClassifier(**params).setLabelCol(label).setFeaturesCols(features)"
   ]
  },
  {
   "cell_type": "markdown",
   "metadata": {},
   "source": [
    "### Create reusable benchmark function"
   ]
  },
  {
   "cell_type": "code",
   "execution_count": 14,
   "metadata": {},
   "outputs": [],
   "source": [
    "def with_benchmark(phrase, action):\n",
    "    start = time()\n",
    "    result = action()\n",
    "    end = time()\n",
    "    print('{} takes {} seconds'.format(phrase, round(end - start, 2)))\n",
    "    return result"
   ]
  },
  {
   "cell_type": "markdown",
   "metadata": {},
   "source": [
    "### Train the model"
   ]
  },
  {
   "cell_type": "code",
   "execution_count": 28,
   "metadata": {},
   "outputs": [
    {
     "name": "stdout",
     "output_type": "stream",
     "text": [
      "Training takes 0.71 seconds\n"
     ]
    }
   ],
   "source": [
    "model = with_benchmark('Training', lambda: classifier.fit(train_data))"
   ]
  },
  {
   "cell_type": "markdown",
   "metadata": {},
   "source": [
    "### Save the model"
   ]
  },
  {
   "cell_type": "code",
   "execution_count": 24,
   "metadata": {},
   "outputs": [],
   "source": [
    "model.write().overwrite().save('gs://dataproc-datalake-xgboost/mortgage/gpu-model')"
   ]
  },
  {
   "cell_type": "markdown",
   "metadata": {},
   "source": [
    "### Load model"
   ]
  },
  {
   "cell_type": "code",
   "execution_count": 25,
   "metadata": {},
   "outputs": [],
   "source": [
    "loaded_model = XGBoostClassificationModel().load('gs://dataproc-datalake-xgboost/mortgage/gpu-model')"
   ]
  },
  {
   "cell_type": "markdown",
   "metadata": {},
   "source": [
    "### Run predictions"
   ]
  },
  {
   "cell_type": "code",
   "execution_count": 26,
   "metadata": {},
   "outputs": [
    {
     "name": "stdout",
     "output_type": "stream",
     "text": [
      "Transformation takes 4.76 seconds\n",
      "+--------------+--------------------+--------------------+----------+\n",
      "|delinquency_12|       rawPrediction|         probability|prediction|\n",
      "+--------------+--------------------+--------------------+----------+\n",
      "|           1.0|[0.59753340482711...|[0.64509177207946...|       0.0|\n",
      "|           1.0|[-0.4235294461250...|[0.39567250013351...|       1.0|\n",
      "|           1.0|[-0.4235294461250...|[0.39567250013351...|       1.0|\n",
      "|           1.0|[0.59753340482711...|[0.64509177207946...|       0.0|\n",
      "|           1.0|[0.23389831185340...|[0.55820941925048...|       0.0|\n",
      "|           1.0|[-0.4235294461250...|[0.39567250013351...|       1.0|\n",
      "|           1.0|[-0.4235294461250...|[0.39567250013351...|       1.0|\n",
      "|           1.0|[-0.4235294461250...|[0.39567250013351...|       1.0|\n",
      "|           1.0|[-0.4235294461250...|[0.39567250013351...|       1.0|\n",
      "|           1.0|[-0.4235294461250...|[0.39567250013351...|       1.0|\n",
      "|           1.0|[-0.4235294461250...|[0.39567250013351...|       1.0|\n",
      "|           1.0|[-0.4235294461250...|[0.39567250013351...|       1.0|\n",
      "|           1.0|[-0.4235294461250...|[0.39567250013351...|       1.0|\n",
      "+--------------+--------------------+--------------------+----------+\n",
      "\n"
     ]
    }
   ],
   "source": [
    "def transform():\n",
    "    result = loaded_model.transform(eval_data).cache()\n",
    "    result.foreachPartition(lambda _: None)\n",
    "    return result\n",
    "\n",
    "result = with_benchmark('Transformation', transform)\n",
    "result.select(label, 'rawPrediction', 'probability', 'prediction').where(\"delinquency_12 > 0\").show(50)"
   ]
  },
  {
   "cell_type": "markdown",
   "metadata": {},
   "source": [
    "### See model stats"
   ]
  },
  {
   "cell_type": "code",
   "execution_count": 27,
   "metadata": {},
   "outputs": [
    {
     "name": "stdout",
     "output_type": "stream",
     "text": [
      "Evaluation takes 0.96 seconds\n",
      "Accuracy is 0.9969984992496248\n"
     ]
    }
   ],
   "source": [
    "accuracy = with_benchmark(\n",
    "    'Evaluation',\n",
    "    lambda: MulticlassClassificationEvaluator().setLabelCol(label).evaluate(result))\n",
    "print('Accuracy is ' + str(accuracy))"
   ]
  },
  {
   "cell_type": "code",
   "execution_count": null,
   "metadata": {},
   "outputs": [],
   "source": []
  }
 ],
 "metadata": {
  "kernelspec": {
   "display_name": "PySpark",
   "language": "python",
   "name": "pyspark"
  },
  "language_info": {
   "codemirror_mode": {
    "name": "ipython",
    "version": 3
   },
   "file_extension": ".py",
   "mimetype": "text/x-python",
   "name": "python",
   "nbconvert_exporter": "python",
   "pygments_lexer": "ipython3",
   "version": "3.6.10"
  }
 },
 "nbformat": 4,
 "nbformat_minor": 2
}