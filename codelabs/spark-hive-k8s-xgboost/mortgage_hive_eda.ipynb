{
 "cells": [
  {
   "cell_type": "markdown",
   "metadata": {},
   "source": [
    "# Hive Mortgage Exploratory Data Analysis"
   ]
  },
  {
   "cell_type": "markdown",
   "metadata": {},
   "source": [
    "### Create Spark Session with Hive Enabled"
   ]
  },
  {
   "cell_type": "code",
   "execution_count": 1,
   "metadata": {},
   "outputs": [],
   "source": [
    "from pyspark.sql.types import FloatType, IntegerType, StructField, StructType\n",
    "from pyspark.sql.functions import col\n",
    "from pyspark.sql import SparkSession\n",
    "\n",
    "# warehouse_location = 'gs://<your-project>-warehouse/datasets'\n",
    "service_endpoint = 'thrift://hive-cluster-m:9083'\n",
    "\n",
    "from pyspark.sql import SparkSession\n",
    "spark = SparkSession.builder \\\n",
    "  .appName('Hive Mortgage Exploratory Data Analysis') \\\n",
    "  .config(\"hive.metastore.uris\", service_endpoint)  \\\n",
    "  .enableHiveSupport() \\\n",
    "  .getOrCreate()\n",
    "\n",
    "# .config(\"spark.sql.warehouse.dir\", warehouse_location) \\"
   ]
  },
  {
   "cell_type": "markdown",
   "metadata": {},
   "source": [
    "### Describe the default database"
   ]
  },
  {
   "cell_type": "code",
   "execution_count": null,
   "metadata": {},
   "outputs": [],
   "source": [
    "spark.sql(\"DESCRIBE DATABASE EXTENDED default\").show(5, False)"
   ]
  },
  {
   "cell_type": "markdown",
   "metadata": {},
   "source": [
    "### Show tables  "
   ]
  },
  {
   "cell_type": "code",
   "execution_count": 2,
   "metadata": {},
   "outputs": [
    {
     "name": "stdout",
     "output_type": "stream",
     "text": [
      "+--------+--------------------+-----------+\n",
      "|database|           tableName|isTemporary|\n",
      "+--------+--------------------+-----------+\n",
      "| default| mortgage_small_eval|      false|\n",
      "| default|mortgage_small_train|      false|\n",
      "| default|        transactions|      false|\n",
      "+--------+--------------------+-----------+\n",
      "\n"
     ]
    }
   ],
   "source": [
    "spark.sql(\"SHOW TABLES\").show()"
   ]
  },
  {
   "cell_type": "markdown",
   "metadata": {},
   "source": [
    "### Describe the Mortage table"
   ]
  },
  {
   "cell_type": "code",
   "execution_count": 20,
   "metadata": {},
   "outputs": [
    {
     "name": "stdout",
     "output_type": "stream",
     "text": [
      "+-------------------------------+---------+-------+\n",
      "|col_name                       |data_type|comment|\n",
      "+-------------------------------+---------+-------+\n",
      "|orig_channel                   |float    |null   |\n",
      "|first_home_buyer               |float    |null   |\n",
      "|loan_purpose                   |float    |null   |\n",
      "|property_type                  |float    |null   |\n",
      "|occupancy_status               |float    |null   |\n",
      "|property_state                 |float    |null   |\n",
      "|product_type                   |float    |null   |\n",
      "|relocation_mortgage_indicator  |float    |null   |\n",
      "|seller_name                    |float    |null   |\n",
      "|mod_flag                       |float    |null   |\n",
      "|orig_interest_rate             |float    |null   |\n",
      "|orig_upb                       |int      |null   |\n",
      "|orig_loan_term                 |int      |null   |\n",
      "|orig_ltv                       |float    |null   |\n",
      "|orig_cltv                      |float    |null   |\n",
      "|num_borrowers                  |float    |null   |\n",
      "|dti                            |float    |null   |\n",
      "|borrower_credit_score          |float    |null   |\n",
      "|num_units                      |int      |null   |\n",
      "|zip                            |int      |null   |\n",
      "|mortgage_insurance_percent     |float    |null   |\n",
      "|current_loan_delinquency_status|int      |null   |\n",
      "|current_actual_upb             |float    |null   |\n",
      "|interest_rate                  |float    |null   |\n",
      "|loan_age                       |float    |null   |\n",
      "|msa                            |float    |null   |\n",
      "|non_interest_bearing_upb       |float    |null   |\n",
      "|delinquency_12                 |int      |null   |\n",
      "+-------------------------------+---------+-------+\n",
      "\n"
     ]
    }
   ],
   "source": [
    "spark.sql(\"DESCRIBE mortgage_small_train\").show(50, False)"
   ]
  },
  {
   "cell_type": "markdown",
   "metadata": {},
   "source": [
    "### Load the full Hive table as a Spark DataFrame"
   ]
  },
  {
   "cell_type": "code",
   "execution_count": 7,
   "metadata": {},
   "outputs": [
    {
     "name": "stdout",
     "output_type": "stream",
     "text": [
      "root\n",
      " |-- orig_channel: float (nullable = true)\n",
      " |-- first_home_buyer: float (nullable = true)\n",
      " |-- loan_purpose: float (nullable = true)\n",
      " |-- property_type: float (nullable = true)\n",
      " |-- occupancy_status: float (nullable = true)\n",
      " |-- property_state: float (nullable = true)\n",
      " |-- product_type: float (nullable = true)\n",
      " |-- relocation_mortgage_indicator: float (nullable = true)\n",
      " |-- seller_name: float (nullable = true)\n",
      " |-- mod_flag: float (nullable = true)\n",
      " |-- orig_interest_rate: float (nullable = true)\n",
      " |-- orig_upb: integer (nullable = true)\n",
      " |-- orig_loan_term: integer (nullable = true)\n",
      " |-- orig_ltv: float (nullable = true)\n",
      " |-- orig_cltv: float (nullable = true)\n",
      " |-- num_borrowers: float (nullable = true)\n",
      " |-- dti: float (nullable = true)\n",
      " |-- borrower_credit_score: float (nullable = true)\n",
      " |-- num_units: integer (nullable = true)\n",
      " |-- zip: integer (nullable = true)\n",
      " |-- mortgage_insurance_percent: float (nullable = true)\n",
      " |-- current_loan_delinquency_status: integer (nullable = true)\n",
      " |-- current_actual_upb: float (nullable = true)\n",
      " |-- interest_rate: float (nullable = true)\n",
      " |-- loan_age: float (nullable = true)\n",
      " |-- msa: float (nullable = true)\n",
      " |-- non_interest_bearing_upb: float (nullable = true)\n",
      " |-- delinquency_12: integer (nullable = true)\n",
      "\n"
     ]
    }
   ],
   "source": [
    "train_df = spark.sql(\"SELECT * FROM mortgage_small_train\")\n",
    "train_df.printSchema()"
   ]
  },
  {
   "cell_type": "markdown",
   "metadata": {},
   "source": [
    "### Analyse data using Spark SQL or DataFrame API"
   ]
  },
  {
   "cell_type": "code",
   "execution_count": 14,
   "metadata": {},
   "outputs": [
    {
     "name": "stdout",
     "output_type": "stream",
     "text": [
      "+--------------+-----+\n",
      "|delinquency_12|count|\n",
      "+--------------+-----+\n",
      "|             1|   60|\n",
      "|             0| 7940|\n",
      "+--------------+-----+\n",
      "\n"
     ]
    }
   ],
   "source": [
    "spark.sql(\"\"\"\n",
    "SELECT delinquency_12, count(*) as count\n",
    "FROM mortgage_small_train\n",
    "GROUP BY delinquency_12\n",
    "\"\"\").show()"
   ]
  },
  {
   "cell_type": "code",
   "execution_count": 11,
   "metadata": {},
   "outputs": [
    {
     "name": "stdout",
     "output_type": "stream",
     "text": [
      "+--------------+-----+\n",
      "|delinquency_12|count|\n",
      "+--------------+-----+\n",
      "|             1|   60|\n",
      "|             0| 7940|\n",
      "+--------------+-----+\n",
      "\n"
     ]
    }
   ],
   "source": [
    "train_df.groupBy(\"delinquency_12\").count().show()"
   ]
  },
  {
   "cell_type": "code",
   "execution_count": 8,
   "metadata": {},
   "outputs": [
    {
     "name": "stdout",
     "output_type": "stream",
     "text": [
      "+-------------------------------+-----+\n",
      "|current_loan_delinquency_status|count|\n",
      "+-------------------------------+-----+\n",
      "|                              1|  181|\n",
      "|                              6|    3|\n",
      "|                              3|    7|\n",
      "|                              5|    3|\n",
      "|                              4|    3|\n",
      "|                              8|    1|\n",
      "|                              7|    1|\n",
      "|                             -2|  187|\n",
      "|                              2|   21|\n",
      "|                              0| 7593|\n",
      "+-------------------------------+-----+\n",
      "\n"
     ]
    }
   ],
   "source": [
    "train_df.groupBy('current_loan_delinquency_status').count().show()"
   ]
  },
  {
   "cell_type": "markdown",
   "metadata": {},
   "source": [
    "### Convert to Pandas DataFrame and plot data"
   ]
  },
  {
   "cell_type": "code",
   "execution_count": 15,
   "metadata": {},
   "outputs": [],
   "source": [
    "spark.conf.set(\"spark.sql.execution.arrow.enabled\", \"true\")"
   ]
  },
  {
   "cell_type": "code",
   "execution_count": 16,
   "metadata": {},
   "outputs": [
    {
     "data": {
      "text/html": [
       "<div>\n",
       "<style scoped>\n",
       "    .dataframe tbody tr th:only-of-type {\n",
       "        vertical-align: middle;\n",
       "    }\n",
       "\n",
       "    .dataframe tbody tr th {\n",
       "        vertical-align: top;\n",
       "    }\n",
       "\n",
       "    .dataframe thead th {\n",
       "        text-align: right;\n",
       "    }\n",
       "</style>\n",
       "<table border=\"1\" class=\"dataframe\">\n",
       "  <thead>\n",
       "    <tr style=\"text-align: right;\">\n",
       "      <th></th>\n",
       "      <th>orig_channel</th>\n",
       "      <th>first_home_buyer</th>\n",
       "      <th>loan_purpose</th>\n",
       "      <th>property_type</th>\n",
       "      <th>occupancy_status</th>\n",
       "      <th>property_state</th>\n",
       "      <th>product_type</th>\n",
       "      <th>relocation_mortgage_indicator</th>\n",
       "      <th>seller_name</th>\n",
       "      <th>mod_flag</th>\n",
       "      <th>...</th>\n",
       "      <th>num_units</th>\n",
       "      <th>zip</th>\n",
       "      <th>mortgage_insurance_percent</th>\n",
       "      <th>current_loan_delinquency_status</th>\n",
       "      <th>current_actual_upb</th>\n",
       "      <th>interest_rate</th>\n",
       "      <th>loan_age</th>\n",
       "      <th>msa</th>\n",
       "      <th>non_interest_bearing_upb</th>\n",
       "      <th>delinquency_12</th>\n",
       "    </tr>\n",
       "  </thead>\n",
       "  <tbody>\n",
       "    <tr>\n",
       "      <th>0</th>\n",
       "      <td>0.0</td>\n",
       "      <td>0.0</td>\n",
       "      <td>0.0</td>\n",
       "      <td>0.0</td>\n",
       "      <td>0.0</td>\n",
       "      <td>0.0</td>\n",
       "      <td>0.0</td>\n",
       "      <td>0.0</td>\n",
       "      <td>0.0</td>\n",
       "      <td>0.0</td>\n",
       "      <td>...</td>\n",
       "      <td>1</td>\n",
       "      <td>852</td>\n",
       "      <td>0.0</td>\n",
       "      <td>0</td>\n",
       "      <td>200201.625000</td>\n",
       "      <td>7.125</td>\n",
       "      <td>34.0</td>\n",
       "      <td>38060.0</td>\n",
       "      <td>0.0</td>\n",
       "      <td>0</td>\n",
       "    </tr>\n",
       "    <tr>\n",
       "      <th>1</th>\n",
       "      <td>0.0</td>\n",
       "      <td>0.0</td>\n",
       "      <td>0.0</td>\n",
       "      <td>0.0</td>\n",
       "      <td>0.0</td>\n",
       "      <td>0.0</td>\n",
       "      <td>0.0</td>\n",
       "      <td>0.0</td>\n",
       "      <td>0.0</td>\n",
       "      <td>0.0</td>\n",
       "      <td>...</td>\n",
       "      <td>1</td>\n",
       "      <td>852</td>\n",
       "      <td>0.0</td>\n",
       "      <td>0</td>\n",
       "      <td>200601.796875</td>\n",
       "      <td>7.125</td>\n",
       "      <td>32.0</td>\n",
       "      <td>38060.0</td>\n",
       "      <td>0.0</td>\n",
       "      <td>0</td>\n",
       "    </tr>\n",
       "    <tr>\n",
       "      <th>2</th>\n",
       "      <td>0.0</td>\n",
       "      <td>0.0</td>\n",
       "      <td>0.0</td>\n",
       "      <td>0.0</td>\n",
       "      <td>0.0</td>\n",
       "      <td>0.0</td>\n",
       "      <td>0.0</td>\n",
       "      <td>0.0</td>\n",
       "      <td>0.0</td>\n",
       "      <td>0.0</td>\n",
       "      <td>...</td>\n",
       "      <td>1</td>\n",
       "      <td>852</td>\n",
       "      <td>0.0</td>\n",
       "      <td>0</td>\n",
       "      <td>201388.046875</td>\n",
       "      <td>7.125</td>\n",
       "      <td>28.0</td>\n",
       "      <td>38060.0</td>\n",
       "      <td>0.0</td>\n",
       "      <td>0</td>\n",
       "    </tr>\n",
       "    <tr>\n",
       "      <th>3</th>\n",
       "      <td>0.0</td>\n",
       "      <td>0.0</td>\n",
       "      <td>0.0</td>\n",
       "      <td>0.0</td>\n",
       "      <td>0.0</td>\n",
       "      <td>0.0</td>\n",
       "      <td>0.0</td>\n",
       "      <td>0.0</td>\n",
       "      <td>0.0</td>\n",
       "      <td>0.0</td>\n",
       "      <td>...</td>\n",
       "      <td>1</td>\n",
       "      <td>852</td>\n",
       "      <td>0.0</td>\n",
       "      <td>0</td>\n",
       "      <td>201581.703125</td>\n",
       "      <td>7.125</td>\n",
       "      <td>27.0</td>\n",
       "      <td>38060.0</td>\n",
       "      <td>0.0</td>\n",
       "      <td>0</td>\n",
       "    </tr>\n",
       "    <tr>\n",
       "      <th>4</th>\n",
       "      <td>0.0</td>\n",
       "      <td>0.0</td>\n",
       "      <td>0.0</td>\n",
       "      <td>0.0</td>\n",
       "      <td>0.0</td>\n",
       "      <td>0.0</td>\n",
       "      <td>0.0</td>\n",
       "      <td>0.0</td>\n",
       "      <td>0.0</td>\n",
       "      <td>0.0</td>\n",
       "      <td>...</td>\n",
       "      <td>1</td>\n",
       "      <td>852</td>\n",
       "      <td>0.0</td>\n",
       "      <td>0</td>\n",
       "      <td>201774.234375</td>\n",
       "      <td>7.125</td>\n",
       "      <td>26.0</td>\n",
       "      <td>38060.0</td>\n",
       "      <td>0.0</td>\n",
       "      <td>0</td>\n",
       "    </tr>\n",
       "  </tbody>\n",
       "</table>\n",
       "<p>5 rows × 28 columns</p>\n",
       "</div>"
      ],
      "text/plain": [
       "   orig_channel  first_home_buyer  loan_purpose  property_type  \\\n",
       "0           0.0               0.0           0.0            0.0   \n",
       "1           0.0               0.0           0.0            0.0   \n",
       "2           0.0               0.0           0.0            0.0   \n",
       "3           0.0               0.0           0.0            0.0   \n",
       "4           0.0               0.0           0.0            0.0   \n",
       "\n",
       "   occupancy_status  property_state  product_type  \\\n",
       "0               0.0             0.0           0.0   \n",
       "1               0.0             0.0           0.0   \n",
       "2               0.0             0.0           0.0   \n",
       "3               0.0             0.0           0.0   \n",
       "4               0.0             0.0           0.0   \n",
       "\n",
       "   relocation_mortgage_indicator  seller_name  mod_flag  ...  num_units  zip  \\\n",
       "0                            0.0          0.0       0.0  ...          1  852   \n",
       "1                            0.0          0.0       0.0  ...          1  852   \n",
       "2                            0.0          0.0       0.0  ...          1  852   \n",
       "3                            0.0          0.0       0.0  ...          1  852   \n",
       "4                            0.0          0.0       0.0  ...          1  852   \n",
       "\n",
       "   mortgage_insurance_percent  current_loan_delinquency_status  \\\n",
       "0                         0.0                                0   \n",
       "1                         0.0                                0   \n",
       "2                         0.0                                0   \n",
       "3                         0.0                                0   \n",
       "4                         0.0                                0   \n",
       "\n",
       "   current_actual_upb  interest_rate  loan_age      msa  \\\n",
       "0       200201.625000          7.125      34.0  38060.0   \n",
       "1       200601.796875          7.125      32.0  38060.0   \n",
       "2       201388.046875          7.125      28.0  38060.0   \n",
       "3       201581.703125          7.125      27.0  38060.0   \n",
       "4       201774.234375          7.125      26.0  38060.0   \n",
       "\n",
       "   non_interest_bearing_upb  delinquency_12  \n",
       "0                       0.0               0  \n",
       "1                       0.0               0  \n",
       "2                       0.0               0  \n",
       "3                       0.0               0  \n",
       "4                       0.0               0  \n",
       "\n",
       "[5 rows x 28 columns]"
      ]
     },
     "execution_count": 16,
     "metadata": {},
     "output_type": "execute_result"
    }
   ],
   "source": [
    "train_pandas_df = train_df.toPandas()\n",
    "train_pandas_df.head()"
   ]
  },
  {
   "cell_type": "code",
   "execution_count": 20,
   "metadata": {},
   "outputs": [
    {
     "data": {
      "image/png": "[encoded data removed]",
      "text/plain": [
       "<Figure size 432x288 with 1 Axes>"
      ]
     },
     "metadata": {
      "needs_background": "light"
     },
     "output_type": "display_data"
    }
   ],
   "source": [
    "import pandas as pd\n",
    "import numpy as np\n",
    "import matplotlib.pyplot as plt\n",
    "\n",
    "ax = train_pandas_df[\"current_loan_delinquency_status\"].plot.hist(bins=12, alpha=0.5)"
   ]
  },
  {
   "cell_type": "code",
   "execution_count": 21,
   "metadata": {},
   "outputs": [
    {
     "data": {
      "image/png": "[encoded data removed]",
      "text/plain": [
       "<Figure size 432x288 with 1 Axes>"
      ]
     },
     "metadata": {
      "needs_background": "light"
     },
     "output_type": "display_data"
    }
   ],
   "source": [
    "ax = train_pandas_df[\"loan_age\"].plot.hist(bins=12, alpha=0.5)"
   ]
  },
  {
   "cell_type": "code",
   "execution_count": null,
   "metadata": {},
   "outputs": [],
   "source": []
  }
 ],
 "metadata": {
  "kernelspec": {
   "display_name": "Python 3",
   "language": "python",
   "name": "python3"
  },
  "language_info": {
   "codemirror_mode": {
    "name": "ipython",
    "version": 3
   },
   "file_extension": ".py",
   "mimetype": "text/x-python",
   "name": "python",
   "nbconvert_exporter": "python",
   "pygments_lexer": "ipython3",
   "version": "3.6.10"
  }
 },
 "nbformat": 4,
 "nbformat_minor": 2
}