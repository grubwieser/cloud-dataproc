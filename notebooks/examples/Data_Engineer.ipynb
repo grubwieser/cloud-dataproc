{
  "nbformat": 4,
  "nbformat_minor": 0,
  "metadata": {
    "kernelspec": {
      "display_name": "Python 3",
      "language": "python",
      "name": "python3"
    },
    "language_info": {
      "codemirror_mode": {
        "name": "ipython",
        "version": 3
      },
      "file_extension": ".py",
      "mimetype": "text/x-python",
      "name": "python",
      "nbconvert_exporter": "python",
      "pygments_lexer": "ipython3",
      "version": "3.7.4"
    },
    "colab": {
      "name": "test-1.ipynb",
      "provenance": [],
      "collapsed_sections": [
        "ZNs5PNQsTcvT",
        "JGcW4WpJTcvg"
      ]
    }
  },
  "cells": [
    {
      "cell_type": "markdown",
      "metadata": {
        "id": "SPMMsyxRTcvM"
      },
      "source": [
        "## 2. Data Engineering - Process CSV files into Hive Tables (Parquet)"
      ]
    },
    {
      "cell_type": "markdown",
      "metadata": {
        "id": "1JlWBMwnTcvN"
      },
      "source": [
        "### Create Spark session with Hive Enabled\n",
        "\n",
        "Create a Spark session, connect to Hive Metastore and enable Hive support in Spark"
      ]
    },
    {
      "cell_type": "code",
      "metadata": {
        "id": "DwScF-NUTcvN"
      },
      "source": [
        "from pyspark.sql import SparkSession\n",
        "from pyspark.sql.types import FloatType, IntegerType, StructField, StructType\n",
        "\n",
        "warehouse_location = 'gs://<project-id>-demo/hive-warehouse'\n",
        "service_endpoint = 'thrift://hive-cluster-m.us-central1-f:9083'\n",
        "\n",
        "from pyspark.sql import SparkSession\n",
        "spark = SparkSession.builder \\\n",
        "  .appName('Spark - Data Eng Demo') \\\n",
        "  .config(\"hive.metastore.uris\", service_endpoint)  \\\n",
        "  .config(\"spark.sql.warehouse.dir\", warehouse_location) \\\n",
        "  .enableHiveSupport() \\\n",
        "  .getOrCreate()"
      ],
      "execution_count": null,
      "outputs": []
    },
    {
      "cell_type": "markdown",
      "metadata": {
        "id": "HIDDxoNETcvN"
      },
      "source": [
        "Check the first 1000 bytes of a file on GCS"
      ]
    },
    {
      "cell_type": "code",
      "metadata": {
        "id": "QA7qu3xnTcvO",
        "outputId": "a686cec0-97f1-4ec2-fd36-f227d0d32e16"
      },
      "source": [
        "!gsutil cat -h -r 0-1000 gs://cloud-ml-tables-data/bank-marketing.csv"
      ],
      "execution_count": null,
      "outputs": [
        {
          "output_type": "stream",
          "text": [
            "==> gs://cloud-ml-tables-data/bank-marketing.csv <==\n",
            "Age,Job,MaritalStatus,Education,Default,Balance,Housing,Loan,Contact,Day,Month,Duration,Campaign,PDays,Previous,POutcome,Deposit\n",
            "58,management,married,tertiary,no,2143,yes,no,unknown,5,may,261,1,-1,0,unknown,1\n",
            "44,technician,single,secondary,no,29,yes,no,unknown,5,may,151,1,-1,0,unknown,1\n",
            "33,entrepreneur,married,secondary,no,2,yes,yes,unknown,5,may,76,1,-1,0,unknown,1\n",
            "47,blue-collar,married,unknown,no,1506,yes,no,unknown,5,may,92,1,-1,0,unknown,1\n",
            "33,unknown,single,unknown,no,1,no,no,unknown,5,may,198,1,-1,0,unknown,1\n",
            "35,management,married,tertiary,no,231,yes,no,unknown,5,may,139,1,-1,0,unknown,1\n",
            "28,management,single,tertiary,no,447,yes,yes,unknown,5,may,217,1,-1,0,unknown,1\n",
            "42,entrepreneur,divorced,tertiary,yes,2,yes,no,unknown,5,may,380,1,-1,0,unknown,1\n",
            "58,retired,married,primary,no,121,yes,no,unknown,5,may,50,1,-1,0,unknown,1\n",
            "43,technician,single,secondary,no,593,yes,no,unknown,5,may,55,1,-1,0,unknown,1\n",
            "41,admin.,divorced,secondary,no,270,yes,no,unknown,5,may,222,1,-1,0,unkn"
          ],
          "name": "stdout"
        }
      ]
    },
    {
      "cell_type": "markdown",
      "metadata": {
        "id": "ZNs5PNQsTcvT"
      },
      "source": [
        "### Get Spark application ID \n",
        "\n",
        "This is useful to easily fine application in the Spark History UI"
      ]
    },
    {
      "cell_type": "code",
      "metadata": {
        "id": "DVodmkJzTcvU",
        "outputId": "80d2f3b6-ba66-4bc2-9b7e-b1a0d62c0c96"
      },
      "source": [
        "spark.conf.get(\"spark.app.id\")"
      ],
      "execution_count": null,
      "outputs": [
        {
          "output_type": "execute_result",
          "data": {
            "text/plain": [
              "'application_1598619717300_0026'"
            ]
          },
          "metadata": {
            "tags": []
          },
          "execution_count": 39
        }
      ]
    },
    {
      "cell_type": "markdown",
      "metadata": {
        "id": "BdAf6-1OTcvU"
      },
      "source": [
        "Check what databases are in the Hive Warehouse"
      ]
    },
    {
      "cell_type": "code",
      "metadata": {
        "id": "lbLSI6c-TcvU",
        "outputId": "5d9a009e-ecc9-48dc-d4f9-dce99a1c4d49"
      },
      "source": [
        "spark.sql(\"\"\"\n",
        "SHOW DATABASES;\n",
        "\"\"\").show()"
      ],
      "execution_count": null,
      "outputs": [
        {
          "output_type": "stream",
          "text": [
            "+--------------------+\n",
            "|           namespace|\n",
            "+--------------------+\n",
            "|        bank_demo_db|\n",
            "|             default|\n",
            "|house_prices_demo_db|\n",
            "|     housing_demo_db|\n",
            "+--------------------+\n",
            "\n"
          ],
          "name": "stdout"
        }
      ]
    },
    {
      "cell_type": "code",
      "metadata": {
        "id": "L482UWTuTcvV",
        "outputId": "bf6ee5f9-38eb-4b6a-b2f1-b63ba69fc35b"
      },
      "source": [
        "spark.sql(\"DESCRIBE DATABASE EXTENDED default\").show(5, False)"
      ],
      "execution_count": null,
      "outputs": [
        {
          "output_type": "stream",
          "text": [
            "+-------------------------+------------------------------------------+\n",
            "|database_description_item|database_description_value                |\n",
            "+-------------------------+------------------------------------------+\n",
            "|Database Name            |default                                   |\n",
            "|Comment                  |Default Hive database                     |\n",
            "|Location                 |gs://dataproc-datalake-demo/hive-warehouse|\n",
            "|Owner                    |public                                    |\n",
            "|Properties               |                                          |\n",
            "+-------------------------+------------------------------------------+\n",
            "\n"
          ],
          "name": "stdout"
        }
      ]
    },
    {
      "cell_type": "markdown",
      "metadata": {
        "id": "oXFgKfz_TcvV"
      },
      "source": [
        "Create a new database called bank_demo_db"
      ]
    },
    {
      "cell_type": "code",
      "metadata": {
        "id": "6H03eysTTcvV",
        "outputId": "20a85432-e08b-4557-9b1c-4e8641f2be24"
      },
      "source": [
        "spark.sql(\"\"\"\n",
        "CREATE DATABASE IF NOT EXISTS bank_demo_db;\n",
        "\"\"\").show()"
      ],
      "execution_count": null,
      "outputs": [
        {
          "output_type": "stream",
          "text": [
            "++\n",
            "||\n",
            "++\n",
            "++\n",
            "\n"
          ],
          "name": "stdout"
        }
      ]
    },
    {
      "cell_type": "code",
      "metadata": {
        "id": "ewNsEVeSTcvW",
        "outputId": "6d4a468c-e123-4f85-87c0-7bb257abbade"
      },
      "source": [
        "spark.sql(\"DESCRIBE DATABASE EXTENDED bank_demo_db\").show(5, False)"
      ],
      "execution_count": null,
      "outputs": [
        {
          "output_type": "stream",
          "text": [
            "+-------------------------+----------------------------------------------------------+\n",
            "|database_description_item|database_description_value                                |\n",
            "+-------------------------+----------------------------------------------------------+\n",
            "|Database Name            |bank_demo_db                                              |\n",
            "|Comment                  |                                                          |\n",
            "|Location                 |gs://dataproc-datalake-demo/hive-warehouse/bank_demo_db.db|\n",
            "|Owner                    |root                                                      |\n",
            "|Properties               |                                                          |\n",
            "+-------------------------+----------------------------------------------------------+\n",
            "\n"
          ],
          "name": "stdout"
        }
      ]
    },
    {
      "cell_type": "markdown",
      "metadata": {
        "id": "cZNGS52lTcvW"
      },
      "source": [
        "Load the CSV file into a Spark Dataframe"
      ]
    },
    {
      "cell_type": "code",
      "metadata": {
        "id": "kgsapsiMTcvW",
        "outputId": "8f387f4f-9444-406b-d96f-4ba98a0fa606"
      },
      "source": [
        "df_bank_marketing = spark \\\n",
        "  .read \\\n",
        "  .option ( \"inferSchema\" , \"true\" ) \\\n",
        "  .option ( \"header\" , \"true\" ) \\\n",
        "  .csv ( \"gs://cloud-ml-tables-data/bank-marketing.csv\" )\n",
        "\n",
        "df_bank_marketing.printSchema()"
      ],
      "execution_count": null,
      "outputs": [
        {
          "output_type": "stream",
          "text": [
            "root\n",
            " |-- Age: integer (nullable = true)\n",
            " |-- Job: string (nullable = true)\n",
            " |-- MaritalStatus: string (nullable = true)\n",
            " |-- Education: string (nullable = true)\n",
            " |-- Default: string (nullable = true)\n",
            " |-- Balance: integer (nullable = true)\n",
            " |-- Housing: string (nullable = true)\n",
            " |-- Loan: string (nullable = true)\n",
            " |-- Contact: string (nullable = true)\n",
            " |-- Day: integer (nullable = true)\n",
            " |-- Month: string (nullable = true)\n",
            " |-- Duration: integer (nullable = true)\n",
            " |-- Campaign: integer (nullable = true)\n",
            " |-- PDays: integer (nullable = true)\n",
            " |-- Previous: integer (nullable = true)\n",
            " |-- POutcome: string (nullable = true)\n",
            " |-- Deposit: integer (nullable = true)\n",
            "\n"
          ],
          "name": "stdout"
        }
      ]
    },
    {
      "cell_type": "code",
      "metadata": {
        "id": "qgXc3-gqTcvX",
        "outputId": "2ecde384-66b6-4056-cff3-c5be5ede0b38"
      },
      "source": [
        "df_bank_marketing.show(5)"
      ],
      "execution_count": null,
      "outputs": [
        {
          "output_type": "stream",
          "text": [
            "+---+------------+-------------+---------+-------+-------+-------+----+-------+---+-----+--------+--------+-----+--------+--------+-------+\n",
            "|Age|         Job|MaritalStatus|Education|Default|Balance|Housing|Loan|Contact|Day|Month|Duration|Campaign|PDays|Previous|POutcome|Deposit|\n",
            "+---+------------+-------------+---------+-------+-------+-------+----+-------+---+-----+--------+--------+-----+--------+--------+-------+\n",
            "| 58|  management|      married| tertiary|     no|   2143|    yes|  no|unknown|  5|  may|     261|       1|   -1|       0| unknown|      1|\n",
            "| 44|  technician|       single|secondary|     no|     29|    yes|  no|unknown|  5|  may|     151|       1|   -1|       0| unknown|      1|\n",
            "| 33|entrepreneur|      married|secondary|     no|      2|    yes| yes|unknown|  5|  may|      76|       1|   -1|       0| unknown|      1|\n",
            "| 47| blue-collar|      married|  unknown|     no|   1506|    yes|  no|unknown|  5|  may|      92|       1|   -1|       0| unknown|      1|\n",
            "| 33|     unknown|       single|  unknown|     no|      1|     no|  no|unknown|  5|  may|     198|       1|   -1|       0| unknown|      1|\n",
            "+---+------------+-------------+---------+-------+-------+-------+----+-------+---+-----+--------+--------+-----+--------+--------+-------+\n",
            "only showing top 5 rows\n",
            "\n"
          ],
          "name": "stdout"
        }
      ]
    },
    {
      "cell_type": "markdown",
      "metadata": {
        "id": "BBBHz2WqTcvX"
      },
      "source": [
        "Run transformations on the data"
      ]
    },
    {
      "cell_type": "code",
      "metadata": {
        "id": "6z2Ii2j5TcvX"
      },
      "source": [
        "## Any transformations on your data can be done at this point"
      ],
      "execution_count": null,
      "outputs": []
    },
    {
      "cell_type": "markdown",
      "metadata": {
        "id": "fbDNguO3TcvX"
      },
      "source": [
        "Save the dataframe as a Hive table in Parquet format"
      ]
    },
    {
      "cell_type": "code",
      "metadata": {
        "id": "U2KsKQp6TcvX"
      },
      "source": [
        "df_bank_marketing.write.mode('overwrite').format(\"parquet\").saveAsTable(\"bank_demo_db.bank_marketing\")"
      ],
      "execution_count": null,
      "outputs": []
    },
    {
      "cell_type": "markdown",
      "metadata": {
        "id": "LIjPZm4gTcvf"
      },
      "source": [
        "Check that table was created"
      ]
    },
    {
      "cell_type": "code",
      "metadata": {
        "id": "YA-s2gntTcvf",
        "outputId": "ea505e9f-d857-4162-fffa-1bdf95293e66"
      },
      "source": [
        "spark.sql(\"SHOW TABLES in bank_demo_db\").show()"
      ],
      "execution_count": null,
      "outputs": [
        {
          "output_type": "stream",
          "text": [
            "+------------+--------------+-----------+\n",
            "|    database|     tableName|isTemporary|\n",
            "+------------+--------------+-----------+\n",
            "|bank_demo_db|bank_marketing|      false|\n",
            "+------------+--------------+-----------+\n",
            "\n"
          ],
          "name": "stdout"
        }
      ]
    },
    {
      "cell_type": "code",
      "metadata": {
        "id": "FQ9TGCYiTcvf",
        "outputId": "ad0e5d3b-b06e-4d76-b619-9b7eb971dd2b"
      },
      "source": [
        "spark.sql(\"DESCRIBE TABLE EXTENDED bank_demo_db.bank_marketing\").show(100, False)"
      ],
      "execution_count": null,
      "outputs": [
        {
          "output_type": "stream",
          "text": [
            "+----------------------------+-------------------------------------------------------------------------+-------+\n",
            "|col_name                    |data_type                                                                |comment|\n",
            "+----------------------------+-------------------------------------------------------------------------+-------+\n",
            "|Age                         |int                                                                      |null   |\n",
            "|Job                         |string                                                                   |null   |\n",
            "|MaritalStatus               |string                                                                   |null   |\n",
            "|Education                   |string                                                                   |null   |\n",
            "|Default                     |string                                                                   |null   |\n",
            "|Balance                     |int                                                                      |null   |\n",
            "|Housing                     |string                                                                   |null   |\n",
            "|Loan                        |string                                                                   |null   |\n",
            "|Contact                     |string                                                                   |null   |\n",
            "|Day                         |int                                                                      |null   |\n",
            "|Month                       |string                                                                   |null   |\n",
            "|Duration                    |int                                                                      |null   |\n",
            "|Campaign                    |int                                                                      |null   |\n",
            "|PDays                       |int                                                                      |null   |\n",
            "|Previous                    |int                                                                      |null   |\n",
            "|POutcome                    |string                                                                   |null   |\n",
            "|Deposit                     |int                                                                      |null   |\n",
            "|                            |                                                                         |       |\n",
            "|# Detailed Table Information|                                                                         |       |\n",
            "|Database                    |bank_demo_db                                                             |       |\n",
            "|Table                       |bank_marketing                                                           |       |\n",
            "|Owner                       |root                                                                     |       |\n",
            "|Created Time                |Wed Sep 09 09:18:59 UTC 2020                                             |       |\n",
            "|Last Access                 |UNKNOWN                                                                  |       |\n",
            "|Created By                  |Spark 3.0.0                                                              |       |\n",
            "|Type                        |MANAGED                                                                  |       |\n",
            "|Provider                    |parquet                                                                  |       |\n",
            "|Statistics                  |352207 bytes                                                             |       |\n",
            "|Location                    |gs://dataproc-datalake-demo/hive-warehouse/bank_demo_db.db/bank_marketing|       |\n",
            "|Serde Library               |org.apache.hadoop.hive.ql.io.parquet.serde.ParquetHiveSerDe              |       |\n",
            "|InputFormat                 |org.apache.hadoop.hive.ql.io.parquet.MapredParquetInputFormat            |       |\n",
            "|OutputFormat                |org.apache.hadoop.hive.ql.io.parquet.MapredParquetOutputFormat           |       |\n",
            "+----------------------------+-------------------------------------------------------------------------+-------+\n",
            "\n"
          ],
          "name": "stdout"
        }
      ]
    },
    {
      "cell_type": "markdown",
      "metadata": {
        "id": "JGcW4WpJTcvg"
      },
      "source": [
        "### Compute statistics for columns in table"
      ]
    },
    {
      "cell_type": "code",
      "metadata": {
        "id": "6VxEI9zKTcvg",
        "outputId": "a62ea153-5d4e-42b8-eace-e511c6d392ac"
      },
      "source": [
        "spark.sql(\"DESCRIBE TABLE EXTENDED bank_demo_db.bank_marketing Age\").show()"
      ],
      "execution_count": null,
      "outputs": [
        {
          "output_type": "stream",
          "text": [
            "+--------------+----------+\n",
            "|     info_name|info_value|\n",
            "+--------------+----------+\n",
            "|      col_name|       Age|\n",
            "|     data_type|       int|\n",
            "|       comment|      NULL|\n",
            "|           min|      NULL|\n",
            "|           max|      NULL|\n",
            "|     num_nulls|      NULL|\n",
            "|distinct_count|      NULL|\n",
            "|   avg_col_len|      NULL|\n",
            "|   max_col_len|      NULL|\n",
            "|     histogram|      NULL|\n",
            "+--------------+----------+\n",
            "\n"
          ],
          "name": "stdout"
        }
      ]
    },
    {
      "cell_type": "code",
      "metadata": {
        "id": "2c6nCD4JTcvg",
        "outputId": "8f351cec-a002-47ed-c5f9-c4e9b071f974"
      },
      "source": [
        "cols = \"Age, Job, MaritalStatus\"\n",
        "analyzeTableSQL = \"ANALYZE TABLE bank_demo_db.bank_marketing COMPUTE STATISTICS FOR COLUMNS Age, Job, MaritalStatus\"\n",
        "spark.sql(analyzeTableSQL).show()"
      ],
      "execution_count": null,
      "outputs": [
        {
          "output_type": "stream",
          "text": [
            "++\n",
            "||\n",
            "++\n",
            "++\n",
            "\n"
          ],
          "name": "stdout"
        }
      ]
    },
    {
      "cell_type": "code",
      "metadata": {
        "id": "IcPmycVfTcvp",
        "outputId": "2ccec2ec-220c-4830-afd0-cfbe639937f6"
      },
      "source": [
        "cols = \"Age, Job, MaritalStatus\"\n",
        "analyzeTableSQL = \"ANALYZE TABLE bank_demo_db.bank_marketing COMPUTE STATISTICS FOR ALL COLUMNS\"\n",
        "spark.sql(analyzeTableSQL).show()"
      ],
      "execution_count": null,
      "outputs": [
        {
          "output_type": "stream",
          "text": [
            "++\n",
            "||\n",
            "++\n",
            "++\n",
            "\n"
          ],
          "name": "stdout"
        }
      ]
    },
    {
      "cell_type": "code",
      "metadata": {
        "id": "aomaiDwfTcvq",
        "outputId": "d0f3381f-2b02-41b6-9c45-43a849480f39"
      },
      "source": [
        "spark.sql(\"DESCRIBE TABLE EXTENDED bank_demo_db.bank_marketing Age\").show()"
      ],
      "execution_count": null,
      "outputs": [
        {
          "output_type": "stream",
          "text": [
            "+--------------+----------+\n",
            "|     info_name|info_value|\n",
            "+--------------+----------+\n",
            "|      col_name|       Age|\n",
            "|     data_type|       int|\n",
            "|       comment|      NULL|\n",
            "|           min|        18|\n",
            "|           max|        95|\n",
            "|     num_nulls|         0|\n",
            "|distinct_count|        76|\n",
            "|   avg_col_len|         4|\n",
            "|   max_col_len|         4|\n",
            "|     histogram|      NULL|\n",
            "+--------------+----------+\n",
            "\n"
          ],
          "name": "stdout"
        }
      ]
    },
    {
      "cell_type": "code",
      "metadata": {
        "id": "ROSpEewkTcvq",
        "outputId": "cdcf5f63-e2e3-4640-a974-0e4e330d0ce3"
      },
      "source": [
        "spark.sql(\"DESCRIBE TABLE EXTENDED bank_demo_db.bank_marketing Job\").show()"
      ],
      "execution_count": null,
      "outputs": [
        {
          "output_type": "stream",
          "text": [
            "+--------------+----------+\n",
            "|     info_name|info_value|\n",
            "+--------------+----------+\n",
            "|      col_name|       Job|\n",
            "|     data_type|    string|\n",
            "|       comment|      NULL|\n",
            "|           min|      NULL|\n",
            "|           max|      NULL|\n",
            "|     num_nulls|         0|\n",
            "|distinct_count|        11|\n",
            "|   avg_col_len|        10|\n",
            "|   max_col_len|        13|\n",
            "|     histogram|      NULL|\n",
            "+--------------+----------+\n",
            "\n"
          ],
          "name": "stdout"
        }
      ]
    },
    {
      "cell_type": "markdown",
      "metadata": {
        "id": "hO13OGvaTcvq"
      },
      "source": [
        "You can now also see how many rows are in the table"
      ]
    },
    {
      "cell_type": "code",
      "metadata": {
        "id": "oFdx7WvrTcvq",
        "outputId": "288664e5-57f9-4277-ed8c-31865ca1749a"
      },
      "source": [
        "spark.sql(\"DESCRIBE TABLE EXTENDED bank_demo_db.bank_marketing\").show(100, False)"
      ],
      "execution_count": null,
      "outputs": [
        {
          "output_type": "stream",
          "text": [
            "+----------------------------+-------------------------------------------------------------------------+-------+\n",
            "|col_name                    |data_type                                                                |comment|\n",
            "+----------------------------+-------------------------------------------------------------------------+-------+\n",
            "|Age                         |int                                                                      |null   |\n",
            "|Job                         |string                                                                   |null   |\n",
            "|MaritalStatus               |string                                                                   |null   |\n",
            "|Education                   |string                                                                   |null   |\n",
            "|Default                     |string                                                                   |null   |\n",
            "|Balance                     |int                                                                      |null   |\n",
            "|Housing                     |string                                                                   |null   |\n",
            "|Loan                        |string                                                                   |null   |\n",
            "|Contact                     |string                                                                   |null   |\n",
            "|Day                         |int                                                                      |null   |\n",
            "|Month                       |string                                                                   |null   |\n",
            "|Duration                    |int                                                                      |null   |\n",
            "|Campaign                    |int                                                                      |null   |\n",
            "|PDays                       |int                                                                      |null   |\n",
            "|Previous                    |int                                                                      |null   |\n",
            "|POutcome                    |string                                                                   |null   |\n",
            "|Deposit                     |int                                                                      |null   |\n",
            "|                            |                                                                         |       |\n",
            "|# Detailed Table Information|                                                                         |       |\n",
            "|Database                    |bank_demo_db                                                             |       |\n",
            "|Table                       |bank_marketing                                                           |       |\n",
            "|Owner                       |root                                                                     |       |\n",
            "|Created Time                |Wed Sep 02 13:04:23 UTC 2020                                             |       |\n",
            "|Last Access                 |UNKNOWN                                                                  |       |\n",
            "|Created By                  |Spark 3.0.0                                                              |       |\n",
            "|Type                        |MANAGED                                                                  |       |\n",
            "|Provider                    |parquet                                                                  |       |\n",
            "|Statistics                  |352207 bytes, 45211 rows                                                 |       |\n",
            "|Location                    |gs://dataproc-datalake-demo/hive-warehouse/bank_demo_db.db/bank_marketing|       |\n",
            "|Serde Library               |org.apache.hadoop.hive.ql.io.parquet.serde.ParquetHiveSerDe              |       |\n",
            "|InputFormat                 |org.apache.hadoop.hive.ql.io.parquet.MapredParquetInputFormat            |       |\n",
            "|OutputFormat                |org.apache.hadoop.hive.ql.io.parquet.MapredParquetOutputFormat           |       |\n",
            "+----------------------------+-------------------------------------------------------------------------+-------+\n",
            "\n"
          ],
          "name": "stdout"
        }
      ]
    },
    {
      "cell_type": "markdown",
      "metadata": {
        "id": "WARyu8-oTcv0"
      },
      "source": [
        "Cache the DataFrame in memory "
      ]
    },
    {
      "cell_type": "code",
      "metadata": {
        "id": "TG2C6NXaTcv0",
        "outputId": "dc59a6d8-1391-4374-8d55-3bdd479be34f"
      },
      "source": [
        "data.cache()"
      ],
      "execution_count": null,
      "outputs": [
        {
          "output_type": "execute_result",
          "data": {
            "text/plain": [
              "DataFrame[Age: int, Job: string, MaritalStatus: string, Education: string, Default: string, Balance: int, Housing: string, Loan: string, Contact: string, Day: int, Month: string, Duration: int, Campaign: int, PDays: int, Previous: int, POutcome: string, Deposit: int]"
            ]
          },
          "metadata": {
            "tags": []
          },
          "execution_count": 4
        }
      ]
    },
    {
      "cell_type": "code",
      "metadata": {
        "id": "9kQOibWuTcv0",
        "outputId": "53f24ebd-97f4-4a41-9c31-26a63f0bc5fe"
      },
      "source": [
        "data.groupBy(\"Deposit\").count().show()"
      ],
      "execution_count": null,
      "outputs": [
        {
          "output_type": "stream",
          "text": [
            "+-------+-----+\n",
            "|Deposit|count|\n",
            "+-------+-----+\n",
            "|      1|39922|\n",
            "|      2| 5289|\n",
            "+-------+-----+\n",
            "\n"
          ],
          "name": "stdout"
        }
      ]
    }
  ]
}