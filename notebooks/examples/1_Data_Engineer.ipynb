{
 "cells": [
  {
   "cell_type": "markdown",
   "metadata": {
    "id": "SPMMsyxRTcvM"
   },
   "source": [
    "## 2. Data Engineering - Process CSV files into BQ Tables"
   ]
  },
  {
   "cell_type": "markdown",
   "metadata": {
    "id": "1JlWBMwnTcvN"
   },
   "source": [
    "### Create Spark session with BQ connector\n",
    "\n",
    "Create a Spark session, connect to Hive Metastore and enable Hive support in Spark"
   ]
  },
  {
   "cell_type": "code",
   "execution_count": 32,
   "metadata": {
    "id": "DwScF-NUTcvN"
   },
   "outputs": [],
   "source": [
    "# Run python kernel not pyspark kernel\n",
    "# https://github.com/GoogleCloudDataproc/spark-bigquery-connector/blob/master/examples/notebooks/Top%20words%20in%20Shakespeare%20by%20work.ipynb\n",
    "from pyspark.sql import SparkSession\n",
    "from pyspark.sql.types import FloatType, IntegerType, StructField, StructType\n",
    "\n",
    "from pyspark.sql import SparkSession\n",
    "spark = SparkSession.builder \\\n",
    ".appName('Spark - Data Eng Demo') \\\n",
    ".config('spark.jars', 'gs://spark-lib/bigquery/spark-bigquery-latest.jar') \\\n",
    ".getOrCreate()"
   ]
  },
  {
   "cell_type": "markdown",
   "metadata": {
    "id": "HIDDxoNETcvN"
   },
   "source": [
    "Check the first 1000 bytes of a file on GCS"
   ]
  },
  {
   "cell_type": "code",
   "execution_count": 33,
   "metadata": {
    "id": "QA7qu3xnTcvO",
    "outputId": "a686cec0-97f1-4ec2-fd36-f227d0d32e16"
   },
   "outputs": [
    {
     "name": "stdout",
     "output_type": "stream",
     "text": [
      "CommandException: No URLs matched: gs://datalake-vol2-data/bank-marketing-train.csv\n"
     ]
    }
   ],
   "source": [
    "!gsutil cat -h -r 0-1000 gs://datalake-vol2-data/bank-marketing-train.csv"
   ]
  },
  {
   "cell_type": "code",
   "execution_count": 37,
   "metadata": {},
   "outputs": [],
   "source": [
    "path_to_train_csv = \"gs://datalake-vol2-data/banking_train_set.csv\""
   ]
  },
  {
   "cell_type": "markdown",
   "metadata": {
    "id": "ZNs5PNQsTcvT"
   },
   "source": [
    "### Get Spark application ID \n",
    "\n",
    "This is useful to easily fine application in the Spark History UI"
   ]
  },
  {
   "cell_type": "code",
   "execution_count": 38,
   "metadata": {
    "id": "DVodmkJzTcvU",
    "outputId": "80d2f3b6-ba66-4bc2-9b7e-b1a0d62c0c96"
   },
   "outputs": [
    {
     "data": {
      "text/plain": [
       "'application_1610100240292_0004'"
      ]
     },
     "execution_count": 38,
     "metadata": {},
     "output_type": "execute_result"
    }
   ],
   "source": [
    "spark.conf.get(\"spark.app.id\")"
   ]
  },
  {
   "cell_type": "markdown",
   "metadata": {
    "id": "cZNGS52lTcvW"
   },
   "source": [
    "Load the CSV file into a Spark Dataframe"
   ]
  },
  {
   "cell_type": "code",
   "execution_count": 39,
   "metadata": {
    "id": "kgsapsiMTcvW",
    "outputId": "8f387f4f-9444-406b-d96f-4ba98a0fa606"
   },
   "outputs": [],
   "source": [
    "df_bank_marketing_from_csv = spark \\\n",
    ".read \\\n",
    ".option(\"inferSchema\" , \"true\") \\\n",
    ".option(\"header\" , \"true\") \\\n",
    ".csv(path_to_train_csv)"
   ]
  },
  {
   "cell_type": "code",
   "execution_count": 40,
   "metadata": {},
   "outputs": [
    {
     "name": "stdout",
     "output_type": "stream",
     "text": [
      "root\n",
      " |-- call_id: string (nullable = true)\n",
      " |-- Age: integer (nullable = true)\n",
      " |-- Job: string (nullable = true)\n",
      " |-- MaritalStatus: string (nullable = true)\n",
      " |-- Education: string (nullable = true)\n",
      " |-- Default: boolean (nullable = true)\n",
      " |-- Balance: integer (nullable = true)\n",
      " |-- Housing: boolean (nullable = true)\n",
      " |-- Loan: boolean (nullable = true)\n",
      " |-- Contact: string (nullable = true)\n",
      " |-- Day: integer (nullable = true)\n",
      " |-- Month: string (nullable = true)\n",
      " |-- Duration: integer (nullable = true)\n",
      " |-- Campaign: integer (nullable = true)\n",
      " |-- PDays: integer (nullable = true)\n",
      " |-- Previous: integer (nullable = true)\n",
      " |-- POutcome: string (nullable = true)\n",
      " |-- Deposit: integer (nullable = true)\n",
      "\n"
     ]
    }
   ],
   "source": [
    "df_bank_marketing_from_csv.printSchema()"
   ]
  },
  {
   "cell_type": "code",
   "execution_count": 41,
   "metadata": {},
   "outputs": [
    {
     "data": {
      "text/plain": [
       "'call_id:string,Age:int64,Job:string,MaritalStatus:string,Education:string,Default:boolean,Balance:int64,Housing:boolean,Loan:boolean,Contact:string,Day:int64,Month:string,Duration:int64,Campaign:int64,PDays:int64,Previous:int64,POutcome:string,Deposit:int64'"
      ]
     },
     "execution_count": 41,
     "metadata": {},
     "output_type": "execute_result"
    }
   ],
   "source": [
    "# spark to bq datatypes -> https://github.com/GoogleCloudDataproc/spark-bigquery-connector#data-types\n",
    "schema_inline = df_bank_marketing_from_csv.schema.simpleString().replace('struct<', '').replace('>', '').replace('int', 'int64')\n",
    "schema_inline"
   ]
  },
  {
   "cell_type": "code",
   "execution_count": 42,
   "metadata": {
    "id": "qgXc3-gqTcvX",
    "outputId": "2ecde384-66b6-4056-cff3-c5be5ede0b38"
   },
   "outputs": [
    {
     "name": "stdout",
     "output_type": "stream",
     "text": [
      "+--------------------+---+------+-------------+---------+-------+-------+-------+-----+--------+---+-----+--------+--------+-----+--------+--------+-------+\n",
      "|             call_id|Age|   Job|MaritalStatus|Education|Default|Balance|Housing| Loan| Contact|Day|Month|Duration|Campaign|PDays|Previous|POutcome|Deposit|\n",
      "+--------------------+---+------+-------------+---------+-------+-------+-------+-----+--------+---+-----+--------+--------+-----+--------+--------+-------+\n",
      "|dafaab78-8b86-43d...| 31|admin.|       single|secondary|  false|    410|  false|false|cellular| 23|  apr|     342|       1|   -1|       0| unknown|      2|\n",
      "|918c328b-b08c-479...| 30|admin.|       single|secondary|  false|    213|  false|false|cellular| 30|  apr|     168|       1|   -1|       0| unknown|      1|\n",
      "|096ec89c-c034-417...| 34|admin.|      married|secondary|  false|   2984|   true|false|cellular| 20|  apr|      11|       3|   -1|       0| unknown|      1|\n",
      "|2a47ba0f-5f7f-4b1...| 31|admin.|      married|secondary|  false|   -170|   true| true|cellular| 17|  apr|     252|       1|  326|       1| failure|      1|\n",
      "|2dc9048d-773b-4db...| 37|admin.|      married|secondary|  false|   6127|   true|false|cellular| 17|  apr|    1038|       2|   -1|       0| unknown|      1|\n",
      "+--------------------+---+------+-------------+---------+-------+-------+-------+-----+--------+---+-----+--------+--------+-----+--------+--------+-------+\n",
      "only showing top 5 rows\n",
      "\n"
     ]
    }
   ],
   "source": [
    "df_bank_marketing_from_csv.show(5)"
   ]
  },
  {
   "cell_type": "markdown",
   "metadata": {
    "id": "BBBHz2WqTcvX"
   },
   "source": [
    "Run transformations on the data"
   ]
  },
  {
   "cell_type": "code",
   "execution_count": 43,
   "metadata": {
    "id": "6z2Ii2j5TcvX"
   },
   "outputs": [],
   "source": [
    "## Any transformations on your data can be done at this point"
   ]
  },
  {
   "cell_type": "code",
   "execution_count": 44,
   "metadata": {},
   "outputs": [
    {
     "data": {
      "text/plain": [
       "'datalake_vol2_raw'"
      ]
     },
     "execution_count": 44,
     "metadata": {},
     "output_type": "execute_result"
    }
   ],
   "source": [
    "# get name for dataset in BQ\n",
    "project_id = !gcloud config list --format 'value(core.project)' 2>/dev/null \n",
    "dataset_raw_name = project_id[0] + '-raw'\n",
    "dataset_raw_name = dataset_raw_name.replace('-', '_')\n",
    "dataset_raw_name"
   ]
  },
  {
   "cell_type": "markdown",
   "metadata": {},
   "source": [
    "Create BQ dataset"
   ]
  },
  {
   "cell_type": "code",
   "execution_count": 45,
   "metadata": {},
   "outputs": [
    {
     "name": "stdout",
     "output_type": "stream",
     "text": [
      "BigQuery error in mk operation: Dataset 'datalake-vol2:datalake_vol2_raw'\n",
      "already exists.\n"
     ]
    }
   ],
   "source": [
    "!bq --location=europe-west3 mk -d \\\n",
    "{dataset_raw_name}"
   ]
  },
  {
   "cell_type": "code",
   "execution_count": 46,
   "metadata": {},
   "outputs": [],
   "source": [
    "# create path to new table for creation\n",
    "bq_table_path= 'datalake_vol2_raw.banking_marketing_train'"
   ]
  },
  {
   "cell_type": "code",
   "execution_count": 47,
   "metadata": {},
   "outputs": [
    {
     "name": "stdout",
     "output_type": "stream",
     "text": [
      "BigQuery error in mk operation: Table 'datalake-\n",
      "vol2:datalake_vol2_raw.banking_marketing_train' could not be created; a table\n",
      "with this name already exists.\n"
     ]
    }
   ],
   "source": [
    "!bq mk --table \\\n",
    "{bq_table_path} \\\n",
    "{schema_inline}"
   ]
  },
  {
   "cell_type": "markdown",
   "metadata": {
    "id": "LIjPZm4gTcvf"
   },
   "source": [
    "#### Check that table was created"
   ]
  },
  {
   "cell_type": "code",
   "execution_count": 48,
   "metadata": {
    "id": "YA-s2gntTcvf",
    "outputId": "ea505e9f-d857-4162-fffa-1bdf95293e66"
   },
   "outputs": [],
   "source": [
    "# spark.sql(\"SHOW TABLES in bank_demo_db\").show()\n",
    "table = \"datalake-vol2:datalake_vol2_raw.banking_marketing_train\"\n",
    "df_bank_marketing_from_bq_table = spark.read \\\n",
    ".format(\"bigquery\") \\\n",
    ".option(\"table\", table) \\\n",
    ".load()"
   ]
  },
  {
   "cell_type": "code",
   "execution_count": 49,
   "metadata": {},
   "outputs": [
    {
     "name": "stdout",
     "output_type": "stream",
     "text": [
      "root\n",
      " |-- call_id: string (nullable = true)\n",
      " |-- Age: long (nullable = true)\n",
      " |-- Job: string (nullable = true)\n",
      " |-- MaritalStatus: string (nullable = true)\n",
      " |-- Education: string (nullable = true)\n",
      " |-- Default: boolean (nullable = true)\n",
      " |-- Balance: long (nullable = true)\n",
      " |-- Housing: boolean (nullable = true)\n",
      " |-- Loan: boolean (nullable = true)\n",
      " |-- Contact: string (nullable = true)\n",
      " |-- Day: long (nullable = true)\n",
      " |-- Month: string (nullable = true)\n",
      " |-- Duration: long (nullable = true)\n",
      " |-- Campaign: long (nullable = true)\n",
      " |-- PDays: long (nullable = true)\n",
      " |-- Previous: long (nullable = true)\n",
      " |-- POutcome: string (nullable = true)\n",
      " |-- Deposit: long (nullable = true)\n",
      "\n"
     ]
    }
   ],
   "source": [
    "df_bank_marketing_from_bq_table.printSchema()"
   ]
  },
  {
   "cell_type": "code",
   "execution_count": 50,
   "metadata": {},
   "outputs": [
    {
     "name": "stdout",
     "output_type": "stream",
     "text": [
      "+--------------------+---+-------------+-------------+---------+-------+-------+-------+-----+---------+---+-----+--------+--------+-----+--------+--------+-------+\n",
      "|             call_id|Age|          Job|MaritalStatus|Education|Default|Balance|Housing| Loan|  Contact|Day|Month|Duration|Campaign|PDays|Previous|POutcome|Deposit|\n",
      "+--------------------+---+-------------+-------------+---------+-------+-------+-------+-----+---------+---+-----+--------+--------+-----+--------+--------+-------+\n",
      "|b7962146-4ab9-4fa...| 33|       admin.|       single|secondary|  false|    285|   true|false| cellular|  1|  apr|     427|       1|  329|       1|   other|      1|\n",
      "|eb2315f2-6f0c-4b6...| 49|       admin.|      married|  primary|  false|    686|   true| true| cellular|  1|  apr|     286|       2|  225|       4|   other|      1|\n",
      "|4e62cd36-1db9-4fe...| 34|       admin.|       single|secondary|  false|    528|  false|false| cellular|  1|  jun|     165|       1|  124|       1|   other|      1|\n",
      "|78f207ba-0443-4a7...| 46|       admin.|     divorced|secondary|  false|   2087|  false|false| cellular|  1|  jun|     111|       1|  119|       4|   other|      1|\n",
      "|a0294a19-b604-40b...| 60|       admin.|      married|secondary|  false|   4348|   true|false| cellular|  1|  oct|     131|       2|   98|      12|   other|      1|\n",
      "|e7951c43-3fe7-449...| 41|       admin.|      married|secondary|  false|    158|   true|false| cellular|  1|  oct|     250|       2|  120|       4|   other|      1|\n",
      "|7eae3ca6-b2ef-450...| 77|      retired|      married|  primary|  false|   1492|  false|false|telephone|  1|  sep|     663|       1|  208|       2|   other|      1|\n",
      "|6994d89b-a2d1-418...| 74|      retired|      married|  primary|  false|   2894|  false|false|telephone|  1|  sep|      97|       5|  204|       2|   other|      1|\n",
      "|88fc2750-852b-462...| 23|      student|       single|secondary|  false|    922|  false|false| cellular|  1|  sep|      81|       5|   99|       3|   other|      1|\n",
      "|4244f0e1-d53c-4ff...| 37|   management|      married|secondary|  false|   1180|   true| true| cellular|  1|  apr|     786|       1|  135|       1|   other|      1|\n",
      "|567811ee-6711-406...| 27|   management|       single| tertiary|  false|   1840|  false|false| cellular|  1|  jun|     220|       1|   28|       8|   other|      2|\n",
      "|8ed073e0-26e2-4fb...| 44|   management|     divorced| tertiary|  false|   7541|   true|false|telephone|  1|  jun|      55|       2|   82|       1|   other|      1|\n",
      "|6fe7f79d-84ba-407...| 28|   management|       single| tertiary|  false|   6784|  false|false| cellular|  1|  oct|     502|       1|  115|       3|   other|      2|\n",
      "|8eb25fa0-36d8-470...| 34|   management|      married| tertiary|  false|    589|  false|false| cellular|  1|  sep|     300|       1|   44|       3|   other|      2|\n",
      "|51de6a85-12b5-461...| 35|   technician|      married|secondary|  false|      0|  false|false| cellular|  1|  apr|     295|       1|  303|       1|   other|      1|\n",
      "|31730fc0-003c-453...| 55|   technician|      married|secondary|  false|    511|   true|false| cellular|  1|  jun|     108|       1|   94|       2|   other|      1|\n",
      "|c88fa76e-591b-4fb...| 69|   technician|      married|secondary|  false|   2661|  false|false| cellular|  1|  sep|     925|       1|  187|       3|   other|      1|\n",
      "|d763cf02-26cc-4c9...| 37|  blue-collar|      married|  unknown|  false|    444|  false|false| cellular|  1|  oct|     143|       1|   94|       9|   other|      1|\n",
      "|562c50b8-7aa5-44d...| 30|self-employed|      married| tertiary|  false|    805|   true|false|  unknown|  1|  sep|      20|       1|  478|       2|   other|      1|\n",
      "|6aba0a6f-7fb6-4f2...| 28|       admin.|      married|secondary|  false|    330|  false|false| cellular|  2|  dec|     357|       1|  188|       3|   other|      2|\n",
      "+--------------------+---+-------------+-------------+---------+-------+-------+-------+-----+---------+---+-----+--------+--------+-----+--------+--------+-------+\n",
      "only showing top 20 rows\n",
      "\n"
     ]
    }
   ],
   "source": [
    "df_bank_marketing_from_bq_table.show()"
   ]
  },
  {
   "cell_type": "code",
   "execution_count": 51,
   "metadata": {},
   "outputs": [
    {
     "data": {
      "text/plain": [
       "'datalake-vol2-data'"
      ]
     },
     "execution_count": 51,
     "metadata": {},
     "output_type": "execute_result"
    }
   ],
   "source": [
    "# create temp GCS bucket for writing spark df to bq table\n",
    "gcs_bucket = project_id[0] + '-data'\n",
    "gcs_bucket"
   ]
  },
  {
   "cell_type": "code",
   "execution_count": 52,
   "metadata": {
    "id": "FQ9TGCYiTcvf",
    "outputId": "ad0e5d3b-b06e-4d76-b619-9b7eb971dd2b"
   },
   "outputs": [],
   "source": [
    "df_bank_marketing_from_csv.write \\\n",
    ".format(\"bigquery\") \\\n",
    ".option(\"table\", table) \\\n",
    ".option(\"temporaryGcsBucket\", gcs_bucket) \\\n",
    ".mode('overwrite') \\\n",
    ".save()"
   ]
  },
  {
   "cell_type": "code",
   "execution_count": 53,
   "metadata": {},
   "outputs": [
    {
     "name": "stdout",
     "output_type": "stream",
     "text": [
      "+--------------------+---+-------------+-------------+---------+-------+-------+-------+-----+---------+---+-----+--------+--------+-----+--------+--------+-------+\n",
      "|             call_id|Age|          Job|MaritalStatus|Education|Default|Balance|Housing| Loan|  Contact|Day|Month|Duration|Campaign|PDays|Previous|POutcome|Deposit|\n",
      "+--------------------+---+-------------+-------------+---------+-------+-------+-------+-----+---------+---+-----+--------+--------+-----+--------+--------+-------+\n",
      "|d763cf02-26cc-4c9...| 37|  blue-collar|      married|  unknown|  false|    444|  false|false| cellular|  1|  oct|     143|       1|   94|       9|   other|      1|\n",
      "|562c50b8-7aa5-44d...| 30|self-employed|      married| tertiary|  false|    805|   true|false|  unknown|  1|  sep|      20|       1|  478|       2|   other|      1|\n",
      "|b7962146-4ab9-4fa...| 33|       admin.|       single|secondary|  false|    285|   true|false| cellular|  1|  apr|     427|       1|  329|       1|   other|      1|\n",
      "|eb2315f2-6f0c-4b6...| 49|       admin.|      married|  primary|  false|    686|   true| true| cellular|  1|  apr|     286|       2|  225|       4|   other|      1|\n",
      "|4e62cd36-1db9-4fe...| 34|       admin.|       single|secondary|  false|    528|  false|false| cellular|  1|  jun|     165|       1|  124|       1|   other|      1|\n",
      "|78f207ba-0443-4a7...| 46|       admin.|     divorced|secondary|  false|   2087|  false|false| cellular|  1|  jun|     111|       1|  119|       4|   other|      1|\n",
      "|a0294a19-b604-40b...| 60|       admin.|      married|secondary|  false|   4348|   true|false| cellular|  1|  oct|     131|       2|   98|      12|   other|      1|\n",
      "|e7951c43-3fe7-449...| 41|       admin.|      married|secondary|  false|    158|   true|false| cellular|  1|  oct|     250|       2|  120|       4|   other|      1|\n",
      "|7eae3ca6-b2ef-450...| 77|      retired|      married|  primary|  false|   1492|  false|false|telephone|  1|  sep|     663|       1|  208|       2|   other|      1|\n",
      "|6994d89b-a2d1-418...| 74|      retired|      married|  primary|  false|   2894|  false|false|telephone|  1|  sep|      97|       5|  204|       2|   other|      1|\n",
      "|88fc2750-852b-462...| 23|      student|       single|secondary|  false|    922|  false|false| cellular|  1|  sep|      81|       5|   99|       3|   other|      1|\n",
      "|4244f0e1-d53c-4ff...| 37|   management|      married|secondary|  false|   1180|   true| true| cellular|  1|  apr|     786|       1|  135|       1|   other|      1|\n",
      "|567811ee-6711-406...| 27|   management|       single| tertiary|  false|   1840|  false|false| cellular|  1|  jun|     220|       1|   28|       8|   other|      2|\n",
      "|8ed073e0-26e2-4fb...| 44|   management|     divorced| tertiary|  false|   7541|   true|false|telephone|  1|  jun|      55|       2|   82|       1|   other|      1|\n",
      "|6fe7f79d-84ba-407...| 28|   management|       single| tertiary|  false|   6784|  false|false| cellular|  1|  oct|     502|       1|  115|       3|   other|      2|\n",
      "|8eb25fa0-36d8-470...| 34|   management|      married| tertiary|  false|    589|  false|false| cellular|  1|  sep|     300|       1|   44|       3|   other|      2|\n",
      "|51de6a85-12b5-461...| 35|   technician|      married|secondary|  false|      0|  false|false| cellular|  1|  apr|     295|       1|  303|       1|   other|      1|\n",
      "|31730fc0-003c-453...| 55|   technician|      married|secondary|  false|    511|   true|false| cellular|  1|  jun|     108|       1|   94|       2|   other|      1|\n",
      "|c88fa76e-591b-4fb...| 69|   technician|      married|secondary|  false|   2661|  false|false| cellular|  1|  sep|     925|       1|  187|       3|   other|      1|\n",
      "|88a5b7fd-1f45-4bd...| 53|  blue-collar|      married|secondary|  false|   1797|   true|false| cellular|  2|  sep|     128|       3|   94|       5|   other|      1|\n",
      "+--------------------+---+-------------+-------------+---------+-------+-------+-------+-----+---------+---+-----+--------+--------+-----+--------+--------+-------+\n",
      "only showing top 20 rows\n",
      "\n"
     ]
    }
   ],
   "source": [
    "df_bank_marketing_from_bq_table.show()"
   ]
  },
  {
   "cell_type": "code",
   "execution_count": 54,
   "metadata": {},
   "outputs": [
    {
     "name": "stderr",
     "output_type": "stream",
     "text": [
      "Query complete after 0.00s: 100%|██████████| 1/1 [00:00<00:00, 375.97query/s]                          \n",
      "Downloading: 100%|██████████| 10/10 [00:01<00:00,  9.82rows/s]\n"
     ]
    },
    {
     "data": {
      "text/html": [
       "<div>\n",
       "<style scoped>\n",
       "    .dataframe tbody tr th:only-of-type {\n",
       "        vertical-align: middle;\n",
       "    }\n",
       "\n",
       "    .dataframe tbody tr th {\n",
       "        vertical-align: top;\n",
       "    }\n",
       "\n",
       "    .dataframe thead th {\n",
       "        text-align: right;\n",
       "    }\n",
       "</style>\n",
       "<table border=\"1\" class=\"dataframe\">\n",
       "  <thead>\n",
       "    <tr style=\"text-align: right;\">\n",
       "      <th></th>\n",
       "      <th>call_id</th>\n",
       "      <th>Age</th>\n",
       "      <th>Job</th>\n",
       "      <th>MaritalStatus</th>\n",
       "      <th>Education</th>\n",
       "      <th>Default</th>\n",
       "      <th>Balance</th>\n",
       "      <th>Housing</th>\n",
       "      <th>Loan</th>\n",
       "      <th>Contact</th>\n",
       "      <th>Day</th>\n",
       "      <th>Month</th>\n",
       "      <th>Duration</th>\n",
       "      <th>Campaign</th>\n",
       "      <th>PDays</th>\n",
       "      <th>Previous</th>\n",
       "      <th>POutcome</th>\n",
       "      <th>Deposit</th>\n",
       "    </tr>\n",
       "  </thead>\n",
       "  <tbody>\n",
       "    <tr>\n",
       "      <th>0</th>\n",
       "      <td>d763cf02-26cc-4c9c-a8f3-ff85a0b15109</td>\n",
       "      <td>37</td>\n",
       "      <td>blue-collar</td>\n",
       "      <td>married</td>\n",
       "      <td>unknown</td>\n",
       "      <td>False</td>\n",
       "      <td>444</td>\n",
       "      <td>False</td>\n",
       "      <td>False</td>\n",
       "      <td>cellular</td>\n",
       "      <td>1</td>\n",
       "      <td>oct</td>\n",
       "      <td>143</td>\n",
       "      <td>1</td>\n",
       "      <td>94</td>\n",
       "      <td>9</td>\n",
       "      <td>other</td>\n",
       "      <td>1</td>\n",
       "    </tr>\n",
       "    <tr>\n",
       "      <th>1</th>\n",
       "      <td>562c50b8-7aa5-44de-92b4-beaed66aed07</td>\n",
       "      <td>30</td>\n",
       "      <td>self-employed</td>\n",
       "      <td>married</td>\n",
       "      <td>tertiary</td>\n",
       "      <td>False</td>\n",
       "      <td>805</td>\n",
       "      <td>True</td>\n",
       "      <td>False</td>\n",
       "      <td>unknown</td>\n",
       "      <td>1</td>\n",
       "      <td>sep</td>\n",
       "      <td>20</td>\n",
       "      <td>1</td>\n",
       "      <td>478</td>\n",
       "      <td>2</td>\n",
       "      <td>other</td>\n",
       "      <td>1</td>\n",
       "    </tr>\n",
       "    <tr>\n",
       "      <th>2</th>\n",
       "      <td>b7962146-4ab9-4fa7-b143-c37e51896082</td>\n",
       "      <td>33</td>\n",
       "      <td>admin.</td>\n",
       "      <td>single</td>\n",
       "      <td>secondary</td>\n",
       "      <td>False</td>\n",
       "      <td>285</td>\n",
       "      <td>True</td>\n",
       "      <td>False</td>\n",
       "      <td>cellular</td>\n",
       "      <td>1</td>\n",
       "      <td>apr</td>\n",
       "      <td>427</td>\n",
       "      <td>1</td>\n",
       "      <td>329</td>\n",
       "      <td>1</td>\n",
       "      <td>other</td>\n",
       "      <td>1</td>\n",
       "    </tr>\n",
       "    <tr>\n",
       "      <th>3</th>\n",
       "      <td>eb2315f2-6f0c-4b63-87da-b081d8d00fde</td>\n",
       "      <td>49</td>\n",
       "      <td>admin.</td>\n",
       "      <td>married</td>\n",
       "      <td>primary</td>\n",
       "      <td>False</td>\n",
       "      <td>686</td>\n",
       "      <td>True</td>\n",
       "      <td>True</td>\n",
       "      <td>cellular</td>\n",
       "      <td>1</td>\n",
       "      <td>apr</td>\n",
       "      <td>286</td>\n",
       "      <td>2</td>\n",
       "      <td>225</td>\n",
       "      <td>4</td>\n",
       "      <td>other</td>\n",
       "      <td>1</td>\n",
       "    </tr>\n",
       "    <tr>\n",
       "      <th>4</th>\n",
       "      <td>4e62cd36-1db9-4fee-b75e-125c4aced19a</td>\n",
       "      <td>34</td>\n",
       "      <td>admin.</td>\n",
       "      <td>single</td>\n",
       "      <td>secondary</td>\n",
       "      <td>False</td>\n",
       "      <td>528</td>\n",
       "      <td>False</td>\n",
       "      <td>False</td>\n",
       "      <td>cellular</td>\n",
       "      <td>1</td>\n",
       "      <td>jun</td>\n",
       "      <td>165</td>\n",
       "      <td>1</td>\n",
       "      <td>124</td>\n",
       "      <td>1</td>\n",
       "      <td>other</td>\n",
       "      <td>1</td>\n",
       "    </tr>\n",
       "    <tr>\n",
       "      <th>5</th>\n",
       "      <td>78f207ba-0443-4a78-b862-967a5dccafc2</td>\n",
       "      <td>46</td>\n",
       "      <td>admin.</td>\n",
       "      <td>divorced</td>\n",
       "      <td>secondary</td>\n",
       "      <td>False</td>\n",
       "      <td>2087</td>\n",
       "      <td>False</td>\n",
       "      <td>False</td>\n",
       "      <td>cellular</td>\n",
       "      <td>1</td>\n",
       "      <td>jun</td>\n",
       "      <td>111</td>\n",
       "      <td>1</td>\n",
       "      <td>119</td>\n",
       "      <td>4</td>\n",
       "      <td>other</td>\n",
       "      <td>1</td>\n",
       "    </tr>\n",
       "    <tr>\n",
       "      <th>6</th>\n",
       "      <td>a0294a19-b604-40ba-8d62-74417e531b32</td>\n",
       "      <td>60</td>\n",
       "      <td>admin.</td>\n",
       "      <td>married</td>\n",
       "      <td>secondary</td>\n",
       "      <td>False</td>\n",
       "      <td>4348</td>\n",
       "      <td>True</td>\n",
       "      <td>False</td>\n",
       "      <td>cellular</td>\n",
       "      <td>1</td>\n",
       "      <td>oct</td>\n",
       "      <td>131</td>\n",
       "      <td>2</td>\n",
       "      <td>98</td>\n",
       "      <td>12</td>\n",
       "      <td>other</td>\n",
       "      <td>1</td>\n",
       "    </tr>\n",
       "    <tr>\n",
       "      <th>7</th>\n",
       "      <td>e7951c43-3fe7-4492-b158-6be248ccd10d</td>\n",
       "      <td>41</td>\n",
       "      <td>admin.</td>\n",
       "      <td>married</td>\n",
       "      <td>secondary</td>\n",
       "      <td>False</td>\n",
       "      <td>158</td>\n",
       "      <td>True</td>\n",
       "      <td>False</td>\n",
       "      <td>cellular</td>\n",
       "      <td>1</td>\n",
       "      <td>oct</td>\n",
       "      <td>250</td>\n",
       "      <td>2</td>\n",
       "      <td>120</td>\n",
       "      <td>4</td>\n",
       "      <td>other</td>\n",
       "      <td>1</td>\n",
       "    </tr>\n",
       "    <tr>\n",
       "      <th>8</th>\n",
       "      <td>7eae3ca6-b2ef-4502-83d1-d326a620c739</td>\n",
       "      <td>77</td>\n",
       "      <td>retired</td>\n",
       "      <td>married</td>\n",
       "      <td>primary</td>\n",
       "      <td>False</td>\n",
       "      <td>1492</td>\n",
       "      <td>False</td>\n",
       "      <td>False</td>\n",
       "      <td>telephone</td>\n",
       "      <td>1</td>\n",
       "      <td>sep</td>\n",
       "      <td>663</td>\n",
       "      <td>1</td>\n",
       "      <td>208</td>\n",
       "      <td>2</td>\n",
       "      <td>other</td>\n",
       "      <td>1</td>\n",
       "    </tr>\n",
       "    <tr>\n",
       "      <th>9</th>\n",
       "      <td>6994d89b-a2d1-418a-ad1b-fc7a02d2ec1c</td>\n",
       "      <td>74</td>\n",
       "      <td>retired</td>\n",
       "      <td>married</td>\n",
       "      <td>primary</td>\n",
       "      <td>False</td>\n",
       "      <td>2894</td>\n",
       "      <td>False</td>\n",
       "      <td>False</td>\n",
       "      <td>telephone</td>\n",
       "      <td>1</td>\n",
       "      <td>sep</td>\n",
       "      <td>97</td>\n",
       "      <td>5</td>\n",
       "      <td>204</td>\n",
       "      <td>2</td>\n",
       "      <td>other</td>\n",
       "      <td>1</td>\n",
       "    </tr>\n",
       "  </tbody>\n",
       "</table>\n",
       "</div>"
      ],
      "text/plain": [
       "                                call_id  Age            Job MaritalStatus  \\\n",
       "0  d763cf02-26cc-4c9c-a8f3-ff85a0b15109   37    blue-collar       married   \n",
       "1  562c50b8-7aa5-44de-92b4-beaed66aed07   30  self-employed       married   \n",
       "2  b7962146-4ab9-4fa7-b143-c37e51896082   33         admin.        single   \n",
       "3  eb2315f2-6f0c-4b63-87da-b081d8d00fde   49         admin.       married   \n",
       "4  4e62cd36-1db9-4fee-b75e-125c4aced19a   34         admin.        single   \n",
       "5  78f207ba-0443-4a78-b862-967a5dccafc2   46         admin.      divorced   \n",
       "6  a0294a19-b604-40ba-8d62-74417e531b32   60         admin.       married   \n",
       "7  e7951c43-3fe7-4492-b158-6be248ccd10d   41         admin.       married   \n",
       "8  7eae3ca6-b2ef-4502-83d1-d326a620c739   77        retired       married   \n",
       "9  6994d89b-a2d1-418a-ad1b-fc7a02d2ec1c   74        retired       married   \n",
       "\n",
       "   Education  Default  Balance  Housing   Loan    Contact  Day Month  \\\n",
       "0    unknown    False      444    False  False   cellular    1   oct   \n",
       "1   tertiary    False      805     True  False    unknown    1   sep   \n",
       "2  secondary    False      285     True  False   cellular    1   apr   \n",
       "3    primary    False      686     True   True   cellular    1   apr   \n",
       "4  secondary    False      528    False  False   cellular    1   jun   \n",
       "5  secondary    False     2087    False  False   cellular    1   jun   \n",
       "6  secondary    False     4348     True  False   cellular    1   oct   \n",
       "7  secondary    False      158     True  False   cellular    1   oct   \n",
       "8    primary    False     1492    False  False  telephone    1   sep   \n",
       "9    primary    False     2894    False  False  telephone    1   sep   \n",
       "\n",
       "   Duration  Campaign  PDays  Previous POutcome  Deposit  \n",
       "0       143         1     94         9    other        1  \n",
       "1        20         1    478         2    other        1  \n",
       "2       427         1    329         1    other        1  \n",
       "3       286         2    225         4    other        1  \n",
       "4       165         1    124         1    other        1  \n",
       "5       111         1    119         4    other        1  \n",
       "6       131         2     98        12    other        1  \n",
       "7       250         2    120         4    other        1  \n",
       "8       663         1    208         2    other        1  \n",
       "9        97         5    204         2    other        1  "
      ]
     },
     "execution_count": 54,
     "metadata": {},
     "output_type": "execute_result"
    }
   ],
   "source": [
    "%%bigquery\n",
    "SELECT *\n",
    "FROM `datalake-vol2.datalake_vol2_raw.banking_marketing_train`\n",
    "LIMIT 10"
   ]
  },
  {
   "cell_type": "markdown",
   "metadata": {
    "id": "JGcW4WpJTcvg"
   },
   "source": [
    "### Compute statistics for columns in table"
   ]
  },
  {
   "cell_type": "code",
   "execution_count": 55,
   "metadata": {
    "id": "6VxEI9zKTcvg",
    "outputId": "a62ea153-5d4e-42b8-eace-e511c6d392ac"
   },
   "outputs": [
    {
     "name": "stdout",
     "output_type": "stream",
     "text": [
      "+-------+--------------------+-----------------+-------+-------------+---------+------------------+--------+------------------+-----+------------------+-----------------+------------------+------------------+--------+-------------------+\n",
      "|summary|             call_id|              Age|    Job|MaritalStatus|Education|           Balance| Contact|               Day|Month|          Duration|         Campaign|             PDays|          Previous|POutcome|            Deposit|\n",
      "+-------+--------------------+-----------------+-------+-------------+---------+------------------+--------+------------------+-----+------------------+-----------------+------------------+------------------+--------+-------------------+\n",
      "|  count|               40780|            40780|  40780|        40780|    40780|             40780|   40780|             40780|40780|             40780|            40780|             40780|             40780|   40780|              40780|\n",
      "|   mean|                null|40.94936243256498|   null|         null|     null|1367.0108386463953|    null|15.817631191760666| null|257.96162334477685|2.765743011280039|40.023369298675824|0.5784698381559588|    null| 1.1169936243256497|\n",
      "| stddev|                null|10.62594120003969|   null|         null|     null|  3081.20791026864|    null| 8.326662117706071| null|257.27865288277496|3.097225956669078| 99.88447343936431|2.3303303632112495|    null|0.32141662917366703|\n",
      "|    min|0002418f-b746-46e...|               18| admin.|     divorced|  primary|             -8019|cellular|                 1|  apr|                 0|                1|                -1|                 0| failure|                  1|\n",
      "|    max|fffecaa7-23ca-4ef...|               95|unknown|       single|  unknown|            102127| unknown|                31|  sep|              4918|               63|               871|               275| unknown|                  2|\n",
      "+-------+--------------------+-----------------+-------+-------------+---------+------------------+--------+------------------+-----+------------------+-----------------+------------------+------------------+--------+-------------------+\n",
      "\n"
     ]
    }
   ],
   "source": [
    "# spark.sql(\"DESCRIBE TABLE EXTENDED bank_demo_db.bank_marketing Age\").show()\n",
    "df_bank_marketing_from_bq_table.describe().show()"
   ]
  },
  {
   "cell_type": "code",
   "execution_count": null,
   "metadata": {},
   "outputs": [],
   "source": []
  },
  {
   "cell_type": "code",
   "execution_count": null,
   "metadata": {},
   "outputs": [],
   "source": []
  }
 ],
 "metadata": {
  "colab": {
   "collapsed_sections": [
    "ZNs5PNQsTcvT",
    "JGcW4WpJTcvg"
   ],
   "name": "test-1.ipynb",
   "provenance": []
  },
  "kernelspec": {
   "display_name": "PySpark",
   "language": "python",
   "name": "pyspark"
  },
  "language_info": {
   "codemirror_mode": {
    "name": "ipython",
    "version": 3
   },
   "file_extension": ".py",
   "mimetype": "text/x-python",
   "name": "python",
   "nbconvert_exporter": "python",
   "pygments_lexer": "ipython3",
   "version": "3.8.6"
  }
 },
 "nbformat": 4,
 "nbformat_minor": 4
}
