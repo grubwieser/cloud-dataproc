{
 "cells": [
  {
   "cell_type": "markdown",
   "metadata": {
    "id": "WYJPIMozU1QV"
   },
   "source": [
    "## 3. Data Analyst - Run SQL on tables and plot data"
   ]
  },
  {
   "cell_type": "code",
   "execution_count": 18,
   "metadata": {},
   "outputs": [],
   "source": [
    "from google.cloud import bigquery\n",
    "\n",
    "client = bigquery.Client()"
   ]
  },
  {
   "cell_type": "code",
   "execution_count": 16,
   "metadata": {},
   "outputs": [
    {
     "data": {
      "text/html": [
       "<div>\n",
       "<style scoped>\n",
       "    .dataframe tbody tr th:only-of-type {\n",
       "        vertical-align: middle;\n",
       "    }\n",
       "\n",
       "    .dataframe tbody tr th {\n",
       "        vertical-align: top;\n",
       "    }\n",
       "\n",
       "    .dataframe thead th {\n",
       "        text-align: right;\n",
       "    }\n",
       "</style>\n",
       "<table border=\"1\" class=\"dataframe\">\n",
       "  <thead>\n",
       "    <tr style=\"text-align: right;\">\n",
       "      <th></th>\n",
       "      <th>Deposit</th>\n",
       "      <th>count</th>\n",
       "    </tr>\n",
       "  </thead>\n",
       "  <tbody>\n",
       "    <tr>\n",
       "      <th>0</th>\n",
       "      <td>1</td>\n",
       "      <td>36009</td>\n",
       "    </tr>\n",
       "    <tr>\n",
       "      <th>1</th>\n",
       "      <td>2</td>\n",
       "      <td>4771</td>\n",
       "    </tr>\n",
       "  </tbody>\n",
       "</table>\n",
       "</div>"
      ],
      "text/plain": [
       "   Deposit  count\n",
       "0        1  36009\n",
       "1        2   4771"
      ]
     },
     "execution_count": 16,
     "metadata": {},
     "output_type": "execute_result"
    }
   ],
   "source": [
    "%%bigquery\n",
    "SELECT \n",
    "    Deposit,\n",
    "    COUNT(*) as count\n",
    "FROM `datalake-vol2.datalake_vol2_raw.banking_marketing_train`\n",
    "GROUP BY Deposit"
   ]
  },
  {
   "cell_type": "code",
   "execution_count": 17,
   "metadata": {},
   "outputs": [
    {
     "data": {
      "text/html": [
       "<div>\n",
       "<style scoped>\n",
       "    .dataframe tbody tr th:only-of-type {\n",
       "        vertical-align: middle;\n",
       "    }\n",
       "\n",
       "    .dataframe tbody tr th {\n",
       "        vertical-align: top;\n",
       "    }\n",
       "\n",
       "    .dataframe thead th {\n",
       "        text-align: right;\n",
       "    }\n",
       "</style>\n",
       "<table border=\"1\" class=\"dataframe\">\n",
       "  <thead>\n",
       "    <tr style=\"text-align: right;\">\n",
       "      <th></th>\n",
       "      <th>Job</th>\n",
       "      <th>avg_age</th>\n",
       "      <th>avg_balance</th>\n",
       "    </tr>\n",
       "  </thead>\n",
       "  <tbody>\n",
       "    <tr>\n",
       "      <th>0</th>\n",
       "      <td>retired</td>\n",
       "      <td>61.663075</td>\n",
       "      <td>2043.784035</td>\n",
       "    </tr>\n",
       "    <tr>\n",
       "      <th>1</th>\n",
       "      <td>unknown</td>\n",
       "      <td>47.494424</td>\n",
       "      <td>1735.271375</td>\n",
       "    </tr>\n",
       "    <tr>\n",
       "      <th>2</th>\n",
       "      <td>housemaid</td>\n",
       "      <td>46.418522</td>\n",
       "      <td>1398.580588</td>\n",
       "    </tr>\n",
       "    <tr>\n",
       "      <th>3</th>\n",
       "      <td>entrepreneur</td>\n",
       "      <td>42.122189</td>\n",
       "      <td>1499.867316</td>\n",
       "    </tr>\n",
       "    <tr>\n",
       "      <th>4</th>\n",
       "      <td>unemployed</td>\n",
       "      <td>40.986452</td>\n",
       "      <td>1500.280271</td>\n",
       "    </tr>\n",
       "    <tr>\n",
       "      <th>5</th>\n",
       "      <td>management</td>\n",
       "      <td>40.468867</td>\n",
       "      <td>1763.349697</td>\n",
       "    </tr>\n",
       "    <tr>\n",
       "      <th>6</th>\n",
       "      <td>self-employed</td>\n",
       "      <td>40.349894</td>\n",
       "      <td>1663.105039</td>\n",
       "    </tr>\n",
       "    <tr>\n",
       "      <th>7</th>\n",
       "      <td>blue-collar</td>\n",
       "      <td>40.051578</td>\n",
       "      <td>1084.207113</td>\n",
       "    </tr>\n",
       "    <tr>\n",
       "      <th>8</th>\n",
       "      <td>technician</td>\n",
       "      <td>39.338529</td>\n",
       "      <td>1252.486672</td>\n",
       "    </tr>\n",
       "    <tr>\n",
       "      <th>9</th>\n",
       "      <td>admin.</td>\n",
       "      <td>39.315271</td>\n",
       "      <td>1147.316556</td>\n",
       "    </tr>\n",
       "    <tr>\n",
       "      <th>10</th>\n",
       "      <td>services</td>\n",
       "      <td>38.730707</td>\n",
       "      <td>991.531886</td>\n",
       "    </tr>\n",
       "    <tr>\n",
       "      <th>11</th>\n",
       "      <td>student</td>\n",
       "      <td>26.565789</td>\n",
       "      <td>1389.472488</td>\n",
       "    </tr>\n",
       "  </tbody>\n",
       "</table>\n",
       "</div>"
      ],
      "text/plain": [
       "              Job    avg_age  avg_balance\n",
       "0         retired  61.663075  2043.784035\n",
       "1         unknown  47.494424  1735.271375\n",
       "2       housemaid  46.418522  1398.580588\n",
       "3    entrepreneur  42.122189  1499.867316\n",
       "4      unemployed  40.986452  1500.280271\n",
       "5      management  40.468867  1763.349697\n",
       "6   self-employed  40.349894  1663.105039\n",
       "7     blue-collar  40.051578  1084.207113\n",
       "8      technician  39.338529  1252.486672\n",
       "9          admin.  39.315271  1147.316556\n",
       "10       services  38.730707   991.531886\n",
       "11        student  26.565789  1389.472488"
      ]
     },
     "execution_count": 17,
     "metadata": {},
     "output_type": "execute_result"
    }
   ],
   "source": [
    "%%bigquery\n",
    "SELECT \n",
    "    Job, \n",
    "    AVG(Age) as avg_age,\n",
    "    AVG(Balance) as avg_balance\n",
    "FROM `datalake-vol2.datalake_vol2_raw.banking_marketing_train`\n",
    "GROUP BY JOB\n",
    "ORDER BY avg_age DESC"
   ]
  },
  {
   "cell_type": "markdown",
   "metadata": {
    "id": "1CKY3Z8MU1QV"
   },
   "source": [
    "### Spark to Pandas DataFrame\n",
    "\n",
    "Enable Apache Arrow to allow faster conversion from Spark DataFrame to Pandas DataFrame."
   ]
  },
  {
   "cell_type": "code",
   "execution_count": 21,
   "metadata": {},
   "outputs": [],
   "source": [
    "sql = \"\"\"\n",
    "SELECT \n",
    "    Job, \n",
    "    AVG(Age) as avg_age,\n",
    "    AVG(Balance) as avg_balance\n",
    "FROM `datalake-vol2.datalake_vol2_raw.banking_marketing_train`\n",
    "GROUP BY JOB\n",
    "ORDER BY avg_age DESC\n",
    "\"\"\""
   ]
  },
  {
   "cell_type": "code",
   "execution_count": 27,
   "metadata": {},
   "outputs": [],
   "source": [
    "df_jobs = client.query(sql).to_dataframe()"
   ]
  },
  {
   "cell_type": "code",
   "execution_count": 28,
   "metadata": {},
   "outputs": [
    {
     "data": {
      "text/plain": [
       "pandas.core.frame.DataFrame"
      ]
     },
     "execution_count": 28,
     "metadata": {},
     "output_type": "execute_result"
    }
   ],
   "source": [
    "type(df_jobs)"
   ]
  },
  {
   "cell_type": "code",
   "execution_count": 29,
   "metadata": {
    "id": "ts7lvjGpU1QW",
    "outputId": "a8d7ab4a-8a7c-41bf-c20d-fbf0f9be8f41"
   },
   "outputs": [
    {
     "data": {
      "text/html": [
       "<div>\n",
       "<style scoped>\n",
       "    .dataframe tbody tr th:only-of-type {\n",
       "        vertical-align: middle;\n",
       "    }\n",
       "\n",
       "    .dataframe tbody tr th {\n",
       "        vertical-align: top;\n",
       "    }\n",
       "\n",
       "    .dataframe thead th {\n",
       "        text-align: right;\n",
       "    }\n",
       "</style>\n",
       "<table border=\"1\" class=\"dataframe\">\n",
       "  <thead>\n",
       "    <tr style=\"text-align: right;\">\n",
       "      <th></th>\n",
       "      <th>Job</th>\n",
       "      <th>avg_age</th>\n",
       "      <th>avg_balance</th>\n",
       "    </tr>\n",
       "  </thead>\n",
       "  <tbody>\n",
       "    <tr>\n",
       "      <th>0</th>\n",
       "      <td>retired</td>\n",
       "      <td>61.663075</td>\n",
       "      <td>2043.784035</td>\n",
       "    </tr>\n",
       "    <tr>\n",
       "      <th>1</th>\n",
       "      <td>unknown</td>\n",
       "      <td>47.494424</td>\n",
       "      <td>1735.271375</td>\n",
       "    </tr>\n",
       "    <tr>\n",
       "      <th>2</th>\n",
       "      <td>housemaid</td>\n",
       "      <td>46.418522</td>\n",
       "      <td>1398.580588</td>\n",
       "    </tr>\n",
       "    <tr>\n",
       "      <th>3</th>\n",
       "      <td>entrepreneur</td>\n",
       "      <td>42.122189</td>\n",
       "      <td>1499.867316</td>\n",
       "    </tr>\n",
       "    <tr>\n",
       "      <th>4</th>\n",
       "      <td>unemployed</td>\n",
       "      <td>40.986452</td>\n",
       "      <td>1500.280271</td>\n",
       "    </tr>\n",
       "  </tbody>\n",
       "</table>\n",
       "</div>"
      ],
      "text/plain": [
       "            Job    avg_age  avg_balance\n",
       "0       retired  61.663075  2043.784035\n",
       "1       unknown  47.494424  1735.271375\n",
       "2     housemaid  46.418522  1398.580588\n",
       "3  entrepreneur  42.122189  1499.867316\n",
       "4    unemployed  40.986452  1500.280271"
      ]
     },
     "execution_count": 29,
     "metadata": {},
     "output_type": "execute_result"
    }
   ],
   "source": [
    "df_jobs.head()"
   ]
  },
  {
   "cell_type": "markdown",
   "metadata": {
    "id": "COb6a1XTU1QW"
   },
   "source": [
    "### Plot data using Pandas Plotting"
   ]
  },
  {
   "cell_type": "code",
   "execution_count": 30,
   "metadata": {
    "id": "x01_SPT9U1QW"
   },
   "outputs": [],
   "source": [
    "import matplotlib.pyplot as plt"
   ]
  },
  {
   "cell_type": "code",
   "execution_count": 31,
   "metadata": {
    "id": "-kH__Yl5U1QW",
    "outputId": "a676b52e-7f02-420e-a0e7-2ed0965a933d"
   },
   "outputs": [
    {
     "data": {
      "text/plain": [
       "<matplotlib.axes._subplots.AxesSubplot at 0x7fd7141ca1d0>"
      ]
     },
     "execution_count": 31,
     "metadata": {},
     "output_type": "execute_result"
    },
    {
     "data": {
      "image/png": "[encoded data removed]",
      "text/plain": [
       "<matplotlib.figure.Figure at 0x7fd7167f0e10>"
      ]
     },
     "metadata": {},
     "output_type": "display_data"
    }
   ],
   "source": [
    "df_jobs.plot.bar(x='Job', y='avg_age', rot=90)"
   ]
  },
  {
   "cell_type": "code",
   "execution_count": 32,
   "metadata": {
    "id": "fyJvPdghU1QW",
    "outputId": "47256998-e8b7-4c73-c444-54a3e894ff19"
   },
   "outputs": [
    {
     "data": {
      "text/html": [
       "<div>\n",
       "<style scoped>\n",
       "    .dataframe tbody tr th:only-of-type {\n",
       "        vertical-align: middle;\n",
       "    }\n",
       "\n",
       "    .dataframe tbody tr th {\n",
       "        vertical-align: top;\n",
       "    }\n",
       "\n",
       "    .dataframe thead th {\n",
       "        text-align: right;\n",
       "    }\n",
       "</style>\n",
       "<table border=\"1\" class=\"dataframe\">\n",
       "  <thead>\n",
       "    <tr style=\"text-align: right;\">\n",
       "      <th></th>\n",
       "      <th>avg_age</th>\n",
       "      <th>avg_balance</th>\n",
       "    </tr>\n",
       "    <tr>\n",
       "      <th>Job</th>\n",
       "      <th></th>\n",
       "      <th></th>\n",
       "    </tr>\n",
       "  </thead>\n",
       "  <tbody>\n",
       "    <tr>\n",
       "      <th>retired</th>\n",
       "      <td>61.663075</td>\n",
       "      <td>2043.784035</td>\n",
       "    </tr>\n",
       "    <tr>\n",
       "      <th>unknown</th>\n",
       "      <td>47.494424</td>\n",
       "      <td>1735.271375</td>\n",
       "    </tr>\n",
       "    <tr>\n",
       "      <th>housemaid</th>\n",
       "      <td>46.418522</td>\n",
       "      <td>1398.580588</td>\n",
       "    </tr>\n",
       "    <tr>\n",
       "      <th>entrepreneur</th>\n",
       "      <td>42.122189</td>\n",
       "      <td>1499.867316</td>\n",
       "    </tr>\n",
       "    <tr>\n",
       "      <th>unemployed</th>\n",
       "      <td>40.986452</td>\n",
       "      <td>1500.280271</td>\n",
       "    </tr>\n",
       "  </tbody>\n",
       "</table>\n",
       "</div>"
      ],
      "text/plain": [
       "                avg_age  avg_balance\n",
       "Job                                 \n",
       "retired       61.663075  2043.784035\n",
       "unknown       47.494424  1735.271375\n",
       "housemaid     46.418522  1398.580588\n",
       "entrepreneur  42.122189  1499.867316\n",
       "unemployed    40.986452  1500.280271"
      ]
     },
     "execution_count": 32,
     "metadata": {},
     "output_type": "execute_result"
    }
   ],
   "source": [
    "df_jobs.set_index('Job', inplace=True)\n",
    "df_jobs.head()"
   ]
  },
  {
   "cell_type": "code",
   "execution_count": null,
   "metadata": {
    "id": "QAm2dHX0U1QX",
    "outputId": "8f9d03e8-c420-4aae-a75c-fdd3fc0a6deb"
   },
   "outputs": [
    {
     "data": {
      "text/plain": [
       "array([<AxesSubplot:title={'center':'avg_age'}, xlabel='Job'>,\n",
       "       <AxesSubplot:title={'center':'avg_balance'}, xlabel='Job'>],\n",
       "      dtype=object)"
      ]
     },
     "execution_count": 25,
     "metadata": {
      "tags": []
     },
     "output_type": "execute_result"
    },
    {
     "data": {
      "image/png": "[encoded data removed]",
      "text/plain": [
       "<Figure size 432x288 with 2 Axes>"
      ]
     },
     "metadata": {
      "needs_background": "light",
      "tags": []
     },
     "output_type": "display_data"
    }
   ],
   "source": [
    "df_jobs.plot.bar(rot=90, subplots=True)"
   ]
  }
 ],
 "metadata": {
  "colab": {
   "name": "test-1.ipynb",
   "provenance": []
  },
  "kernelspec": {
   "display_name": "Python 2",
   "language": "python",
   "name": "python2"
  },
  "language_info": {
   "codemirror_mode": {
    "name": "ipython",
    "version": 2
   },
   "file_extension": ".py",
   "mimetype": "text/x-python",
   "name": "python",
   "nbconvert_exporter": "python",
   "pygments_lexer": "ipython2",
   "version": "2.7.14"
  }
 },
 "nbformat": 4,
 "nbformat_minor": 2
}
