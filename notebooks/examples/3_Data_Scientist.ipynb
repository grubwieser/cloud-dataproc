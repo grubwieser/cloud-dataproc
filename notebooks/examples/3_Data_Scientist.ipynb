{
 "cells": [
  {
   "cell_type": "markdown",
   "metadata": {
    "id": "J3TwAK_8Wll0"
   },
   "source": [
    "## 4. Data Scientist - Create ML models with Spark"
   ]
  },
  {
   "cell_type": "code",
   "execution_count": null,
   "metadata": {},
   "outputs": [],
   "source": []
  },
  {
   "cell_type": "code",
   "execution_count": 120,
   "metadata": {
    "id": "rwCbd6SqWll0"
   },
   "outputs": [],
   "source": [
    "from pyspark.ml import Pipeline\n",
    "from pyspark.ml.classification import DecisionTreeClassifier\n",
    "from pyspark.ml.feature import OneHotEncoder, StringIndexer, VectorAssembler\n",
    "from pyspark.ml.evaluation import MulticlassClassificationEvaluator\n",
    "import numpy as np\n",
    "from sklearn.metrics import accuracy_score, precision_score, recall_score, roc_auc_score, f1_score"
   ]
  },
  {
   "cell_type": "code",
   "execution_count": 121,
   "metadata": {},
   "outputs": [],
   "source": [
    "from pyspark.sql import SparkSession\n",
    "spark = SparkSession.builder \\\n",
    ".appName('Spark - Data Scientist Demo') \\\n",
    ".config('spark.jars', '/usr/lib/spark/jars/spark-bigquery-latest.jar') \\\n",
    ".config(\"spark.jars.packages\", \"com.google.cloud.spark:spark-bigquery-with-dependencies_2.12:0.18.0\") \\\n",
    ".getOrCreate()"
   ]
  },
  {
   "cell_type": "markdown",
   "metadata": {},
   "source": [
    " # --properties spark:spark.jars=gs://spark-lib/bigquery/spark-bigquery-with-dependencies_2.12-0.18.0.jar"
   ]
  },
  {
   "cell_type": "code",
   "execution_count": 122,
   "metadata": {},
   "outputs": [
    {
     "data": {
      "text/plain": [
       "'version 2.12.12'"
      ]
     },
     "execution_count": 122,
     "metadata": {},
     "output_type": "execute_result"
    }
   ],
   "source": [
    "spark.conf.get(\"spark.app.id\")\n",
    "spark.sparkContext._jvm.scala.util.Properties.versionString()"
   ]
  },
  {
   "cell_type": "code",
   "execution_count": 123,
   "metadata": {},
   "outputs": [],
   "source": [
    "#!ls /usr/lib/spark/jars/"
   ]
  },
  {
   "cell_type": "markdown",
   "metadata": {
    "id": "LJwl3BLZWll0"
   },
   "source": [
    "Create a Spark DataFrame from hive table"
   ]
  },
  {
   "cell_type": "code",
   "execution_count": 124,
   "metadata": {},
   "outputs": [],
   "source": [
    "table = \"datalake-vol2:datalake_vol2_raw.banking_marketing_train\"\n",
    "df_banking_marketing_train = spark.read \\\n",
    ".format(\"bigquery\") \\\n",
    ".option(\"table\", table) \\\n",
    ".load()"
   ]
  },
  {
   "cell_type": "code",
   "execution_count": 125,
   "metadata": {},
   "outputs": [],
   "source": [
    "df_banking_marketing_train.createOrReplaceTempView(\"bank_marketing_train_view\")"
   ]
  },
  {
   "cell_type": "code",
   "execution_count": 126,
   "metadata": {},
   "outputs": [],
   "source": [
    "data = spark.sql(\"\"\"\n",
    "SELECT * \n",
    "FROM bank_marketing_train_view\n",
    "\"\"\").cache()"
   ]
  },
  {
   "cell_type": "markdown",
   "metadata": {
    "id": "3IrwU3frWll0"
   },
   "source": [
    "Cache the DataFrame in memory "
   ]
  },
  {
   "cell_type": "code",
   "execution_count": 127,
   "metadata": {
    "id": "VbCBs_1CWll0",
    "outputId": "d4175cd5-fbaa-42dc-c3ca-730737256026"
   },
   "outputs": [
    {
     "data": {
      "text/plain": [
       "DataFrame[call_id: string, Age: bigint, Job: string, MaritalStatus: string, Education: string, Default: boolean, Balance: bigint, Housing: boolean, Loan: boolean, Contact: string, Day: bigint, Month: string, Duration: bigint, Campaign: bigint, PDays: bigint, Previous: bigint, POutcome: string, Deposit: bigint]"
      ]
     },
     "execution_count": 127,
     "metadata": {},
     "output_type": "execute_result"
    }
   ],
   "source": [
    "data.cache()"
   ]
  },
  {
   "cell_type": "code",
   "execution_count": 128,
   "metadata": {},
   "outputs": [
    {
     "data": {
      "text/plain": [
       "['call_id',\n",
       " 'Age',\n",
       " 'Job',\n",
       " 'MaritalStatus',\n",
       " 'Education',\n",
       " 'Default',\n",
       " 'Balance',\n",
       " 'Housing',\n",
       " 'Loan',\n",
       " 'Contact',\n",
       " 'Day',\n",
       " 'Month',\n",
       " 'Duration',\n",
       " 'Campaign',\n",
       " 'PDays',\n",
       " 'Previous',\n",
       " 'POutcome',\n",
       " 'Deposit']"
      ]
     },
     "execution_count": 128,
     "metadata": {},
     "output_type": "execute_result"
    }
   ],
   "source": [
    "data.columns"
   ]
  },
  {
   "cell_type": "code",
   "execution_count": 129,
   "metadata": {
    "id": "IDeK2eGgWll1",
    "outputId": "15611190-1664-48da-997c-55cf5e04bead"
   },
   "outputs": [
    {
     "name": "stdout",
     "output_type": "stream",
     "text": [
      "+-------+-----+\n",
      "|Deposit|count|\n",
      "+-------+-----+\n",
      "|      1|36009|\n",
      "|      2| 4771|\n",
      "+-------+-----+\n",
      "\n"
     ]
    }
   ],
   "source": [
    "data.groupBy(\"Deposit\").count().show()"
   ]
  },
  {
   "cell_type": "markdown",
   "metadata": {
    "id": "bnOrzGwzWll1"
   },
   "source": [
    "### Split training and test data"
   ]
  },
  {
   "cell_type": "code",
   "execution_count": 130,
   "metadata": {
    "id": "QQzKkubKWll1"
   },
   "outputs": [],
   "source": [
    "(train_data, test_data) = data.randomSplit([0.7, 0.3], seed=42)"
   ]
  },
  {
   "cell_type": "code",
   "execution_count": 131,
   "metadata": {
    "id": "PWSFnJLqWll1",
    "outputId": "c6f9f2d9-7078-4d0a-ddcd-6d545b0ceee9"
   },
   "outputs": [
    {
     "name": "stdout",
     "output_type": "stream",
     "text": [
      "+-------+-----+\n",
      "|Deposit|count|\n",
      "+-------+-----+\n",
      "|      1|25254|\n",
      "|      2| 3370|\n",
      "+-------+-----+\n",
      "\n"
     ]
    }
   ],
   "source": [
    "train_data.groupBy(\"Deposit\").count().show()"
   ]
  },
  {
   "cell_type": "code",
   "execution_count": 132,
   "metadata": {
    "id": "D6ov0IxjWll1",
    "outputId": "2457d42b-2ca6-4c74-886e-9a9a7dfb42ab"
   },
   "outputs": [
    {
     "data": {
      "text/plain": [
       "28624"
      ]
     },
     "execution_count": 132,
     "metadata": {},
     "output_type": "execute_result"
    }
   ],
   "source": [
    "train_data.count()"
   ]
  },
  {
   "cell_type": "code",
   "execution_count": 133,
   "metadata": {
    "id": "UTfukzr6Wll1",
    "outputId": "6c66c2b0-4634-4ea2-d487-9b9f7a47dcb1"
   },
   "outputs": [
    {
     "data": {
      "text/plain": [
       "12156"
      ]
     },
     "execution_count": 133,
     "metadata": {},
     "output_type": "execute_result"
    }
   ],
   "source": [
    "test_data.count()"
   ]
  },
  {
   "cell_type": "markdown",
   "metadata": {
    "id": "msLwIwYlWll1"
   },
   "source": [
    "## Create Spark ML Pipeline"
   ]
  },
  {
   "cell_type": "markdown",
   "metadata": {
    "id": "pNdmjucvWll2"
   },
   "source": [
    "Train a RandomForestClassifier model"
   ]
  },
  {
   "cell_type": "code",
   "execution_count": 155,
   "metadata": {},
   "outputs": [
    {
     "data": {
      "text/plain": [
       "DataFrame[Age: bigint, Job: string, MaritalStatus: string, Education: string, Default: boolean, Balance: bigint, Housing: boolean, Loan: boolean, Contact: string, Day: bigint, Month: string, Duration: bigint, Campaign: bigint, PDays: bigint, Previous: bigint, POutcome: string, Deposit: bigint]"
      ]
     },
     "execution_count": 155,
     "metadata": {},
     "output_type": "execute_result"
    }
   ],
   "source": [
    "train_data = train_data.drop('call_id')\n",
    "train_data\n",
    "#test_data = test_data.drop('call_id')"
   ]
  },
  {
   "cell_type": "code",
   "execution_count": 156,
   "metadata": {},
   "outputs": [
    {
     "data": {
      "text/plain": [
       "'3.0.1'"
      ]
     },
     "execution_count": 156,
     "metadata": {},
     "output_type": "execute_result"
    }
   ],
   "source": [
    "\n",
    "spark.version   \n",
    "#predictions.select(\"call_id\").show(5)"
   ]
  },
  {
   "cell_type": "code",
   "execution_count": 157,
   "metadata": {
    "id": "UMu3XllwWll2",
    "outputId": "df7bab04-49aa-4032-ad89-5c6173786d00"
   },
   "outputs": [
    {
     "name": "stdout",
     "output_type": "stream",
     "text": [
      "+----------+-----+--------------------+\n",
      "|prediction|label|            features|\n",
      "+----------+-----+--------------------+\n",
      "|       0.0|  0.0|(39,[1,11,14,16,2...|\n",
      "|       0.0|  1.0|(39,[1,13,19,29,3...|\n",
      "|       0.0|  0.0|(39,[3,13,17,18,2...|\n",
      "|       0.0|  0.0|(39,[1,11,13,17,1...|\n",
      "|       0.0|  0.0|(39,[2,11,14,16,1...|\n",
      "+----------+-----+--------------------+\n",
      "only showing top 5 rows\n",
      "\n"
     ]
    }
   ],
   "source": [
    "from pyspark.ml.feature import OneHotEncoder, StringIndexer\n",
    "from pyspark.ml.classification import RandomForestClassifier\n",
    "\n",
    "\n",
    "categorical_cols = [field for (field, data_type) in train_data.dtypes \n",
    "                    if ((data_type == \"string\") & (field != 'Deposit'))]\n",
    "\n",
    "index_output_cols = [x + \"_Index\" for x in categorical_cols]\n",
    "\n",
    "ohe_output_cols = [x + \"_OHE\" for x in categorical_cols]\n",
    "\n",
    "categorical_string_indexer = StringIndexer(\n",
    "    inputCols=categorical_cols,\n",
    "    outputCols=index_output_cols,\n",
    "    handleInvalid=\"skip\")\n",
    "\n",
    "ohe_encoder = OneHotEncoder(\n",
    "    inputCols=index_output_cols,\n",
    "    outputCols=ohe_output_cols)\n",
    "\n",
    "numeric_cols = [field for (field, data_type) in train_data.dtypes \n",
    "                if (((data_type == \"double\") | (data_type == \"int\") | (data_type == \"bigint\"))\n",
    "                  & (field != 'Deposit'))]\n",
    "\n",
    "assembler_inputs = ohe_output_cols + numeric_cols\n",
    "\n",
    "vec_assembler = VectorAssembler(\n",
    "    inputCols=assembler_inputs,\n",
    "    outputCol=\"features\")\n",
    "\n",
    "label_string_indexer = StringIndexer(). \\\n",
    "  setInputCol(\"Deposit\"). \\\n",
    "  setOutputCol(\"label\")\n",
    "\n",
    "# Train a RandomForestClassifier model.\n",
    "rf = RandomForestClassifier(labelCol=\"label\", featuresCol=\"features\")\n",
    "\n",
    "pipeline = Pipeline(stages=[\n",
    "    categorical_string_indexer,\n",
    "    ohe_encoder,\n",
    "    vec_assembler,\n",
    "    label_string_indexer,\n",
    "    rf\n",
    "])\n",
    "\n",
    "# Train model on training data\n",
    "pipeline_model = pipeline.fit(train_data)\n",
    "\n",
    "# Make predictions on test.\n",
    "tests = pipeline_model.transform(test_data)\n",
    "\n",
    "# Select example rows to display.\n",
    "tests.select(\"prediction\", \"label\", \"features\").show(5)"
   ]
  },
  {
   "cell_type": "code",
   "execution_count": 158,
   "metadata": {},
   "outputs": [
    {
     "name": "stdout",
     "output_type": "stream",
     "text": [
      "+--------------------+---+----------+-------------+---------+-------+-------+-------+-----+---------+---+-----+--------+--------+-----+--------+--------+-------+\n",
      "|             call_id|Age|       Job|MaritalStatus|Education|Default|Balance|Housing| Loan|  Contact|Day|Month|Duration|Campaign|PDays|Previous|POutcome|Deposit|\n",
      "+--------------------+---+----------+-------------+---------+-------+-------+-------+-----+---------+---+-----+--------+--------+-----+--------+--------+-------+\n",
      "|000458ba-5ab1-4f7...| 54|management|      married| tertiary|  false|   7249|   true| true| cellular|  4|  feb|     102|       2|   77|       1| failure|      1|\n",
      "|000d9fb1-7eeb-46a...| 58|management|     divorced|secondary|  false|   3161|  false|false|telephone| 30|  jul|     542|       2|   -1|       0| unknown|      2|\n",
      "|0010dfae-c527-462...| 53|    admin.|     divorced|secondary|  false|    315|   true|false|  unknown|  5|  may|     181|       2|   -1|       0| unknown|      1|\n",
      "|001218b4-4a10-446...| 31|management|      married|secondary|  false|   2019|  false|false|  unknown|  7|  may|     380|       2|   -1|       0| unknown|      1|\n",
      "|00132e04-4340-4d2...| 57|technician|      married| tertiary|  false|   1103|  false|false| cellular|  4|  may|     399|       2|   -1|       0| unknown|      1|\n",
      "+--------------------+---+----------+-------------+---------+-------+-------+-------+-----+---------+---+-----+--------+--------+-----+--------+--------+-------+\n",
      "only showing top 5 rows\n",
      "\n"
     ]
    }
   ],
   "source": [
    "test_data.show(5)"
   ]
  },
  {
   "cell_type": "markdown",
   "metadata": {
    "id": "-DZwokDnWll2"
   },
   "source": [
    "As the dataset is imbalanced a good metric is AUC: Area Under the ROC Curve. [Learn more about AUC here.](https://developers.google.com/machine-learning/crash-course/classification/roc-and-auc#AUC)"
   ]
  },
  {
   "cell_type": "code",
   "execution_count": 159,
   "metadata": {
    "id": "bvoICebVWll2",
    "outputId": "a54b854e-a7c0-48c6-945b-d340d195f260"
   },
   "outputs": [
    {
     "name": "stdout",
     "output_type": "stream",
     "text": [
      "0.8851243267494067\n"
     ]
    }
   ],
   "source": [
    "from pyspark.ml.evaluation import BinaryClassificationEvaluator\n",
    "\n",
    "binaryEvaluator = BinaryClassificationEvaluator(labelCol=\"label\")\n",
    "\n",
    "auc = binaryEvaluator.evaluate(tests, {binaryEvaluator.metricName: \"areaUnderROC\"})\n",
    "print(auc)"
   ]
  },
  {
   "cell_type": "code",
   "execution_count": 160,
   "metadata": {},
   "outputs": [
    {
     "data": {
      "text/plain": [
       "array([[0., 0.],\n",
       "       [1., 0.],\n",
       "       [0., 0.],\n",
       "       ...,\n",
       "       [0., 0.],\n",
       "       [0., 0.],\n",
       "       [0., 0.]])"
      ]
     },
     "execution_count": 160,
     "metadata": {},
     "output_type": "execute_result"
    }
   ],
   "source": [
    "tests_np = np.array((tests.select(\"label\",\"prediction\").collect()))\n",
    "tests_np"
   ]
  },
  {
   "cell_type": "code",
   "execution_count": 161,
   "metadata": {
    "id": "XBSZdvX_Wll2",
    "outputId": "3d5c7965-0771-4842-9e9d-26ce7b1f1f71"
   },
   "outputs": [
    {
     "name": "stdout",
     "output_type": "stream",
     "text": [
      "f1: 0.009936124911284601\n",
      "precision: 0.875\n",
      "recall: 0.004996431120628123\n"
     ]
    }
   ],
   "source": [
    "tests_np = np.array((tests.select(\"label\",\"prediction\").collect()))\n",
    "\n",
    "np_acc = accuracy_score(tests_np[:,0], tests_np[:,1])\n",
    "np_f1 = f1_score(tests_np[:,0], tests_np[:,1])\n",
    "np_precision = precision_score(tests_np[:,0], tests_np[:,1])\n",
    "np_recall = recall_score(tests_np[:,0], tests_np[:,1])\n",
    "np_auc = roc_auc_score(tests_np[:,0], tests_np[:,1])\n",
    "\n",
    "print(\"f1:\", np_f1)\n",
    "print(\"precision:\", np_precision)\n",
    "print(\"recall:\", np_recall)"
   ]
  },
  {
   "cell_type": "code",
   "execution_count": 162,
   "metadata": {
    "id": "Y46SX-NUWll3",
    "outputId": "213009e8-130e-45ef-dd79-2ab25997e016"
   },
   "outputs": [
    {
     "data": {
      "text/html": [
       "<div>\n",
       "<style scoped>\n",
       "    .dataframe tbody tr th:only-of-type {\n",
       "        vertical-align: middle;\n",
       "    }\n",
       "\n",
       "    .dataframe tbody tr th {\n",
       "        vertical-align: top;\n",
       "    }\n",
       "\n",
       "    .dataframe thead th {\n",
       "        text-align: right;\n",
       "    }\n",
       "</style>\n",
       "<table border=\"1\" class=\"dataframe\">\n",
       "  <thead>\n",
       "    <tr style=\"text-align: right;\">\n",
       "      <th></th>\n",
       "      <th>Predicted True</th>\n",
       "      <th>Predicted Not True</th>\n",
       "    </tr>\n",
       "  </thead>\n",
       "  <tbody>\n",
       "    <tr>\n",
       "      <th>Actually True</th>\n",
       "      <td>7</td>\n",
       "      <td>1394</td>\n",
       "    </tr>\n",
       "    <tr>\n",
       "      <th>Actually Not True</th>\n",
       "      <td>1</td>\n",
       "      <td>10754</td>\n",
       "    </tr>\n",
       "  </tbody>\n",
       "</table>\n",
       "</div>"
      ],
      "text/plain": [
       "                   Predicted True  Predicted Not True\n",
       "Actually True                   7                1394\n",
       "Actually Not True               1               10754"
      ]
     },
     "execution_count": 162,
     "metadata": {},
     "output_type": "execute_result"
    }
   ],
   "source": [
    "# import package that will generate the confusion matrix scores\n",
    "from sklearn.metrics import confusion_matrix\n",
    "# import packages that will help display the scores\n",
    "import pandas as pd\n",
    "\n",
    "confusion_matrix_scores = confusion_matrix(tests_np[:,0], \n",
    "                                           tests_np[:,1], \n",
    "                                           labels=[1, 0])\n",
    "\n",
    "# display scores as a heatmap\n",
    "df = pd.DataFrame(confusion_matrix_scores, \n",
    "                  columns = [\"Predicted True\", \"Predicted Not True\"],\n",
    "                  index = [\"Actually True\", \"Actually Not True\"])\n",
    "\n",
    "\n",
    "df.head()"
   ]
  },
  {
   "cell_type": "markdown",
   "metadata": {
    "id": "UJylDTrvWll6"
   },
   "source": [
    "### Save model_pipeline"
   ]
  },
  {
   "cell_type": "code",
   "execution_count": 163,
   "metadata": {
    "id": "Yyu-e73EWll6"
   },
   "outputs": [],
   "source": [
    "from pyspark.ml import Pipeline, PipelineModel\n",
    "\n",
    "model_path = 'gs://datalake-vol2-data/'\n",
    "\n",
    "pipeline_model.write().overwrite().save(model_path)"
   ]
  },
  {
   "cell_type": "code",
   "execution_count": 164,
   "metadata": {
    "id": "tOsd-Q_CWll6"
   },
   "outputs": [],
   "source": [
    "loaded_pipeline_model = PipelineModel.load(model_path)"
   ]
  },
  {
   "cell_type": "code",
   "execution_count": 165,
   "metadata": {
    "id": "RycT75znWll6",
    "outputId": "dbeb5ae8-9713-40a3-86aa-11ed3c6ab8b1"
   },
   "outputs": [
    {
     "name": "stdout",
     "output_type": "stream",
     "text": [
      "+--------------------+---+----------+-------------+---------+-------+-------+-------+-----+---------+---+-----+--------+--------+-----+--------+--------+-------+-----------+---------+-------------------+--------------+-------------+---------------+-------------+--------------+-------------+-------------+-----------------+--------------+--------------------+-----+--------------------+--------------------+----------+\n",
      "|             call_id|Age|       Job|MaritalStatus|Education|Default|Balance|Housing| Loan|  Contact|Day|Month|Duration|Campaign|PDays|Previous|POutcome|Deposit|Month_Index|Job_Index|MaritalStatus_Index|POutcome_Index|Contact_Index|Education_Index| POutcome_OHE|       Job_OHE|  Contact_OHE|Education_OHE|MaritalStatus_OHE|     Month_OHE|            features|label|       rawPrediction|         probability|prediction|\n",
      "+--------------------+---+----------+-------------+---------+-------+-------+-------+-----+---------+---+-----+--------+--------+-----+--------+--------+-------+-----------+---------+-------------------+--------------+-------------+---------------+-------------+--------------+-------------+-------------+-----------------+--------------+--------------------+-----+--------------------+--------------------+----------+\n",
      "|000458ba-5ab1-4f7...| 54|management|      married| tertiary|  false|   7249|   true| true| cellular|  4|  feb|     102|       2|   77|       1| failure|      1|        6.0|      1.0|                0.0|           1.0|          0.0|            1.0|(3,[1],[1.0])|(11,[1],[1.0])|(2,[0],[1.0])|(3,[1],[1.0])|    (2,[0],[1.0])|(11,[6],[1.0])|(39,[1,11,14,16,2...|  0.0|[17.1775709038212...|[0.85887854519106...|       0.0|\n",
      "|000d9fb1-7eeb-46a...| 58|management|     divorced|secondary|  false|   3161|  false|false|telephone| 30|  jul|     542|       2|   -1|       0| unknown|      2|        1.0|      1.0|                2.0|           0.0|          2.0|            0.0|(3,[0],[1.0])|(11,[1],[1.0])|    (2,[],[])|(3,[0],[1.0])|        (2,[],[])|(11,[1],[1.0])|(39,[1,13,19,29,3...|  1.0|[16.7425451859880...|[0.83712725929940...|       0.0|\n",
      "|0010dfae-c527-462...| 53|    admin.|     divorced|secondary|  false|    315|   true|false|  unknown|  5|  may|     181|       2|   -1|       0| unknown|      1|        0.0|      3.0|                2.0|           0.0|          1.0|            0.0|(3,[0],[1.0])|(11,[3],[1.0])|(2,[1],[1.0])|(3,[0],[1.0])|        (2,[],[])|(11,[0],[1.0])|(39,[3,13,17,18,2...|  0.0|[19.1567998289267...|[0.95783999144633...|       0.0|\n",
      "|001218b4-4a10-446...| 31|management|      married|secondary|  false|   2019|  false|false|  unknown|  7|  may|     380|       2|   -1|       0| unknown|      1|        0.0|      1.0|                0.0|           0.0|          1.0|            0.0|(3,[0],[1.0])|(11,[1],[1.0])|(2,[1],[1.0])|(3,[0],[1.0])|    (2,[0],[1.0])|(11,[0],[1.0])|(39,[1,11,13,17,1...|  0.0|[19.0469540873004...|[0.95234770436502...|       0.0|\n",
      "|00132e04-4340-4d2...| 57|technician|      married| tertiary|  false|   1103|  false|false| cellular|  4|  may|     399|       2|   -1|       0| unknown|      1|        0.0|      2.0|                0.0|           0.0|          0.0|            1.0|(3,[0],[1.0])|(11,[2],[1.0])|(2,[0],[1.0])|(3,[1],[1.0])|    (2,[0],[1.0])|(11,[0],[1.0])|(39,[2,11,14,16,1...|  0.0|[18.0110231738992...|[0.90055115869496...|       0.0|\n",
      "+--------------------+---+----------+-------------+---------+-------+-------+-------+-----+---------+---+-----+--------+--------+-----+--------+--------+-------+-----------+---------+-------------------+--------------+-------------+---------------+-------------+--------------+-------------+-------------+-----------------+--------------+--------------------+-----+--------------------+--------------------+----------+\n",
      "only showing top 5 rows\n",
      "\n"
     ]
    }
   ],
   "source": [
    "# Make predictions using loaded model\n",
    "\n",
    "tests = loaded_pipeline_model.transform(test_data)\n",
    "\n",
    "tests.show(5)"
   ]
  },
  {
   "cell_type": "code",
   "execution_count": 169,
   "metadata": {},
   "outputs": [
    {
     "name": "stdout",
     "output_type": "stream",
     "text": [
      "Table 'datalake-vol2:datalake_vol2_annotated.bank_test' successfully created.\n"
     ]
    }
   ],
   "source": [
    "bq_table_path = 'datalake_vol2_annotated.bank_test'\n",
    "schema_inline = tests.schema.simpleString().replace('struct<', '').replace('>', '').replace('int', 'int64').replace('bigint64', 'int64').replace('double', 'numeric').replace('vector', 'STRING')\n",
    "\n",
    "!bq mk --table \\\n",
    "{bq_table_path} \\\n",
    "{schema_inline}"
   ]
  },
  {
   "cell_type": "code",
   "execution_count": 174,
   "metadata": {},
   "outputs": [],
   "source": [
    "tests.write \\\n",
    ".format(\"bigquery\") \\\n",
    ".option(\"table\", 'datalake-vol2:datalake_vol2_annotated.bank_test') \\\n",
    ".option(\"temporaryGcsBucket\", \"datalake-vol2-data\") \\\n",
    ".mode('overwrite') \\\n",
    ".save()"
   ]
  },
  {
   "cell_type": "code",
   "execution_count": 175,
   "metadata": {},
   "outputs": [
    {
     "name": "stderr",
     "output_type": "stream",
     "text": [
      "Query complete after 0.00s: 100%|██████████| 1/1 [00:00<00:00, 381.40query/s]                          \n",
      "Downloading: 100%|██████████| 3/3 [00:01<00:00,  2.09rows/s]\n"
     ]
    },
    {
     "data": {
      "text/html": [
       "<div>\n",
       "<style scoped>\n",
       "    .dataframe tbody tr th:only-of-type {\n",
       "        vertical-align: middle;\n",
       "    }\n",
       "\n",
       "    .dataframe tbody tr th {\n",
       "        vertical-align: top;\n",
       "    }\n",
       "\n",
       "    .dataframe thead th {\n",
       "        text-align: right;\n",
       "    }\n",
       "</style>\n",
       "<table border=\"1\" class=\"dataframe\">\n",
       "  <thead>\n",
       "    <tr style=\"text-align: right;\">\n",
       "      <th></th>\n",
       "      <th>table_catalog</th>\n",
       "      <th>table_schema</th>\n",
       "      <th>table_name</th>\n",
       "      <th>table_type</th>\n",
       "      <th>is_insertable_into</th>\n",
       "      <th>is_typed</th>\n",
       "      <th>creation_time</th>\n",
       "    </tr>\n",
       "  </thead>\n",
       "  <tbody>\n",
       "    <tr>\n",
       "      <th>0</th>\n",
       "      <td>datalake-vol2</td>\n",
       "      <td>datalake_vol2_annotated</td>\n",
       "      <td>banking_test</td>\n",
       "      <td>BASE TABLE</td>\n",
       "      <td>YES</td>\n",
       "      <td>NO</td>\n",
       "      <td>2021-01-14 12:17:50.130000+00:00</td>\n",
       "    </tr>\n",
       "    <tr>\n",
       "      <th>1</th>\n",
       "      <td>datalake-vol2</td>\n",
       "      <td>datalake_vol2_annotated</td>\n",
       "      <td>banking_marketing_predict</td>\n",
       "      <td>BASE TABLE</td>\n",
       "      <td>YES</td>\n",
       "      <td>NO</td>\n",
       "      <td>2021-01-11 16:47:22.859000+00:00</td>\n",
       "    </tr>\n",
       "    <tr>\n",
       "      <th>2</th>\n",
       "      <td>datalake-vol2</td>\n",
       "      <td>datalake_vol2_annotated</td>\n",
       "      <td>bank_test</td>\n",
       "      <td>BASE TABLE</td>\n",
       "      <td>YES</td>\n",
       "      <td>NO</td>\n",
       "      <td>2021-01-14 12:17:25.430000+00:00</td>\n",
       "    </tr>\n",
       "  </tbody>\n",
       "</table>\n",
       "</div>"
      ],
      "text/plain": [
       "   table_catalog             table_schema                 table_name  \\\n",
       "0  datalake-vol2  datalake_vol2_annotated               banking_test   \n",
       "1  datalake-vol2  datalake_vol2_annotated  banking_marketing_predict   \n",
       "2  datalake-vol2  datalake_vol2_annotated                  bank_test   \n",
       "\n",
       "   table_type is_insertable_into is_typed                    creation_time  \n",
       "0  BASE TABLE                YES       NO 2021-01-14 12:17:50.130000+00:00  \n",
       "1  BASE TABLE                YES       NO 2021-01-11 16:47:22.859000+00:00  \n",
       "2  BASE TABLE                YES       NO 2021-01-14 12:17:25.430000+00:00  "
      ]
     },
     "execution_count": 175,
     "metadata": {},
     "output_type": "execute_result"
    }
   ],
   "source": [
    "%%bigquery\n",
    "SELECT * FROM datalake_vol2_annotated.INFORMATION_SCHEMA.TABLES;"
   ]
  },
  {
   "cell_type": "markdown",
   "metadata": {},
   "source": [
    "### Predict Results"
   ]
  },
  {
   "cell_type": "code",
   "execution_count": 201,
   "metadata": {},
   "outputs": [
    {
     "name": "stdout",
     "output_type": "stream",
     "text": [
      "root\n",
      " |-- call_id: string (nullable = true)\n",
      " |-- Age: integer (nullable = true)\n",
      " |-- Job: string (nullable = true)\n",
      " |-- MaritalStatus: string (nullable = true)\n",
      " |-- Education: string (nullable = true)\n",
      " |-- Default: boolean (nullable = true)\n",
      " |-- Balance: integer (nullable = true)\n",
      " |-- Housing: boolean (nullable = true)\n",
      " |-- Loan: boolean (nullable = true)\n",
      " |-- Contact: string (nullable = true)\n",
      " |-- Day: integer (nullable = true)\n",
      " |-- Month: string (nullable = true)\n",
      " |-- Duration: integer (nullable = true)\n",
      " |-- Campaign: integer (nullable = true)\n",
      " |-- PDays: integer (nullable = true)\n",
      " |-- Previous: integer (nullable = true)\n",
      " |-- POutcome: string (nullable = true)\n",
      " |-- Deposit: integer (nullable = true)\n",
      "\n"
     ]
    }
   ],
   "source": [
    "path_to_predict_csv = \"gs://datalake-vol2-data/banking_predict_set.csv\"\n",
    "df_bank_predict_from_csv = spark \\\n",
    ".read \\\n",
    ".option(\"inferSchema\" , \"true\") \\\n",
    ".option(\"header\" , \"true\") \\\n",
    ".csv(path_to_predict_csv)\n",
    "df_bank_predict_from_csv.printSchema()"
   ]
  },
  {
   "cell_type": "code",
   "execution_count": 202,
   "metadata": {},
   "outputs": [
    {
     "name": "stdout",
     "output_type": "stream",
     "text": [
      "+----------+-----+--------------------+\n",
      "|prediction|label|            features|\n",
      "+----------+-----+--------------------+\n",
      "|       0.0|  0.0|(39,[0,11,15,16,2...|\n",
      "|       0.0|  0.0|(39,[3,12,13,16,2...|\n",
      "|       0.0|  0.0|(39,[0,12,13,16,2...|\n",
      "|       0.0|  0.0|(39,[5,11,15,16,2...|\n",
      "|       0.0|  0.0|(39,[1,12,14,16,2...|\n",
      "+----------+-----+--------------------+\n",
      "only showing top 5 rows\n",
      "\n"
     ]
    }
   ],
   "source": [
    "# Make predictions on test.\n",
    "predictions = loaded_pipeline_model.transform(df_bank_predict_from_csv)\n",
    "\n",
    "# Select example rows to display.\n",
    "predictions.select(\"prediction\", \"label\", \"features\").show(5)"
   ]
  },
  {
   "cell_type": "code",
   "execution_count": 203,
   "metadata": {},
   "outputs": [
    {
     "name": "stdout",
     "output_type": "stream",
     "text": [
      "+--------------------+---+-----------+-------------+---------+-------+-------+-------+-----+--------+---+-----+--------+--------+-----+--------+--------+-------+-----------+---------+-------------------+--------------+-------------+---------------+-------------+--------------+-------------+-------------+-----------------+--------------+--------------------+-----+--------------------+--------------------+----------+\n",
      "|             call_id|Age|        Job|MaritalStatus|Education|Default|Balance|Housing| Loan| Contact|Day|Month|Duration|Campaign|PDays|Previous|POutcome|Deposit|Month_Index|Job_Index|MaritalStatus_Index|POutcome_Index|Contact_Index|Education_Index| POutcome_OHE|       Job_OHE|  Contact_OHE|Education_OHE|MaritalStatus_OHE|     Month_OHE|            features|label|       rawPrediction|         probability|prediction|\n",
      "+--------------------+---+-----------+-------------+---------+-------+-------+-------+-----+--------+---+-----+--------+--------+-----+--------+--------+-------+-----------+---------+-------------------+--------------+-------------+---------------+-------------+--------------+-------------+-------------+-----------------+--------------+--------------------+-----+--------------------+--------------------+----------+\n",
      "|2d33a1aa-fcb2-474...| 32|blue-collar|      married|  primary|  false|    -56|   true| true|cellular| 17|  apr|     405|       2|  305|      20|   other|      1|        5.0|      0.0|                0.0|           2.0|          0.0|            2.0|(3,[2],[1.0])|(11,[0],[1.0])|(2,[0],[1.0])|(3,[2],[1.0])|    (2,[0],[1.0])|(11,[5],[1.0])|(39,[0,11,15,16,2...|  0.0|[16.2193031425206...|[0.81096515712603...|       0.0|\n",
      "|5b85bc40-b1fb-4ec...| 32|     admin.|       single|secondary|  false|    103|   true|false|cellular| 17|  apr|     158|       1|  337|       1|   other|      1|        5.0|      3.0|                1.0|           2.0|          0.0|            0.0|(3,[2],[1.0])|(11,[3],[1.0])|(2,[0],[1.0])|(3,[0],[1.0])|    (2,[1],[1.0])|(11,[5],[1.0])|(39,[3,12,13,16,2...|  0.0|[16.8207028939665...|[0.84103514469832...|       0.0|\n",
      "|8692a0b6-b4bd-470...| 29|blue-collar|       single|secondary|  false|    314|   true|false|cellular|  9|  apr|     161|       1|  316|       2|   other|      1|        5.0|      0.0|                1.0|           2.0|          0.0|            0.0|(3,[2],[1.0])|(11,[0],[1.0])|(2,[0],[1.0])|(3,[0],[1.0])|    (2,[1],[1.0])|(11,[5],[1.0])|(39,[0,12,13,16,2...|  0.0|[17.0002656621162...|[0.85001328310581...|       0.0|\n",
      "|74c1a1a5-eaee-40a...| 60|    retired|      married|  primary|  false|      0|   true|false|cellular| 17|  apr|      68|       3|  343|       1|   other|      1|        5.0|      5.0|                0.0|           2.0|          0.0|            2.0|(3,[2],[1.0])|(11,[5],[1.0])|(2,[0],[1.0])|(3,[2],[1.0])|    (2,[0],[1.0])|(11,[5],[1.0])|(39,[5,11,15,16,2...|  0.0|[17.1415638782710...|[0.85707819391355...|       0.0|\n",
      "|d74e8230-30eb-4f5...| 33| management|       single| tertiary|  false|   1423|   true|false|cellular| 16|  apr|     633|       3|  248|       2|   other|      1|        5.0|      1.0|                1.0|           2.0|          0.0|            1.0|(3,[2],[1.0])|(11,[1],[1.0])|(2,[0],[1.0])|(3,[1],[1.0])|    (2,[1],[1.0])|(11,[5],[1.0])|(39,[1,12,14,16,2...|  0.0|[13.7538902877193...|[0.68769451438596...|       0.0|\n",
      "+--------------------+---+-----------+-------------+---------+-------+-------+-------+-----+--------+---+-----+--------+--------+-----+--------+--------+-------+-----------+---------+-------------------+--------------+-------------+---------------+-------------+--------------+-------------+-------------+-----------------+--------------+--------------------+-----+--------------------+--------------------+----------+\n",
      "only showing top 5 rows\n",
      "\n"
     ]
    }
   ],
   "source": [
    "predictions.show(5)"
   ]
  },
  {
   "cell_type": "markdown",
   "metadata": {},
   "source": [
    "### Join Data"
   ]
  },
  {
   "cell_type": "code",
   "execution_count": 204,
   "metadata": {},
   "outputs": [
    {
     "name": "stdout",
     "output_type": "stream",
     "text": [
      "root\n",
      " |-- call_id: string (nullable = true)\n",
      " |-- account_number: integer (nullable = true)\n",
      "\n"
     ]
    }
   ],
   "source": [
    "path_to_join_csv = \"gs://datalake-vol2-data/banking_join.csv\"\n",
    "df_bank_join_from_csv = spark \\\n",
    ".read \\\n",
    ".option(\"inferSchema\" , \"true\") \\\n",
    ".option(\"header\" , \"true\") \\\n",
    ".csv(path_to_join_csv)\n",
    "df_bank_join_from_csv.printSchema()"
   ]
  },
  {
   "cell_type": "code",
   "execution_count": 209,
   "metadata": {},
   "outputs": [],
   "source": [
    "predictions = predictions.toPandas()\n",
    "df_bank_join_from_csv = df_bank_join_from_csv.toPandas()\n",
    "result = pd.merge(predictions, df_bank_join_from_csv, on=['call_id','call_id'])"
   ]
  },
  {
   "cell_type": "code",
   "execution_count": 210,
   "metadata": {},
   "outputs": [
    {
     "data": {
      "text/html": [
       "<div>\n",
       "<style scoped>\n",
       "    .dataframe tbody tr th:only-of-type {\n",
       "        vertical-align: middle;\n",
       "    }\n",
       "\n",
       "    .dataframe tbody tr th {\n",
       "        vertical-align: top;\n",
       "    }\n",
       "\n",
       "    .dataframe thead th {\n",
       "        text-align: right;\n",
       "    }\n",
       "</style>\n",
       "<table border=\"1\" class=\"dataframe\">\n",
       "  <thead>\n",
       "    <tr style=\"text-align: right;\">\n",
       "      <th></th>\n",
       "      <th>call_id</th>\n",
       "      <th>Age</th>\n",
       "      <th>Job</th>\n",
       "      <th>MaritalStatus</th>\n",
       "      <th>Education</th>\n",
       "      <th>Default</th>\n",
       "      <th>Balance</th>\n",
       "      <th>Housing</th>\n",
       "      <th>Loan</th>\n",
       "      <th>Contact</th>\n",
       "      <th>...</th>\n",
       "      <th>Contact_OHE</th>\n",
       "      <th>Education_OHE</th>\n",
       "      <th>MaritalStatus_OHE</th>\n",
       "      <th>Month_OHE</th>\n",
       "      <th>features</th>\n",
       "      <th>label</th>\n",
       "      <th>rawPrediction</th>\n",
       "      <th>probability</th>\n",
       "      <th>prediction</th>\n",
       "      <th>account_number</th>\n",
       "    </tr>\n",
       "  </thead>\n",
       "  <tbody>\n",
       "    <tr>\n",
       "      <th>0</th>\n",
       "      <td>2d33a1aa-fcb2-4745-a4b7-e1450a975988</td>\n",
       "      <td>32</td>\n",
       "      <td>blue-collar</td>\n",
       "      <td>married</td>\n",
       "      <td>primary</td>\n",
       "      <td>False</td>\n",
       "      <td>-56</td>\n",
       "      <td>True</td>\n",
       "      <td>True</td>\n",
       "      <td>cellular</td>\n",
       "      <td>...</td>\n",
       "      <td>(1.0, 0.0)</td>\n",
       "      <td>(0.0, 0.0, 1.0)</td>\n",
       "      <td>(1.0, 0.0)</td>\n",
       "      <td>(0.0, 0.0, 0.0, 0.0, 0.0, 1.0, 0.0, 0.0, 0.0, ...</td>\n",
       "      <td>(1.0, 0.0, 0.0, 0.0, 0.0, 0.0, 0.0, 0.0, 0.0, ...</td>\n",
       "      <td>0.0</td>\n",
       "      <td>[16.219303142520648, 3.7806968574793562]</td>\n",
       "      <td>[0.8109651571260322, 0.18903484287396777]</td>\n",
       "      <td>0.0</td>\n",
       "      <td>54609395</td>\n",
       "    </tr>\n",
       "    <tr>\n",
       "      <th>1</th>\n",
       "      <td>5b85bc40-b1fb-4eca-a42a-d0743b480ac7</td>\n",
       "      <td>32</td>\n",
       "      <td>admin.</td>\n",
       "      <td>single</td>\n",
       "      <td>secondary</td>\n",
       "      <td>False</td>\n",
       "      <td>103</td>\n",
       "      <td>True</td>\n",
       "      <td>False</td>\n",
       "      <td>cellular</td>\n",
       "      <td>...</td>\n",
       "      <td>(1.0, 0.0)</td>\n",
       "      <td>(1.0, 0.0, 0.0)</td>\n",
       "      <td>(0.0, 1.0)</td>\n",
       "      <td>(0.0, 0.0, 0.0, 0.0, 0.0, 1.0, 0.0, 0.0, 0.0, ...</td>\n",
       "      <td>(0.0, 0.0, 0.0, 1.0, 0.0, 0.0, 0.0, 0.0, 0.0, ...</td>\n",
       "      <td>0.0</td>\n",
       "      <td>[16.820702893966505, 3.1792971060335025]</td>\n",
       "      <td>[0.841035144698325, 0.15896485530167506]</td>\n",
       "      <td>0.0</td>\n",
       "      <td>61634206</td>\n",
       "    </tr>\n",
       "    <tr>\n",
       "      <th>2</th>\n",
       "      <td>8692a0b6-b4bd-470f-8cfa-65595ceb43ad</td>\n",
       "      <td>29</td>\n",
       "      <td>blue-collar</td>\n",
       "      <td>single</td>\n",
       "      <td>secondary</td>\n",
       "      <td>False</td>\n",
       "      <td>314</td>\n",
       "      <td>True</td>\n",
       "      <td>False</td>\n",
       "      <td>cellular</td>\n",
       "      <td>...</td>\n",
       "      <td>(1.0, 0.0)</td>\n",
       "      <td>(1.0, 0.0, 0.0)</td>\n",
       "      <td>(0.0, 1.0)</td>\n",
       "      <td>(0.0, 0.0, 0.0, 0.0, 0.0, 1.0, 0.0, 0.0, 0.0, ...</td>\n",
       "      <td>(1.0, 0.0, 0.0, 0.0, 0.0, 0.0, 0.0, 0.0, 0.0, ...</td>\n",
       "      <td>0.0</td>\n",
       "      <td>[17.000265662116227, 2.9997343378837775]</td>\n",
       "      <td>[0.8500132831058113, 0.14998671689418885]</td>\n",
       "      <td>0.0</td>\n",
       "      <td>23075661</td>\n",
       "    </tr>\n",
       "    <tr>\n",
       "      <th>3</th>\n",
       "      <td>74c1a1a5-eaee-40a8-a64e-7be48c5457f1</td>\n",
       "      <td>60</td>\n",
       "      <td>retired</td>\n",
       "      <td>married</td>\n",
       "      <td>primary</td>\n",
       "      <td>False</td>\n",
       "      <td>0</td>\n",
       "      <td>True</td>\n",
       "      <td>False</td>\n",
       "      <td>cellular</td>\n",
       "      <td>...</td>\n",
       "      <td>(1.0, 0.0)</td>\n",
       "      <td>(0.0, 0.0, 1.0)</td>\n",
       "      <td>(1.0, 0.0)</td>\n",
       "      <td>(0.0, 0.0, 0.0, 0.0, 0.0, 1.0, 0.0, 0.0, 0.0, ...</td>\n",
       "      <td>(0.0, 0.0, 0.0, 0.0, 0.0, 1.0, 0.0, 0.0, 0.0, ...</td>\n",
       "      <td>0.0</td>\n",
       "      <td>[17.141563878271093, 2.8584361217289147]</td>\n",
       "      <td>[0.8570781939135543, 0.1429218060864457]</td>\n",
       "      <td>0.0</td>\n",
       "      <td>25150644</td>\n",
       "    </tr>\n",
       "    <tr>\n",
       "      <th>4</th>\n",
       "      <td>d74e8230-30eb-4f54-a29d-4b6a03239acd</td>\n",
       "      <td>33</td>\n",
       "      <td>management</td>\n",
       "      <td>single</td>\n",
       "      <td>tertiary</td>\n",
       "      <td>False</td>\n",
       "      <td>1423</td>\n",
       "      <td>True</td>\n",
       "      <td>False</td>\n",
       "      <td>cellular</td>\n",
       "      <td>...</td>\n",
       "      <td>(1.0, 0.0)</td>\n",
       "      <td>(0.0, 1.0, 0.0)</td>\n",
       "      <td>(0.0, 1.0)</td>\n",
       "      <td>(0.0, 0.0, 0.0, 0.0, 0.0, 1.0, 0.0, 0.0, 0.0, ...</td>\n",
       "      <td>(0.0, 1.0, 0.0, 0.0, 0.0, 0.0, 0.0, 0.0, 0.0, ...</td>\n",
       "      <td>0.0</td>\n",
       "      <td>[13.753890287719315, 6.246109712280687]</td>\n",
       "      <td>[0.6876945143859657, 0.3123054856140343]</td>\n",
       "      <td>0.0</td>\n",
       "      <td>57323608</td>\n",
       "    </tr>\n",
       "    <tr>\n",
       "      <th>...</th>\n",
       "      <td>...</td>\n",
       "      <td>...</td>\n",
       "      <td>...</td>\n",
       "      <td>...</td>\n",
       "      <td>...</td>\n",
       "      <td>...</td>\n",
       "      <td>...</td>\n",
       "      <td>...</td>\n",
       "      <td>...</td>\n",
       "      <td>...</td>\n",
       "      <td>...</td>\n",
       "      <td>...</td>\n",
       "      <td>...</td>\n",
       "      <td>...</td>\n",
       "      <td>...</td>\n",
       "      <td>...</td>\n",
       "      <td>...</td>\n",
       "      <td>...</td>\n",
       "      <td>...</td>\n",
       "      <td>...</td>\n",
       "      <td>...</td>\n",
       "    </tr>\n",
       "    <tr>\n",
       "      <th>4554</th>\n",
       "      <td>2df245d2-8152-4141-92c9-89f9c79701a5</td>\n",
       "      <td>19</td>\n",
       "      <td>student</td>\n",
       "      <td>single</td>\n",
       "      <td>secondary</td>\n",
       "      <td>False</td>\n",
       "      <td>88</td>\n",
       "      <td>False</td>\n",
       "      <td>False</td>\n",
       "      <td>cellular</td>\n",
       "      <td>...</td>\n",
       "      <td>(1.0, 0.0)</td>\n",
       "      <td>(1.0, 0.0, 0.0)</td>\n",
       "      <td>(0.0, 1.0)</td>\n",
       "      <td>(0.0, 0.0, 0.0, 0.0, 0.0, 0.0, 0.0, 0.0, 0.0, ...</td>\n",
       "      <td>(0.0, 0.0, 0.0, 0.0, 0.0, 0.0, 0.0, 0.0, 0.0, ...</td>\n",
       "      <td>0.0</td>\n",
       "      <td>[15.748316175079738, 4.251683824920261]</td>\n",
       "      <td>[0.7874158087539869, 0.21258419124601305]</td>\n",
       "      <td>0.0</td>\n",
       "      <td>91123689</td>\n",
       "    </tr>\n",
       "    <tr>\n",
       "      <th>4555</th>\n",
       "      <td>c49a76d0-94fd-4451-9b30-0810533aeff5</td>\n",
       "      <td>65</td>\n",
       "      <td>retired</td>\n",
       "      <td>married</td>\n",
       "      <td>primary</td>\n",
       "      <td>False</td>\n",
       "      <td>308</td>\n",
       "      <td>False</td>\n",
       "      <td>False</td>\n",
       "      <td>cellular</td>\n",
       "      <td>...</td>\n",
       "      <td>(1.0, 0.0)</td>\n",
       "      <td>(0.0, 0.0, 1.0)</td>\n",
       "      <td>(1.0, 0.0)</td>\n",
       "      <td>(0.0, 0.0, 0.0, 0.0, 0.0, 0.0, 0.0, 0.0, 0.0, ...</td>\n",
       "      <td>(0.0, 0.0, 0.0, 0.0, 0.0, 1.0, 0.0, 0.0, 0.0, ...</td>\n",
       "      <td>1.0</td>\n",
       "      <td>[15.512640992203687, 4.487359007796313]</td>\n",
       "      <td>[0.7756320496101844, 0.22436795038981563]</td>\n",
       "      <td>0.0</td>\n",
       "      <td>42013046</td>\n",
       "    </tr>\n",
       "    <tr>\n",
       "      <th>4556</th>\n",
       "      <td>3c104f26-7702-4e06-b01f-e4aba3b2df13</td>\n",
       "      <td>42</td>\n",
       "      <td>management</td>\n",
       "      <td>single</td>\n",
       "      <td>tertiary</td>\n",
       "      <td>False</td>\n",
       "      <td>0</td>\n",
       "      <td>False</td>\n",
       "      <td>False</td>\n",
       "      <td>cellular</td>\n",
       "      <td>...</td>\n",
       "      <td>(1.0, 0.0)</td>\n",
       "      <td>(0.0, 1.0, 0.0)</td>\n",
       "      <td>(0.0, 1.0)</td>\n",
       "      <td>(0.0, 0.0, 0.0, 0.0, 0.0, 0.0, 0.0, 0.0, 0.0, ...</td>\n",
       "      <td>(0.0, 1.0, 0.0, 0.0, 0.0, 0.0, 0.0, 0.0, 0.0, ...</td>\n",
       "      <td>0.0</td>\n",
       "      <td>[17.468086461920187, 2.5319135380798112]</td>\n",
       "      <td>[0.8734043230960093, 0.12659567690399057]</td>\n",
       "      <td>0.0</td>\n",
       "      <td>57833130</td>\n",
       "    </tr>\n",
       "    <tr>\n",
       "      <th>4557</th>\n",
       "      <td>c165e67f-f867-4268-9772-0cccef472781</td>\n",
       "      <td>45</td>\n",
       "      <td>management</td>\n",
       "      <td>married</td>\n",
       "      <td>tertiary</td>\n",
       "      <td>False</td>\n",
       "      <td>786</td>\n",
       "      <td>False</td>\n",
       "      <td>False</td>\n",
       "      <td>cellular</td>\n",
       "      <td>...</td>\n",
       "      <td>(1.0, 0.0)</td>\n",
       "      <td>(0.0, 1.0, 0.0)</td>\n",
       "      <td>(1.0, 0.0)</td>\n",
       "      <td>(0.0, 0.0, 0.0, 0.0, 0.0, 0.0, 0.0, 0.0, 0.0, ...</td>\n",
       "      <td>(0.0, 1.0, 0.0, 0.0, 0.0, 0.0, 0.0, 0.0, 0.0, ...</td>\n",
       "      <td>1.0</td>\n",
       "      <td>[16.799695936124497, 3.200304063875503]</td>\n",
       "      <td>[0.8399847968062248, 0.16001520319377516]</td>\n",
       "      <td>0.0</td>\n",
       "      <td>28880299</td>\n",
       "    </tr>\n",
       "    <tr>\n",
       "      <th>4558</th>\n",
       "      <td>1ba0f0cc-e027-4a17-9188-e10aee80fcc5</td>\n",
       "      <td>36</td>\n",
       "      <td>unemployed</td>\n",
       "      <td>married</td>\n",
       "      <td>secondary</td>\n",
       "      <td>False</td>\n",
       "      <td>17458</td>\n",
       "      <td>False</td>\n",
       "      <td>False</td>\n",
       "      <td>cellular</td>\n",
       "      <td>...</td>\n",
       "      <td>(1.0, 0.0)</td>\n",
       "      <td>(1.0, 0.0, 0.0)</td>\n",
       "      <td>(1.0, 0.0)</td>\n",
       "      <td>(0.0, 0.0, 0.0, 0.0, 0.0, 0.0, 0.0, 0.0, 0.0, ...</td>\n",
       "      <td>(0.0, 0.0, 0.0, 0.0, 0.0, 0.0, 0.0, 0.0, 1.0, ...</td>\n",
       "      <td>0.0</td>\n",
       "      <td>[15.736812132753476, 4.263187867246523]</td>\n",
       "      <td>[0.7868406066376739, 0.21315939336232614]</td>\n",
       "      <td>0.0</td>\n",
       "      <td>17317748</td>\n",
       "    </tr>\n",
       "  </tbody>\n",
       "</table>\n",
       "<p>4559 rows × 36 columns</p>\n",
       "</div>"
      ],
      "text/plain": [
       "                                   call_id  Age          Job MaritalStatus  \\\n",
       "0     2d33a1aa-fcb2-4745-a4b7-e1450a975988   32  blue-collar       married   \n",
       "1     5b85bc40-b1fb-4eca-a42a-d0743b480ac7   32       admin.        single   \n",
       "2     8692a0b6-b4bd-470f-8cfa-65595ceb43ad   29  blue-collar        single   \n",
       "3     74c1a1a5-eaee-40a8-a64e-7be48c5457f1   60      retired       married   \n",
       "4     d74e8230-30eb-4f54-a29d-4b6a03239acd   33   management        single   \n",
       "...                                    ...  ...          ...           ...   \n",
       "4554  2df245d2-8152-4141-92c9-89f9c79701a5   19      student        single   \n",
       "4555  c49a76d0-94fd-4451-9b30-0810533aeff5   65      retired       married   \n",
       "4556  3c104f26-7702-4e06-b01f-e4aba3b2df13   42   management        single   \n",
       "4557  c165e67f-f867-4268-9772-0cccef472781   45   management       married   \n",
       "4558  1ba0f0cc-e027-4a17-9188-e10aee80fcc5   36   unemployed       married   \n",
       "\n",
       "      Education  Default  Balance  Housing   Loan   Contact  ...  Contact_OHE  \\\n",
       "0       primary    False      -56     True   True  cellular  ...   (1.0, 0.0)   \n",
       "1     secondary    False      103     True  False  cellular  ...   (1.0, 0.0)   \n",
       "2     secondary    False      314     True  False  cellular  ...   (1.0, 0.0)   \n",
       "3       primary    False        0     True  False  cellular  ...   (1.0, 0.0)   \n",
       "4      tertiary    False     1423     True  False  cellular  ...   (1.0, 0.0)   \n",
       "...         ...      ...      ...      ...    ...       ...  ...          ...   \n",
       "4554  secondary    False       88    False  False  cellular  ...   (1.0, 0.0)   \n",
       "4555    primary    False      308    False  False  cellular  ...   (1.0, 0.0)   \n",
       "4556   tertiary    False        0    False  False  cellular  ...   (1.0, 0.0)   \n",
       "4557   tertiary    False      786    False  False  cellular  ...   (1.0, 0.0)   \n",
       "4558  secondary    False    17458    False  False  cellular  ...   (1.0, 0.0)   \n",
       "\n",
       "        Education_OHE  MaritalStatus_OHE  \\\n",
       "0     (0.0, 0.0, 1.0)         (1.0, 0.0)   \n",
       "1     (1.0, 0.0, 0.0)         (0.0, 1.0)   \n",
       "2     (1.0, 0.0, 0.0)         (0.0, 1.0)   \n",
       "3     (0.0, 0.0, 1.0)         (1.0, 0.0)   \n",
       "4     (0.0, 1.0, 0.0)         (0.0, 1.0)   \n",
       "...               ...                ...   \n",
       "4554  (1.0, 0.0, 0.0)         (0.0, 1.0)   \n",
       "4555  (0.0, 0.0, 1.0)         (1.0, 0.0)   \n",
       "4556  (0.0, 1.0, 0.0)         (0.0, 1.0)   \n",
       "4557  (0.0, 1.0, 0.0)         (1.0, 0.0)   \n",
       "4558  (1.0, 0.0, 0.0)         (1.0, 0.0)   \n",
       "\n",
       "                                              Month_OHE  \\\n",
       "0     (0.0, 0.0, 0.0, 0.0, 0.0, 1.0, 0.0, 0.0, 0.0, ...   \n",
       "1     (0.0, 0.0, 0.0, 0.0, 0.0, 1.0, 0.0, 0.0, 0.0, ...   \n",
       "2     (0.0, 0.0, 0.0, 0.0, 0.0, 1.0, 0.0, 0.0, 0.0, ...   \n",
       "3     (0.0, 0.0, 0.0, 0.0, 0.0, 1.0, 0.0, 0.0, 0.0, ...   \n",
       "4     (0.0, 0.0, 0.0, 0.0, 0.0, 1.0, 0.0, 0.0, 0.0, ...   \n",
       "...                                                 ...   \n",
       "4554  (0.0, 0.0, 0.0, 0.0, 0.0, 0.0, 0.0, 0.0, 0.0, ...   \n",
       "4555  (0.0, 0.0, 0.0, 0.0, 0.0, 0.0, 0.0, 0.0, 0.0, ...   \n",
       "4556  (0.0, 0.0, 0.0, 0.0, 0.0, 0.0, 0.0, 0.0, 0.0, ...   \n",
       "4557  (0.0, 0.0, 0.0, 0.0, 0.0, 0.0, 0.0, 0.0, 0.0, ...   \n",
       "4558  (0.0, 0.0, 0.0, 0.0, 0.0, 0.0, 0.0, 0.0, 0.0, ...   \n",
       "\n",
       "                                               features  label  \\\n",
       "0     (1.0, 0.0, 0.0, 0.0, 0.0, 0.0, 0.0, 0.0, 0.0, ...    0.0   \n",
       "1     (0.0, 0.0, 0.0, 1.0, 0.0, 0.0, 0.0, 0.0, 0.0, ...    0.0   \n",
       "2     (1.0, 0.0, 0.0, 0.0, 0.0, 0.0, 0.0, 0.0, 0.0, ...    0.0   \n",
       "3     (0.0, 0.0, 0.0, 0.0, 0.0, 1.0, 0.0, 0.0, 0.0, ...    0.0   \n",
       "4     (0.0, 1.0, 0.0, 0.0, 0.0, 0.0, 0.0, 0.0, 0.0, ...    0.0   \n",
       "...                                                 ...    ...   \n",
       "4554  (0.0, 0.0, 0.0, 0.0, 0.0, 0.0, 0.0, 0.0, 0.0, ...    0.0   \n",
       "4555  (0.0, 0.0, 0.0, 0.0, 0.0, 1.0, 0.0, 0.0, 0.0, ...    1.0   \n",
       "4556  (0.0, 1.0, 0.0, 0.0, 0.0, 0.0, 0.0, 0.0, 0.0, ...    0.0   \n",
       "4557  (0.0, 1.0, 0.0, 0.0, 0.0, 0.0, 0.0, 0.0, 0.0, ...    1.0   \n",
       "4558  (0.0, 0.0, 0.0, 0.0, 0.0, 0.0, 0.0, 0.0, 1.0, ...    0.0   \n",
       "\n",
       "                                 rawPrediction  \\\n",
       "0     [16.219303142520648, 3.7806968574793562]   \n",
       "1     [16.820702893966505, 3.1792971060335025]   \n",
       "2     [17.000265662116227, 2.9997343378837775]   \n",
       "3     [17.141563878271093, 2.8584361217289147]   \n",
       "4      [13.753890287719315, 6.246109712280687]   \n",
       "...                                        ...   \n",
       "4554   [15.748316175079738, 4.251683824920261]   \n",
       "4555   [15.512640992203687, 4.487359007796313]   \n",
       "4556  [17.468086461920187, 2.5319135380798112]   \n",
       "4557   [16.799695936124497, 3.200304063875503]   \n",
       "4558   [15.736812132753476, 4.263187867246523]   \n",
       "\n",
       "                                    probability  prediction  account_number  \n",
       "0     [0.8109651571260322, 0.18903484287396777]         0.0        54609395  \n",
       "1      [0.841035144698325, 0.15896485530167506]         0.0        61634206  \n",
       "2     [0.8500132831058113, 0.14998671689418885]         0.0        23075661  \n",
       "3      [0.8570781939135543, 0.1429218060864457]         0.0        25150644  \n",
       "4      [0.6876945143859657, 0.3123054856140343]         0.0        57323608  \n",
       "...                                         ...         ...             ...  \n",
       "4554  [0.7874158087539869, 0.21258419124601305]         0.0        91123689  \n",
       "4555  [0.7756320496101844, 0.22436795038981563]         0.0        42013046  \n",
       "4556  [0.8734043230960093, 0.12659567690399057]         0.0        57833130  \n",
       "4557  [0.8399847968062248, 0.16001520319377516]         0.0        28880299  \n",
       "4558  [0.7868406066376739, 0.21315939336232614]         0.0        17317748  \n",
       "\n",
       "[4559 rows x 36 columns]"
      ]
     },
     "execution_count": 210,
     "metadata": {},
     "output_type": "execute_result"
    }
   ],
   "source": [
    "result"
   ]
  },
  {
   "cell_type": "markdown",
   "metadata": {},
   "source": [
    "### Store result to Enriched Zone"
   ]
  },
  {
   "cell_type": "code",
   "execution_count": 216,
   "metadata": {},
   "outputs": [],
   "source": [
    "result = spark.createDataFrame(result)"
   ]
  },
  {
   "cell_type": "code",
   "execution_count": 219,
   "metadata": {},
   "outputs": [
    {
     "name": "stdout",
     "output_type": "stream",
     "text": [
      "Table 'datalake-vol2:datalake_vol2_enriched.bank_result' successfully created.\n"
     ]
    }
   ],
   "source": [
    "bq_result_table_path = 'datalake-vol2:datalake_vol2_enriched.bank_result'\n",
    "schema_inline = result.schema.simpleString().replace('struct<', '').replace('>', '').replace('int', 'int64').replace('bigint64', 'int64').replace('double', 'numeric').replace('vector', 'STRING')\n",
    "\n",
    "!bq mk --table \\\n",
    "{bq_result_table_path} \\\n",
    "{schema_inline}"
   ]
  },
  {
   "cell_type": "code",
   "execution_count": 220,
   "metadata": {},
   "outputs": [],
   "source": [
    "result.write \\\n",
    ".format(\"bigquery\") \\\n",
    ".option(\"table\", bq_result_table_path) \\\n",
    ".option(\"temporaryGcsBucket\", \"datalake-vol2-data\") \\\n",
    ".mode('overwrite') \\\n",
    ".save()"
   ]
  },
  {
   "cell_type": "code",
   "execution_count": 222,
   "metadata": {},
   "outputs": [
    {
     "name": "stderr",
     "output_type": "stream",
     "text": [
      "Query complete after 0.00s: 100%|██████████| 1/1 [00:00<00:00, 360.61query/s]                          \n",
      "Downloading: 100%|██████████| 1/1 [00:02<00:00,  2.61s/rows]\n"
     ]
    },
    {
     "data": {
      "text/html": [
       "<div>\n",
       "<style scoped>\n",
       "    .dataframe tbody tr th:only-of-type {\n",
       "        vertical-align: middle;\n",
       "    }\n",
       "\n",
       "    .dataframe tbody tr th {\n",
       "        vertical-align: top;\n",
       "    }\n",
       "\n",
       "    .dataframe thead th {\n",
       "        text-align: right;\n",
       "    }\n",
       "</style>\n",
       "<table border=\"1\" class=\"dataframe\">\n",
       "  <thead>\n",
       "    <tr style=\"text-align: right;\">\n",
       "      <th></th>\n",
       "      <th>table_catalog</th>\n",
       "      <th>table_schema</th>\n",
       "      <th>table_name</th>\n",
       "      <th>table_type</th>\n",
       "      <th>is_insertable_into</th>\n",
       "      <th>is_typed</th>\n",
       "      <th>creation_time</th>\n",
       "    </tr>\n",
       "  </thead>\n",
       "  <tbody>\n",
       "    <tr>\n",
       "      <th>0</th>\n",
       "      <td>datalake-vol2</td>\n",
       "      <td>datalake_vol2_enriched</td>\n",
       "      <td>bank_result</td>\n",
       "      <td>BASE TABLE</td>\n",
       "      <td>YES</td>\n",
       "      <td>NO</td>\n",
       "      <td>2021-01-14 12:51:00.955000+00:00</td>\n",
       "    </tr>\n",
       "  </tbody>\n",
       "</table>\n",
       "</div>"
      ],
      "text/plain": [
       "   table_catalog            table_schema   table_name  table_type  \\\n",
       "0  datalake-vol2  datalake_vol2_enriched  bank_result  BASE TABLE   \n",
       "\n",
       "  is_insertable_into is_typed                    creation_time  \n",
       "0                YES       NO 2021-01-14 12:51:00.955000+00:00  "
      ]
     },
     "execution_count": 222,
     "metadata": {},
     "output_type": "execute_result"
    }
   ],
   "source": [
    "%%bigquery\n",
    "SELECT * FROM datalake_vol2_enriched.INFORMATION_SCHEMA.TABLES;"
   ]
  },
  {
   "cell_type": "code",
   "execution_count": null,
   "metadata": {},
   "outputs": [],
   "source": []
  }
 ],
 "metadata": {
  "colab": {
   "name": "test-1.ipynb",
   "provenance": []
  },
  "kernelspec": {
   "display_name": "PySpark",
   "language": "python",
   "name": "pyspark"
  },
  "language_info": {
   "codemirror_mode": {
    "name": "ipython",
    "version": 3
   },
   "file_extension": ".py",
   "mimetype": "text/x-python",
   "name": "python",
   "nbconvert_exporter": "python",
   "pygments_lexer": "ipython3",
   "version": "3.8.6"
  }
 },
 "nbformat": 4,
 "nbformat_minor": 4
}
