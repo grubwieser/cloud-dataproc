{
 "cells": [
  {
   "cell_type": "code",
   "execution_count": 132,
   "metadata": {},
   "outputs": [],
   "source": [
    "# Copyright 2020 Google LLC\n",
    "#\n",
    "# Licensed under the Apache License, Version 2.0 (the \"License\");\n",
    "# you may not use this file except in compliance with the License.\n",
    "# You may obtain a copy of the License at\n",
    "#\n",
    "#     https://www.apache.org/licenses/LICENSE-2.0\n",
    "#\n",
    "# Unless required by applicable law or agreed to in writing, software\n",
    "# distributed under the License is distributed on an \"AS IS\" BASIS,\n",
    "# WITHOUT WARRANTIES OR CONDITIONS OF ANY KIND, either express or implied.\n",
    "# See the License for the specific language governing permissions and\n",
    "# limitations under the License."
   ]
  },
  {
   "cell_type": "markdown",
   "metadata": {},
   "source": [
    "# Apache Spark on Dataproc - Bank Marketing Demo\n",
    "\n",
    "Demo video link - https://www.youtube.com/watch?v=RbLOi1Cgsmo&feature=emb_title\n",
    "\n",
    "![Apache Spark on Dataproc - Bank Marketing Demo](https://github.com/tfayyaz/cloud-dataproc/raw/fab205057b5fd4f3138ae6858212f1594b43df63/notebooks/examples/datalake_spark_bank_demo.png)\n",
    "\n",
    "Apache Spark on Dataproc provides features to allow you to build an end to end solution for a wide number of use cases. This demo notebook focuses on using data from a financial services company who can build a data lake on Google Cloud and show how data enginers, data analysts and data scientists can use Apache Spark can work together to build a model to predict if a customer campaign will result in a deposit being made.\n",
    "\n",
    "This notebook can be easily adapted to show to build a model to predict if a loan should be approved as shown in the video above."
   ]
  },
  {
   "cell_type": "markdown",
   "metadata": {},
   "source": [
    "## 1. Set-up Data Lake and Dataproc\n",
    "\n",
    "This demo is designed to be run on Google Cloud Dataproc. Follow these steps to create create a Dataproc Cluster and then copy the notebook to your notebooks folder.\n",
    "\n",
    "These steps should be run in the [Google Cloud Shell](https://cloud.google.com/shell)"
   ]
  },
  {
   "cell_type": "markdown",
   "metadata": {},
   "source": [
    "### 1.1 - Set env configuration\n",
    "\n",
    "```\n",
    "export REGION=us-central1\n",
    "export PROJECT_ID=<project-id>\n",
    "```"
   ]
  },
  {
   "cell_type": "markdown",
   "metadata": {},
   "source": [
    "### 1.2 - Create GCS bucket\n",
    "\n",
    "#### GCS bucket for Dataproc Clusters and Hive Warehouse\n",
    "\n",
    "```\n",
    "export BUCKET_NAME=${PROJECT_ID}-demo\n",
    "\n",
    "gsutil mb -l ${REGION} gs://${BUCKET_NAME}\n",
    "```"
   ]
  },
  {
   "cell_type": "markdown",
   "metadata": {},
   "source": [
    "### 1.3 - Create a Hive Metastore\n",
    "\n",
    "_Note: [Dataproc Metastore](https://cloud.google.com/blog/products/data-analytics/cloud-hive-metastore-now-available) is now available in private Alpha. This section can be replaced with Dataproc Metastore if you have access_\n",
    "\n",
    "#### 1.3.1. Create a Hive Cloud SQL database\n",
    "\n",
    "```\n",
    "gcloud sql instances create hive-metastore-db \\\n",
    "    --database-version=\"MYSQL_5_7\" \\\n",
    "    --activation-policy=ALWAYS \\\n",
    "    --region ${REGION}\n",
    "```\n",
    "\n",
    "#### 1.3.2. Create a Hive Metastore Dataproc Cluster\n",
    "\n",
    "Once the Cloud SQL instance is created create a new Dataproc hive metastore cluster that connects to the cluster.\n",
    "\n",
    "```\n",
    "gcloud dataproc clusters create hive-cluster \\\n",
    "    --async \\\n",
    "    --scopes sql-admin \\\n",
    "    --image-version 1.5 \\\n",
    "    --region ${REGION} \\\n",
    "    --initialization-actions gs://goog-dataproc-initialization-actions-${REGION}/cloud-sql-proxy/cloud-sql-proxy.sh \\\n",
    "    --properties hive:hive.metastore.warehouse.dir=gs://${BUCKET_NAME}/hive-warehouse \\\n",
    "    --metadata \"hive-metastore-instance=${PROJECT_ID}:${REGION}:hive-metastore-db\"\n",
    "```"
   ]
  },
  {
   "cell_type": "markdown",
   "metadata": {},
   "source": [
    "### 1.4 - Create Dataproc cluster with Jupyter, Rapids and GPUs\n",
    "\n",
    "#### 1.4.1. Create Cluster\n",
    "\n",
    "```\n",
    "export CLUSTER_NAME=jupyter-gpu-cluster\n",
    "export NUM_GPUS=2\n",
    "export NUM_WORKERS=2\n",
    "\n",
    "gcloud dataproc clusters create $CLUSTER_NAME  \\\n",
    "    --region $REGION \\\n",
    "    --image-version=preview-ubuntu \\\n",
    "    --master-machine-type n1-standard-4 \\\n",
    "    --num-workers $NUM_WORKERS \\\n",
    "    --worker-accelerator type=nvidia-tesla-t4,count=$NUM_GPUS \\\n",
    "    --worker-machine-type n1-highmem-4\\\n",
    "    --initialization-actions gs://goog-dataproc-initialization-actions-${REGION}/gpu/install_gpu_driver.sh,gs://goog-dataproc-initialization-actions-${REGION}/rapids/rapids.sh \\\n",
    "    --optional-components=ANACONDA,JUPYTER \\\n",
    "    --metadata gpu-driver-provider=\"NVIDIA\" \\\n",
    "    --metadata rapids-runtime=SPARK \\\n",
    "    --scopes https://www.googleapis.com/auth/cloud-platform \\\n",
    "    --bucket $BUCKET_NAME \\\n",
    "    --enable-component-gateway \\\n",
    "    --properties=\"^#^spark:spark.yarn.unmanagedAM.enabled=false\"\n",
    "```"
   ]
  },
  {
   "cell_type": "markdown",
   "metadata": {},
   "source": [
    "### 1.5 - Go to JupyterLab and copy this notebook\n",
    "\n",
    "Once your cluster is ready go follow these steps to copy this notebook:\n",
    "\n",
    "- On the Dataproc cluster UI go to web interfaces tab \n",
    "- Cick on the link to open JupyterLab.\n",
    "- Go the Local Disk folder in JupyterLab\n",
    "- Click on the plus (+) button to open the launcher\n",
    "- Open terminal and run the cmd below to copy the notebook to your cluster\n",
    "\n",
    "```\n",
    "wget https://raw.githubusercontent.com/tfayyaz/cloud-dataproc/master/notebooks/examples/Spark%20-%20Bank%20Marketing%20Demo.ipynb\n",
    "```\n",
    "\n"
   ]
  },
  {
   "cell_type": "markdown",
   "metadata": {},
   "source": [
    "### 1.6 - Run example code in this notebook broken down into these sections\n",
    "\n",
    "- Data Engineer - Convert CSV to Hive Tables (Parquet format)\n",
    "- Data Analyst - Run SQL on tables and plot data\n",
    "- Data Scientist - Create ML models with Spark\n",
    "- Data Ops - Deploy Spark pipeline using Dataproc Workflows"
   ]
  },
  {
   "cell_type": "code",
   "execution_count": 154,
   "metadata": {},
   "outputs": [],
   "source": [
    "# Run this to stop any currently running spark sessions \n",
    "# spark.stop()"
   ]
  },
  {
   "cell_type": "markdown",
   "metadata": {},
   "source": [
    "## 2. Data Engineering - Process CSV files into Hive Tables (Parquet)"
   ]
  },
  {
   "cell_type": "markdown",
   "metadata": {},
   "source": [
    "### Create Spark session with Hive Enabled\n",
    "\n",
    "Create a Spark session, connect to Hive Metastore and enable Hive support in Spark"
   ]
  },
  {
   "cell_type": "code",
   "execution_count": 1,
   "metadata": {},
   "outputs": [],
   "source": [
    "from pyspark.sql import SparkSession\n",
    "from pyspark.sql.types import FloatType, IntegerType, StructField, StructType\n",
    "\n",
    "warehouse_location = 'gs://<project-id>-demo/hive-warehouse'\n",
    "service_endpoint = 'thrift://hive-cluster-m.us-central1-f:9083'\n",
    "\n",
    "from pyspark.sql import SparkSession\n",
    "spark = SparkSession.builder \\\n",
    "  .appName('Spark - Data Eng Demo') \\\n",
    "  .config(\"hive.metastore.uris\", service_endpoint)  \\\n",
    "  .config(\"spark.sql.warehouse.dir\", warehouse_location) \\\n",
    "  .enableHiveSupport() \\\n",
    "  .getOrCreate()"
   ]
  },
  {
   "cell_type": "markdown",
   "metadata": {},
   "source": [
    "Check the first 1000 bytes of a file on GCS"
   ]
  },
  {
   "cell_type": "code",
   "execution_count": 6,
   "metadata": {},
   "outputs": [
    {
     "name": "stdout",
     "output_type": "stream",
     "text": [
      "==> gs://cloud-ml-tables-data/bank-marketing.csv <==\n",
      "Age,Job,MaritalStatus,Education,Default,Balance,Housing,Loan,Contact,Day,Month,Duration,Campaign,PDays,Previous,POutcome,Deposit\n",
      "58,management,married,tertiary,no,2143,yes,no,unknown,5,may,261,1,-1,0,unknown,1\n",
      "44,technician,single,secondary,no,29,yes,no,unknown,5,may,151,1,-1,0,unknown,1\n",
      "33,entrepreneur,married,secondary,no,2,yes,yes,unknown,5,may,76,1,-1,0,unknown,1\n",
      "47,blue-collar,married,unknown,no,1506,yes,no,unknown,5,may,92,1,-1,0,unknown,1\n",
      "33,unknown,single,unknown,no,1,no,no,unknown,5,may,198,1,-1,0,unknown,1\n",
      "35,management,married,tertiary,no,231,yes,no,unknown,5,may,139,1,-1,0,unknown,1\n",
      "28,management,single,tertiary,no,447,yes,yes,unknown,5,may,217,1,-1,0,unknown,1\n",
      "42,entrepreneur,divorced,tertiary,yes,2,yes,no,unknown,5,may,380,1,-1,0,unknown,1\n",
      "58,retired,married,primary,no,121,yes,no,unknown,5,may,50,1,-1,0,unknown,1\n",
      "43,technician,single,secondary,no,593,yes,no,unknown,5,may,55,1,-1,0,unknown,1\n",
      "41,admin.,divorced,secondary,no,270,yes,no,unknown,5,may,222,1,-1,0,unkn"
     ]
    }
   ],
   "source": [
    "!gsutil cat -h -r 0-1000 gs://cloud-ml-tables-data/bank-marketing.csv"
   ]
  },
  {
   "cell_type": "markdown",
   "metadata": {},
   "source": [
    "### Get Spark application ID \n",
    "\n",
    "This is useful to easily fine application in the Spark History UI"
   ]
  },
  {
   "cell_type": "code",
   "execution_count": 39,
   "metadata": {},
   "outputs": [
    {
     "data": {
      "text/plain": [
       "'application_1598619717300_0026'"
      ]
     },
     "execution_count": 39,
     "metadata": {},
     "output_type": "execute_result"
    }
   ],
   "source": [
    "spark.conf.get(\"spark.app.id\")"
   ]
  },
  {
   "cell_type": "markdown",
   "metadata": {},
   "source": [
    "Check what databases are in the Hive Warehouse"
   ]
  },
  {
   "cell_type": "code",
   "execution_count": 3,
   "metadata": {},
   "outputs": [
    {
     "name": "stdout",
     "output_type": "stream",
     "text": [
      "+--------------------+\n",
      "|           namespace|\n",
      "+--------------------+\n",
      "|        bank_demo_db|\n",
      "|             default|\n",
      "|house_prices_demo_db|\n",
      "|     housing_demo_db|\n",
      "+--------------------+\n",
      "\n"
     ]
    }
   ],
   "source": [
    "spark.sql(\"\"\"\n",
    "SHOW DATABASES;\n",
    "\"\"\").show()"
   ]
  },
  {
   "cell_type": "code",
   "execution_count": 4,
   "metadata": {},
   "outputs": [
    {
     "name": "stdout",
     "output_type": "stream",
     "text": [
      "+-------------------------+------------------------------------------+\n",
      "|database_description_item|database_description_value                |\n",
      "+-------------------------+------------------------------------------+\n",
      "|Database Name            |default                                   |\n",
      "|Comment                  |Default Hive database                     |\n",
      "|Location                 |gs://dataproc-datalake-demo/hive-warehouse|\n",
      "|Owner                    |public                                    |\n",
      "|Properties               |                                          |\n",
      "+-------------------------+------------------------------------------+\n",
      "\n"
     ]
    }
   ],
   "source": [
    "spark.sql(\"DESCRIBE DATABASE EXTENDED default\").show(5, False)"
   ]
  },
  {
   "cell_type": "markdown",
   "metadata": {},
   "source": [
    "Create a new database called bank_demo_db"
   ]
  },
  {
   "cell_type": "code",
   "execution_count": 5,
   "metadata": {},
   "outputs": [
    {
     "name": "stdout",
     "output_type": "stream",
     "text": [
      "++\n",
      "||\n",
      "++\n",
      "++\n",
      "\n"
     ]
    }
   ],
   "source": [
    "spark.sql(\"\"\"\n",
    "CREATE DATABASE IF NOT EXISTS bank_demo_db;\n",
    "\"\"\").show()"
   ]
  },
  {
   "cell_type": "code",
   "execution_count": 6,
   "metadata": {},
   "outputs": [
    {
     "name": "stdout",
     "output_type": "stream",
     "text": [
      "+-------------------------+----------------------------------------------------------+\n",
      "|database_description_item|database_description_value                                |\n",
      "+-------------------------+----------------------------------------------------------+\n",
      "|Database Name            |bank_demo_db                                              |\n",
      "|Comment                  |                                                          |\n",
      "|Location                 |gs://dataproc-datalake-demo/hive-warehouse/bank_demo_db.db|\n",
      "|Owner                    |root                                                      |\n",
      "|Properties               |                                                          |\n",
      "+-------------------------+----------------------------------------------------------+\n",
      "\n"
     ]
    }
   ],
   "source": [
    "spark.sql(\"DESCRIBE DATABASE EXTENDED bank_demo_db\").show(5, False)"
   ]
  },
  {
   "cell_type": "markdown",
   "metadata": {},
   "source": [
    "Load the CSV file into a Spark Dataframe"
   ]
  },
  {
   "cell_type": "code",
   "execution_count": 7,
   "metadata": {},
   "outputs": [
    {
     "name": "stdout",
     "output_type": "stream",
     "text": [
      "root\n",
      " |-- Age: integer (nullable = true)\n",
      " |-- Job: string (nullable = true)\n",
      " |-- MaritalStatus: string (nullable = true)\n",
      " |-- Education: string (nullable = true)\n",
      " |-- Default: string (nullable = true)\n",
      " |-- Balance: integer (nullable = true)\n",
      " |-- Housing: string (nullable = true)\n",
      " |-- Loan: string (nullable = true)\n",
      " |-- Contact: string (nullable = true)\n",
      " |-- Day: integer (nullable = true)\n",
      " |-- Month: string (nullable = true)\n",
      " |-- Duration: integer (nullable = true)\n",
      " |-- Campaign: integer (nullable = true)\n",
      " |-- PDays: integer (nullable = true)\n",
      " |-- Previous: integer (nullable = true)\n",
      " |-- POutcome: string (nullable = true)\n",
      " |-- Deposit: integer (nullable = true)\n",
      "\n"
     ]
    }
   ],
   "source": [
    "df_bank_marketing = spark \\\n",
    "  .read \\\n",
    "  .option ( \"inferSchema\" , \"true\" ) \\\n",
    "  .option ( \"header\" , \"true\" ) \\\n",
    "  .csv ( \"gs://cloud-ml-tables-data/bank-marketing.csv\" )\n",
    "\n",
    "df_bank_marketing.printSchema()"
   ]
  },
  {
   "cell_type": "code",
   "execution_count": 8,
   "metadata": {},
   "outputs": [
    {
     "name": "stdout",
     "output_type": "stream",
     "text": [
      "+---+------------+-------------+---------+-------+-------+-------+----+-------+---+-----+--------+--------+-----+--------+--------+-------+\n",
      "|Age|         Job|MaritalStatus|Education|Default|Balance|Housing|Loan|Contact|Day|Month|Duration|Campaign|PDays|Previous|POutcome|Deposit|\n",
      "+---+------------+-------------+---------+-------+-------+-------+----+-------+---+-----+--------+--------+-----+--------+--------+-------+\n",
      "| 58|  management|      married| tertiary|     no|   2143|    yes|  no|unknown|  5|  may|     261|       1|   -1|       0| unknown|      1|\n",
      "| 44|  technician|       single|secondary|     no|     29|    yes|  no|unknown|  5|  may|     151|       1|   -1|       0| unknown|      1|\n",
      "| 33|entrepreneur|      married|secondary|     no|      2|    yes| yes|unknown|  5|  may|      76|       1|   -1|       0| unknown|      1|\n",
      "| 47| blue-collar|      married|  unknown|     no|   1506|    yes|  no|unknown|  5|  may|      92|       1|   -1|       0| unknown|      1|\n",
      "| 33|     unknown|       single|  unknown|     no|      1|     no|  no|unknown|  5|  may|     198|       1|   -1|       0| unknown|      1|\n",
      "+---+------------+-------------+---------+-------+-------+-------+----+-------+---+-----+--------+--------+-----+--------+--------+-------+\n",
      "only showing top 5 rows\n",
      "\n"
     ]
    }
   ],
   "source": [
    "df_bank_marketing.show(5)"
   ]
  },
  {
   "cell_type": "markdown",
   "metadata": {},
   "source": [
    "Run transformations on the data"
   ]
  },
  {
   "cell_type": "code",
   "execution_count": 43,
   "metadata": {},
   "outputs": [],
   "source": [
    "## Any transformations on your data can be done at this point"
   ]
  },
  {
   "cell_type": "markdown",
   "metadata": {},
   "source": [
    "Save the dataframe as a Hive table in Parquet format"
   ]
  },
  {
   "cell_type": "code",
   "execution_count": 9,
   "metadata": {},
   "outputs": [],
   "source": [
    "df_bank_marketing.write.mode('overwrite').format(\"parquet\").saveAsTable(\"bank_demo_db.bank_marketing\")"
   ]
  },
  {
   "cell_type": "markdown",
   "metadata": {},
   "source": [
    "Check that table was created"
   ]
  },
  {
   "cell_type": "code",
   "execution_count": 10,
   "metadata": {},
   "outputs": [
    {
     "name": "stdout",
     "output_type": "stream",
     "text": [
      "+------------+--------------+-----------+\n",
      "|    database|     tableName|isTemporary|\n",
      "+------------+--------------+-----------+\n",
      "|bank_demo_db|bank_marketing|      false|\n",
      "+------------+--------------+-----------+\n",
      "\n"
     ]
    }
   ],
   "source": [
    "spark.sql(\"SHOW TABLES in bank_demo_db\").show()"
   ]
  },
  {
   "cell_type": "code",
   "execution_count": 11,
   "metadata": {},
   "outputs": [
    {
     "name": "stdout",
     "output_type": "stream",
     "text": [
      "+----------------------------+-------------------------------------------------------------------------+-------+\n",
      "|col_name                    |data_type                                                                |comment|\n",
      "+----------------------------+-------------------------------------------------------------------------+-------+\n",
      "|Age                         |int                                                                      |null   |\n",
      "|Job                         |string                                                                   |null   |\n",
      "|MaritalStatus               |string                                                                   |null   |\n",
      "|Education                   |string                                                                   |null   |\n",
      "|Default                     |string                                                                   |null   |\n",
      "|Balance                     |int                                                                      |null   |\n",
      "|Housing                     |string                                                                   |null   |\n",
      "|Loan                        |string                                                                   |null   |\n",
      "|Contact                     |string                                                                   |null   |\n",
      "|Day                         |int                                                                      |null   |\n",
      "|Month                       |string                                                                   |null   |\n",
      "|Duration                    |int                                                                      |null   |\n",
      "|Campaign                    |int                                                                      |null   |\n",
      "|PDays                       |int                                                                      |null   |\n",
      "|Previous                    |int                                                                      |null   |\n",
      "|POutcome                    |string                                                                   |null   |\n",
      "|Deposit                     |int                                                                      |null   |\n",
      "|                            |                                                                         |       |\n",
      "|# Detailed Table Information|                                                                         |       |\n",
      "|Database                    |bank_demo_db                                                             |       |\n",
      "|Table                       |bank_marketing                                                           |       |\n",
      "|Owner                       |root                                                                     |       |\n",
      "|Created Time                |Wed Sep 09 09:18:59 UTC 2020                                             |       |\n",
      "|Last Access                 |UNKNOWN                                                                  |       |\n",
      "|Created By                  |Spark 3.0.0                                                              |       |\n",
      "|Type                        |MANAGED                                                                  |       |\n",
      "|Provider                    |parquet                                                                  |       |\n",
      "|Statistics                  |352207 bytes                                                             |       |\n",
      "|Location                    |gs://dataproc-datalake-demo/hive-warehouse/bank_demo_db.db/bank_marketing|       |\n",
      "|Serde Library               |org.apache.hadoop.hive.ql.io.parquet.serde.ParquetHiveSerDe              |       |\n",
      "|InputFormat                 |org.apache.hadoop.hive.ql.io.parquet.MapredParquetInputFormat            |       |\n",
      "|OutputFormat                |org.apache.hadoop.hive.ql.io.parquet.MapredParquetOutputFormat           |       |\n",
      "+----------------------------+-------------------------------------------------------------------------+-------+\n",
      "\n"
     ]
    }
   ],
   "source": [
    "spark.sql(\"DESCRIBE TABLE EXTENDED bank_demo_db.bank_marketing\").show(100, False)"
   ]
  },
  {
   "cell_type": "markdown",
   "metadata": {},
   "source": [
    "### Compute statistics for columns in table"
   ]
  },
  {
   "cell_type": "code",
   "execution_count": 12,
   "metadata": {},
   "outputs": [
    {
     "name": "stdout",
     "output_type": "stream",
     "text": [
      "+--------------+----------+\n",
      "|     info_name|info_value|\n",
      "+--------------+----------+\n",
      "|      col_name|       Age|\n",
      "|     data_type|       int|\n",
      "|       comment|      NULL|\n",
      "|           min|      NULL|\n",
      "|           max|      NULL|\n",
      "|     num_nulls|      NULL|\n",
      "|distinct_count|      NULL|\n",
      "|   avg_col_len|      NULL|\n",
      "|   max_col_len|      NULL|\n",
      "|     histogram|      NULL|\n",
      "+--------------+----------+\n",
      "\n"
     ]
    }
   ],
   "source": [
    "spark.sql(\"DESCRIBE TABLE EXTENDED bank_demo_db.bank_marketing Age\").show()"
   ]
  },
  {
   "cell_type": "code",
   "execution_count": 13,
   "metadata": {},
   "outputs": [
    {
     "name": "stdout",
     "output_type": "stream",
     "text": [
      "++\n",
      "||\n",
      "++\n",
      "++\n",
      "\n"
     ]
    }
   ],
   "source": [
    "cols = \"Age, Job, MaritalStatus\"\n",
    "analyzeTableSQL = \"ANALYZE TABLE bank_demo_db.bank_marketing COMPUTE STATISTICS FOR COLUMNS Age, Job, MaritalStatus\"\n",
    "spark.sql(analyzeTableSQL).show()"
   ]
  },
  {
   "cell_type": "code",
   "execution_count": 14,
   "metadata": {},
   "outputs": [
    {
     "name": "stdout",
     "output_type": "stream",
     "text": [
      "++\n",
      "||\n",
      "++\n",
      "++\n",
      "\n"
     ]
    }
   ],
   "source": [
    "cols = \"Age, Job, MaritalStatus\"\n",
    "analyzeTableSQL = \"ANALYZE TABLE bank_demo_db.bank_marketing COMPUTE STATISTICS FOR ALL COLUMNS\"\n",
    "spark.sql(analyzeTableSQL).show()"
   ]
  },
  {
   "cell_type": "code",
   "execution_count": 15,
   "metadata": {},
   "outputs": [
    {
     "name": "stdout",
     "output_type": "stream",
     "text": [
      "+--------------+----------+\n",
      "|     info_name|info_value|\n",
      "+--------------+----------+\n",
      "|      col_name|       Age|\n",
      "|     data_type|       int|\n",
      "|       comment|      NULL|\n",
      "|           min|        18|\n",
      "|           max|        95|\n",
      "|     num_nulls|         0|\n",
      "|distinct_count|        76|\n",
      "|   avg_col_len|         4|\n",
      "|   max_col_len|         4|\n",
      "|     histogram|      NULL|\n",
      "+--------------+----------+\n",
      "\n"
     ]
    }
   ],
   "source": [
    "spark.sql(\"DESCRIBE TABLE EXTENDED bank_demo_db.bank_marketing Age\").show()"
   ]
  },
  {
   "cell_type": "code",
   "execution_count": 16,
   "metadata": {},
   "outputs": [
    {
     "name": "stdout",
     "output_type": "stream",
     "text": [
      "+--------------+----------+\n",
      "|     info_name|info_value|\n",
      "+--------------+----------+\n",
      "|      col_name|       Job|\n",
      "|     data_type|    string|\n",
      "|       comment|      NULL|\n",
      "|           min|      NULL|\n",
      "|           max|      NULL|\n",
      "|     num_nulls|         0|\n",
      "|distinct_count|        11|\n",
      "|   avg_col_len|        10|\n",
      "|   max_col_len|        13|\n",
      "|     histogram|      NULL|\n",
      "+--------------+----------+\n",
      "\n"
     ]
    }
   ],
   "source": [
    "spark.sql(\"DESCRIBE TABLE EXTENDED bank_demo_db.bank_marketing Job\").show()"
   ]
  },
  {
   "cell_type": "markdown",
   "metadata": {},
   "source": [
    "You can now also see how many rows are in the table"
   ]
  },
  {
   "cell_type": "code",
   "execution_count": 19,
   "metadata": {},
   "outputs": [
    {
     "name": "stdout",
     "output_type": "stream",
     "text": [
      "+----------------------------+-------------------------------------------------------------------------+-------+\n",
      "|col_name                    |data_type                                                                |comment|\n",
      "+----------------------------+-------------------------------------------------------------------------+-------+\n",
      "|Age                         |int                                                                      |null   |\n",
      "|Job                         |string                                                                   |null   |\n",
      "|MaritalStatus               |string                                                                   |null   |\n",
      "|Education                   |string                                                                   |null   |\n",
      "|Default                     |string                                                                   |null   |\n",
      "|Balance                     |int                                                                      |null   |\n",
      "|Housing                     |string                                                                   |null   |\n",
      "|Loan                        |string                                                                   |null   |\n",
      "|Contact                     |string                                                                   |null   |\n",
      "|Day                         |int                                                                      |null   |\n",
      "|Month                       |string                                                                   |null   |\n",
      "|Duration                    |int                                                                      |null   |\n",
      "|Campaign                    |int                                                                      |null   |\n",
      "|PDays                       |int                                                                      |null   |\n",
      "|Previous                    |int                                                                      |null   |\n",
      "|POutcome                    |string                                                                   |null   |\n",
      "|Deposit                     |int                                                                      |null   |\n",
      "|                            |                                                                         |       |\n",
      "|# Detailed Table Information|                                                                         |       |\n",
      "|Database                    |bank_demo_db                                                             |       |\n",
      "|Table                       |bank_marketing                                                           |       |\n",
      "|Owner                       |root                                                                     |       |\n",
      "|Created Time                |Wed Sep 02 13:04:23 UTC 2020                                             |       |\n",
      "|Last Access                 |UNKNOWN                                                                  |       |\n",
      "|Created By                  |Spark 3.0.0                                                              |       |\n",
      "|Type                        |MANAGED                                                                  |       |\n",
      "|Provider                    |parquet                                                                  |       |\n",
      "|Statistics                  |352207 bytes, 45211 rows                                                 |       |\n",
      "|Location                    |gs://dataproc-datalake-demo/hive-warehouse/bank_demo_db.db/bank_marketing|       |\n",
      "|Serde Library               |org.apache.hadoop.hive.ql.io.parquet.serde.ParquetHiveSerDe              |       |\n",
      "|InputFormat                 |org.apache.hadoop.hive.ql.io.parquet.MapredParquetInputFormat            |       |\n",
      "|OutputFormat                |org.apache.hadoop.hive.ql.io.parquet.MapredParquetOutputFormat           |       |\n",
      "+----------------------------+-------------------------------------------------------------------------+-------+\n",
      "\n"
     ]
    }
   ],
   "source": [
    "spark.sql(\"DESCRIBE TABLE EXTENDED bank_demo_db.bank_marketing\").show(100, False)"
   ]
  },
  {
   "cell_type": "markdown",
   "metadata": {},
   "source": [
    "## 3. Data Analyst - Run SQL on tables and plot data"
   ]
  },
  {
   "cell_type": "code",
   "execution_count": 17,
   "metadata": {},
   "outputs": [
    {
     "name": "stdout",
     "output_type": "stream",
     "text": [
      "+-------+-----+\n",
      "|Deposit|count|\n",
      "+-------+-----+\n",
      "|      1|39922|\n",
      "|      2| 5289|\n",
      "+-------+-----+\n",
      "\n"
     ]
    }
   ],
   "source": [
    "spark.sql(\"\"\"\n",
    "SELECT \n",
    "    Deposit,\n",
    "    COUNT(*) as count\n",
    "FROM bank_demo_db.bank_marketing\n",
    "GROUP BY Deposit\n",
    "\"\"\").show()"
   ]
  },
  {
   "cell_type": "code",
   "execution_count": 136,
   "metadata": {},
   "outputs": [
    {
     "name": "stdout",
     "output_type": "stream",
     "text": [
      "+-------------+------------------+------------------+\n",
      "|          Job|           avg_age|       avg_balance|\n",
      "+-------------+------------------+------------------+\n",
      "|      retired| 61.62676678445229| 1984.215106007067|\n",
      "|      unknown|          47.59375| 1772.357638888889|\n",
      "|    housemaid| 46.41532258064516|1392.3951612903227|\n",
      "| entrepreneur| 42.19098856758574| 1521.470073974445|\n",
      "|   unemployed| 40.96162701458174|1521.7459708365311|\n",
      "|self-employed| 40.48448385053832|1647.9708676377454|\n",
      "|   management| 40.44956650454642|1763.6168323112709|\n",
      "|  blue-collar|  40.0440813810111|1078.8266543362104|\n",
      "|   technician| 39.31459786757931|1252.6320916151112|\n",
      "|       admin.| 39.28988590214659| 1135.838909301876|\n",
      "|     services|38.740250361097736| 997.0881078478575|\n",
      "|      student|26.542643923240938|1388.0607675906183|\n",
      "+-------------+------------------+------------------+\n",
      "\n"
     ]
    }
   ],
   "source": [
    "spark.sql(\"\"\"\n",
    "SELECT \n",
    "    Job, \n",
    "    AVG(Age) as avg_age,\n",
    "    AVG(Balance) as avg_balance\n",
    "FROM bank_demo_db.bank_marketing\n",
    "GROUP BY JOB\n",
    "ORDER BY avg_age DESC\n",
    "\"\"\").show()"
   ]
  },
  {
   "cell_type": "markdown",
   "metadata": {},
   "source": [
    "### Spark to Pandas DataFrame\n",
    "\n",
    "Enable Apache Arrow to allow faster conversion from Spark DataFrame to Pandas DataFrame."
   ]
  },
  {
   "cell_type": "code",
   "execution_count": 19,
   "metadata": {},
   "outputs": [],
   "source": [
    "spark.conf.set(\"spark.sql.execution.arrow.enabled\", \"true\")"
   ]
  },
  {
   "cell_type": "code",
   "execution_count": 20,
   "metadata": {},
   "outputs": [],
   "source": [
    "df_jobs = spark.sql(\"\"\"\n",
    "SELECT \n",
    "    Job, \n",
    "    AVG(Age) as avg_age,\n",
    "    AVG(Balance) as avg_balance\n",
    "FROM bank_demo_db.bank_marketing\n",
    "GROUP BY JOB\n",
    "ORDER BY avg_age DESC\n",
    "\"\"\").toPandas()"
   ]
  },
  {
   "cell_type": "code",
   "execution_count": 21,
   "metadata": {},
   "outputs": [
    {
     "data": {
      "text/html": [
       "<div>\n",
       "<style scoped>\n",
       "    .dataframe tbody tr th:only-of-type {\n",
       "        vertical-align: middle;\n",
       "    }\n",
       "\n",
       "    .dataframe tbody tr th {\n",
       "        vertical-align: top;\n",
       "    }\n",
       "\n",
       "    .dataframe thead th {\n",
       "        text-align: right;\n",
       "    }\n",
       "</style>\n",
       "<table border=\"1\" class=\"dataframe\">\n",
       "  <thead>\n",
       "    <tr style=\"text-align: right;\">\n",
       "      <th></th>\n",
       "      <th>Job</th>\n",
       "      <th>avg_age</th>\n",
       "      <th>avg_balance</th>\n",
       "    </tr>\n",
       "  </thead>\n",
       "  <tbody>\n",
       "    <tr>\n",
       "      <th>0</th>\n",
       "      <td>retired</td>\n",
       "      <td>61.626767</td>\n",
       "      <td>1984.215106</td>\n",
       "    </tr>\n",
       "    <tr>\n",
       "      <th>1</th>\n",
       "      <td>unknown</td>\n",
       "      <td>47.593750</td>\n",
       "      <td>1772.357639</td>\n",
       "    </tr>\n",
       "    <tr>\n",
       "      <th>2</th>\n",
       "      <td>housemaid</td>\n",
       "      <td>46.415323</td>\n",
       "      <td>1392.395161</td>\n",
       "    </tr>\n",
       "    <tr>\n",
       "      <th>3</th>\n",
       "      <td>entrepreneur</td>\n",
       "      <td>42.190989</td>\n",
       "      <td>1521.470074</td>\n",
       "    </tr>\n",
       "    <tr>\n",
       "      <th>4</th>\n",
       "      <td>unemployed</td>\n",
       "      <td>40.961627</td>\n",
       "      <td>1521.745971</td>\n",
       "    </tr>\n",
       "  </tbody>\n",
       "</table>\n",
       "</div>"
      ],
      "text/plain": [
       "            Job    avg_age  avg_balance\n",
       "0       retired  61.626767  1984.215106\n",
       "1       unknown  47.593750  1772.357639\n",
       "2     housemaid  46.415323  1392.395161\n",
       "3  entrepreneur  42.190989  1521.470074\n",
       "4    unemployed  40.961627  1521.745971"
      ]
     },
     "execution_count": 21,
     "metadata": {},
     "output_type": "execute_result"
    }
   ],
   "source": [
    "df_jobs.head()"
   ]
  },
  {
   "cell_type": "markdown",
   "metadata": {},
   "source": [
    "### Plot data using Pandas Plotting"
   ]
  },
  {
   "cell_type": "code",
   "execution_count": 22,
   "metadata": {},
   "outputs": [],
   "source": [
    "import matplotlib.pyplot as plt"
   ]
  },
  {
   "cell_type": "code",
   "execution_count": 23,
   "metadata": {},
   "outputs": [
    {
     "data": {
      "text/plain": [
       "<AxesSubplot:xlabel='Job'>"
      ]
     },
     "execution_count": 23,
     "metadata": {},
     "output_type": "execute_result"
    },
    {
     "data": {
      "image/png": "[encoded data removed]",
      "text/plain": [
       "<Figure size 432x288 with 1 Axes>"
      ]
     },
     "metadata": {
      "needs_background": "light"
     },
     "output_type": "display_data"
    }
   ],
   "source": [
    "df_jobs.plot.bar(x='Job', y='avg_age', rot=90)"
   ]
  },
  {
   "cell_type": "code",
   "execution_count": 24,
   "metadata": {},
   "outputs": [
    {
     "data": {
      "text/html": [
       "<div>\n",
       "<style scoped>\n",
       "    .dataframe tbody tr th:only-of-type {\n",
       "        vertical-align: middle;\n",
       "    }\n",
       "\n",
       "    .dataframe tbody tr th {\n",
       "        vertical-align: top;\n",
       "    }\n",
       "\n",
       "    .dataframe thead th {\n",
       "        text-align: right;\n",
       "    }\n",
       "</style>\n",
       "<table border=\"1\" class=\"dataframe\">\n",
       "  <thead>\n",
       "    <tr style=\"text-align: right;\">\n",
       "      <th></th>\n",
       "      <th>avg_age</th>\n",
       "      <th>avg_balance</th>\n",
       "    </tr>\n",
       "    <tr>\n",
       "      <th>Job</th>\n",
       "      <th></th>\n",
       "      <th></th>\n",
       "    </tr>\n",
       "  </thead>\n",
       "  <tbody>\n",
       "    <tr>\n",
       "      <th>retired</th>\n",
       "      <td>61.626767</td>\n",
       "      <td>1984.215106</td>\n",
       "    </tr>\n",
       "    <tr>\n",
       "      <th>unknown</th>\n",
       "      <td>47.593750</td>\n",
       "      <td>1772.357639</td>\n",
       "    </tr>\n",
       "    <tr>\n",
       "      <th>housemaid</th>\n",
       "      <td>46.415323</td>\n",
       "      <td>1392.395161</td>\n",
       "    </tr>\n",
       "    <tr>\n",
       "      <th>entrepreneur</th>\n",
       "      <td>42.190989</td>\n",
       "      <td>1521.470074</td>\n",
       "    </tr>\n",
       "    <tr>\n",
       "      <th>unemployed</th>\n",
       "      <td>40.961627</td>\n",
       "      <td>1521.745971</td>\n",
       "    </tr>\n",
       "  </tbody>\n",
       "</table>\n",
       "</div>"
      ],
      "text/plain": [
       "                avg_age  avg_balance\n",
       "Job                                 \n",
       "retired       61.626767  1984.215106\n",
       "unknown       47.593750  1772.357639\n",
       "housemaid     46.415323  1392.395161\n",
       "entrepreneur  42.190989  1521.470074\n",
       "unemployed    40.961627  1521.745971"
      ]
     },
     "execution_count": 24,
     "metadata": {},
     "output_type": "execute_result"
    }
   ],
   "source": [
    "df_jobs.set_index('Job', inplace=True)\n",
    "df_jobs.head()"
   ]
  },
  {
   "cell_type": "code",
   "execution_count": 25,
   "metadata": {},
   "outputs": [
    {
     "data": {
      "text/plain": [
       "array([<AxesSubplot:title={'center':'avg_age'}, xlabel='Job'>,\n",
       "       <AxesSubplot:title={'center':'avg_balance'}, xlabel='Job'>],\n",
       "      dtype=object)"
      ]
     },
     "execution_count": 25,
     "metadata": {},
     "output_type": "execute_result"
    },
    {
     "data": {
      "image/png": "[encoded data removed]",
      "text/plain": [
       "<Figure size 432x288 with 2 Axes>"
      ]
     },
     "metadata": {
      "needs_background": "light"
     },
     "output_type": "display_data"
    }
   ],
   "source": [
    "df_jobs.plot.bar(rot=90, subplots=True)"
   ]
  },
  {
   "cell_type": "markdown",
   "metadata": {},
   "source": [
    "## 4. Data Scientist - Create ML models with Spark"
   ]
  },
  {
   "cell_type": "code",
   "execution_count": 2,
   "metadata": {},
   "outputs": [],
   "source": [
    "from pyspark.ml import Pipeline\n",
    "from pyspark.ml.classification import DecisionTreeClassifier\n",
    "from pyspark.ml.feature import OneHotEncoder, StringIndexer, VectorAssembler\n",
    "from pyspark.ml.evaluation import MulticlassClassificationEvaluator"
   ]
  },
  {
   "cell_type": "markdown",
   "metadata": {},
   "source": [
    "Create a Spark DataFrame from hive table"
   ]
  },
  {
   "cell_type": "code",
   "execution_count": 3,
   "metadata": {},
   "outputs": [],
   "source": [
    "data = spark.sql(\"\"\"\n",
    "SELECT * \n",
    "FROM bank_demo_db.bank_marketing\n",
    "\"\"\")"
   ]
  },
  {
   "cell_type": "markdown",
   "metadata": {},
   "source": [
    "Cache the DataFrame in memory "
   ]
  },
  {
   "cell_type": "code",
   "execution_count": 4,
   "metadata": {},
   "outputs": [
    {
     "data": {
      "text/plain": [
       "DataFrame[Age: int, Job: string, MaritalStatus: string, Education: string, Default: string, Balance: int, Housing: string, Loan: string, Contact: string, Day: int, Month: string, Duration: int, Campaign: int, PDays: int, Previous: int, POutcome: string, Deposit: int]"
      ]
     },
     "execution_count": 4,
     "metadata": {},
     "output_type": "execute_result"
    }
   ],
   "source": [
    "data.cache()"
   ]
  },
  {
   "cell_type": "code",
   "execution_count": 5,
   "metadata": {},
   "outputs": [
    {
     "name": "stdout",
     "output_type": "stream",
     "text": [
      "+-------+-----+\n",
      "|Deposit|count|\n",
      "+-------+-----+\n",
      "|      1|39922|\n",
      "|      2| 5289|\n",
      "+-------+-----+\n",
      "\n"
     ]
    }
   ],
   "source": [
    "data.groupBy(\"Deposit\").count().show()"
   ]
  },
  {
   "cell_type": "markdown",
   "metadata": {},
   "source": [
    "### Split training and test data"
   ]
  },
  {
   "cell_type": "code",
   "execution_count": 6,
   "metadata": {},
   "outputs": [],
   "source": [
    "(train_data, test_data) = data.randomSplit([0.7, 0.3], seed=42)"
   ]
  },
  {
   "cell_type": "code",
   "execution_count": 7,
   "metadata": {},
   "outputs": [
    {
     "name": "stdout",
     "output_type": "stream",
     "text": [
      "+-------+-----+\n",
      "|Deposit|count|\n",
      "+-------+-----+\n",
      "|      1|28004|\n",
      "|      2| 3709|\n",
      "+-------+-----+\n",
      "\n"
     ]
    }
   ],
   "source": [
    "train_data.groupBy(\"Deposit\").count().show()"
   ]
  },
  {
   "cell_type": "code",
   "execution_count": 8,
   "metadata": {},
   "outputs": [
    {
     "data": {
      "text/plain": [
       "31713"
      ]
     },
     "execution_count": 8,
     "metadata": {},
     "output_type": "execute_result"
    }
   ],
   "source": [
    "train_data.count()"
   ]
  },
  {
   "cell_type": "code",
   "execution_count": 9,
   "metadata": {},
   "outputs": [
    {
     "data": {
      "text/plain": [
       "13498"
      ]
     },
     "execution_count": 9,
     "metadata": {},
     "output_type": "execute_result"
    }
   ],
   "source": [
    "test_data.count()"
   ]
  },
  {
   "cell_type": "markdown",
   "metadata": {},
   "source": [
    "## Create Spark ML Pipeline"
   ]
  },
  {
   "cell_type": "markdown",
   "metadata": {},
   "source": [
    "Train a RandomForestClassifier model"
   ]
  },
  {
   "cell_type": "code",
   "execution_count": 10,
   "metadata": {},
   "outputs": [
    {
     "name": "stdout",
     "output_type": "stream",
     "text": [
      "+----------+-----+--------------------+\n",
      "|prediction|label|            features|\n",
      "+----------+-----+--------------------+\n",
      "|       0.0|  0.0|(42,[10,12,15,16,...|\n",
      "|       0.0|  0.0|(42,[10,12,16,18,...|\n",
      "|       0.0|  1.0|(42,[10,12,16,18,...|\n",
      "|       0.0|  1.0|(42,[10,12,16,18,...|\n",
      "|       0.0|  0.0|(42,[10,12,15,16,...|\n",
      "+----------+-----+--------------------+\n",
      "only showing top 5 rows\n",
      "\n"
     ]
    }
   ],
   "source": [
    "from pyspark.ml.feature import OneHotEncoder, StringIndexer\n",
    "from pyspark.ml.classification import RandomForestClassifier\n",
    "\n",
    "\n",
    "categorical_cols = [field for (field, data_type) in train_data.dtypes \n",
    "                    if ((data_type == \"string\") & (field != 'Deposit'))]\n",
    "\n",
    "index_output_cols = [x + \"_Index\" for x in categorical_cols]\n",
    "\n",
    "ohe_output_cols = [x + \"_OHE\" for x in categorical_cols]\n",
    "\n",
    "categorical_string_indexer = StringIndexer(\n",
    "    inputCols=categorical_cols,\n",
    "    outputCols=index_output_cols,\n",
    "    handleInvalid=\"skip\")\n",
    "\n",
    "ohe_encoder = OneHotEncoder(\n",
    "    inputCols=index_output_cols,\n",
    "    outputCols=ohe_output_cols)\n",
    "\n",
    "numeric_cols = [field for (field, data_type) in train_data.dtypes \n",
    "                if (((data_type == \"double\") | (data_type == \"int\") | (data_type == \"bigint\"))\n",
    "                  & (field != 'Deposit'))]\n",
    "\n",
    "assembler_inputs = ohe_output_cols + numeric_cols\n",
    "\n",
    "vec_assembler = VectorAssembler(\n",
    "    inputCols=assembler_inputs,\n",
    "    outputCol=\"features\")\n",
    "\n",
    "label_string_indexer = StringIndexer(). \\\n",
    "  setInputCol(\"Deposit\"). \\\n",
    "  setOutputCol(\"label\")\n",
    "\n",
    "# Train a RandomForestClassifier model.\n",
    "rf = RandomForestClassifier(labelCol=\"label\", featuresCol=\"features\")\n",
    "\n",
    "pipeline = Pipeline(stages=[\n",
    "    categorical_string_indexer,\n",
    "    ohe_encoder,\n",
    "    vec_assembler,\n",
    "    label_string_indexer,\n",
    "    rf\n",
    "])\n",
    "\n",
    "# Train model on training data\n",
    "pipeline_model = pipeline.fit(train_data)\n",
    "\n",
    "# Make predictions on test.\n",
    "predictions = pipeline_model.transform(test_data)\n",
    "\n",
    "# Select example rows to display.\n",
    "predictions.select(\"prediction\", \"label\", \"features\").show(5) "
   ]
  },
  {
   "cell_type": "markdown",
   "metadata": {},
   "source": [
    "As the dataset is imbalanced a good metric is AUC: Area Under the ROC Curve. [Learn more about AUC here.](https://developers.google.com/machine-learning/crash-course/classification/roc-and-auc#AUC)"
   ]
  },
  {
   "cell_type": "code",
   "execution_count": 11,
   "metadata": {},
   "outputs": [
    {
     "name": "stdout",
     "output_type": "stream",
     "text": [
      "0.8867264917867028\n"
     ]
    }
   ],
   "source": [
    "from pyspark.ml.evaluation import BinaryClassificationEvaluator\n",
    "\n",
    "binaryEvaluator = BinaryClassificationEvaluator(labelCol=\"label\")\n",
    "\n",
    "auc = binaryEvaluator.evaluate(predictions, {binaryEvaluator.metricName: \"areaUnderROC\"})\n",
    "print(auc)"
   ]
  },
  {
   "cell_type": "code",
   "execution_count": 12,
   "metadata": {},
   "outputs": [
    {
     "name": "stdout",
     "output_type": "stream",
     "text": [
      "f1: 0.08268424206111442\n",
      "precision: 0.7752808988764045\n",
      "recall: 0.043670886075949364\n"
     ]
    }
   ],
   "source": [
    "import numpy as np\n",
    "from sklearn.metrics import accuracy_score, precision_score, recall_score, roc_auc_score, f1_score\n",
    "\n",
    "predictions_np = np.array((predictions.select(\"label\",\"prediction\").collect()))\n",
    "\n",
    "np_acc = accuracy_score(predictions_np[:,0], predictions_np[:,1])\n",
    "np_f1 = f1_score(predictions_np[:,0], predictions_np[:,1])\n",
    "np_precision = precision_score(predictions_np[:,0], predictions_np[:,1])\n",
    "np_recall = recall_score(predictions_np[:,0], predictions_np[:,1])\n",
    "np_auc = roc_auc_score(predictions_np[:,0], predictions_np[:,1])\n",
    "\n",
    "print(\"f1:\", np_f1)\n",
    "print(\"precision:\", np_precision)\n",
    "print(\"recall:\", np_recall)"
   ]
  },
  {
   "cell_type": "code",
   "execution_count": 13,
   "metadata": {},
   "outputs": [
    {
     "data": {
      "text/html": [
       "<div>\n",
       "<style scoped>\n",
       "    .dataframe tbody tr th:only-of-type {\n",
       "        vertical-align: middle;\n",
       "    }\n",
       "\n",
       "    .dataframe tbody tr th {\n",
       "        vertical-align: top;\n",
       "    }\n",
       "\n",
       "    .dataframe thead th {\n",
       "        text-align: right;\n",
       "    }\n",
       "</style>\n",
       "<table border=\"1\" class=\"dataframe\">\n",
       "  <thead>\n",
       "    <tr style=\"text-align: right;\">\n",
       "      <th></th>\n",
       "      <th>Predicted True</th>\n",
       "      <th>Predicted Not True</th>\n",
       "    </tr>\n",
       "  </thead>\n",
       "  <tbody>\n",
       "    <tr>\n",
       "      <th>Actually True</th>\n",
       "      <td>69</td>\n",
       "      <td>1511</td>\n",
       "    </tr>\n",
       "    <tr>\n",
       "      <th>Actually Not True</th>\n",
       "      <td>20</td>\n",
       "      <td>11898</td>\n",
       "    </tr>\n",
       "  </tbody>\n",
       "</table>\n",
       "</div>"
      ],
      "text/plain": [
       "                   Predicted True  Predicted Not True\n",
       "Actually True                  69                1511\n",
       "Actually Not True              20               11898"
      ]
     },
     "execution_count": 13,
     "metadata": {},
     "output_type": "execute_result"
    }
   ],
   "source": [
    "# import package that will generate the confusion matrix scores\n",
    "from sklearn.metrics import confusion_matrix\n",
    "# import packages that will help display the scores\n",
    "import pandas as pd\n",
    "\n",
    "confusion_matrix_scores = confusion_matrix(predictions_np[:,0], \n",
    "                                           predictions_np[:,1], \n",
    "                                           labels=[1, 0])\n",
    "\n",
    "# display scores as a heatmap\n",
    "df = pd.DataFrame(confusion_matrix_scores, \n",
    "                  columns = [\"Predicted True\", \"Predicted Not True\"],\n",
    "                  index = [\"Actually True\", \"Actually Not True\"])\n",
    "\n",
    "\n",
    "df.head()"
   ]
  },
  {
   "cell_type": "markdown",
   "metadata": {},
   "source": [
    "## Improve model using XGBoost"
   ]
  },
  {
   "cell_type": "markdown",
   "metadata": {},
   "source": [
    "Train model using XGBoost"
   ]
  },
  {
   "cell_type": "code",
   "execution_count": 2,
   "metadata": {},
   "outputs": [],
   "source": [
    "# spark.stop()"
   ]
  },
  {
   "cell_type": "code",
   "execution_count": 1,
   "metadata": {},
   "outputs": [],
   "source": [
    "from pyspark.sql import SparkSession\n",
    "\n",
    "warehouse_location = 'gs://dataproc-datalake-demo/hive-warehouse'\n",
    "service_endpoint = 'thrift://hive-cluster-m.us-central1-f:9083'\n",
    "\n",
    "spark = SparkSession.builder \\\n",
    "  .appName('Hive and XGBoost - GPU') \\\n",
    "  .config('spark.jars.packages', 'com.google.cloud.spark:spark-bigquery-with-dependencies_2.12:0.17.1') \\\n",
    "  .config(\"spark.rapids.memory.gpu.pooling.enabled\", \"false\") \\\n",
    "  .config(\"spark.executor.instances\", \"4\") \\\n",
    "  .config(\"spark.executor.cores\", \"2\") \\\n",
    "  .config(\"spark.task.cpus\", \"2\") \\\n",
    "  .config(\"spark.task.resource.gpu.amount\", \"1\") \\\n",
    "  .config(\"hive.metastore.uris\", service_endpoint)  \\\n",
    "  .config(\"spark.sql.warehouse.dir\", warehouse_location) \\\n",
    "  .enableHiveSupport() \\\n",
    "  .getOrCreate()"
   ]
  },
  {
   "cell_type": "code",
   "execution_count": 4,
   "metadata": {},
   "outputs": [
    {
     "data": {
      "text/plain": [
       "'application_1599581036896_0008'"
      ]
     },
     "execution_count": 4,
     "metadata": {},
     "output_type": "execute_result"
    }
   ],
   "source": [
    "spark.conf.get(\"spark.app.id\")"
   ]
  },
  {
   "cell_type": "code",
   "execution_count": 14,
   "metadata": {},
   "outputs": [
    {
     "name": "stdout",
     "output_type": "stream",
     "text": [
      "+---+-------+-------------+---------+-------+-------+-------+----+--------+---+-----+--------+--------+-----+--------+--------+-------+\n",
      "|Age|    Job|MaritalStatus|Education|Default|Balance|Housing|Loan| Contact|Day|Month|Duration|Campaign|PDays|Previous|POutcome|Deposit|\n",
      "+---+-------+-------------+---------+-------+-------+-------+----+--------+---+-----+--------+--------+-----+--------+--------+-------+\n",
      "| 18|student|       single|  primary|     no|    608|     no|  no|cellular| 12|  aug|     267|       1|   -1|       0| unknown|      2|\n",
      "| 18|student|       single|  primary|     no|    608|     no|  no|cellular| 13|  nov|     210|       1|   93|       1| success|      2|\n",
      "| 18|student|       single|secondary|     no|      5|     no|  no|cellular| 24|  aug|     143|       2|   -1|       0| unknown|      1|\n",
      "+---+-------+-------------+---------+-------+-------+-------+----+--------+---+-----+--------+--------+-----+--------+--------+-------+\n",
      "only showing top 3 rows\n",
      "\n",
      "+---+-------+-------------+---------+-------+-------+-------+----+---------+---+-----+--------+--------+-----+--------+--------+-------+\n",
      "|Age|    Job|MaritalStatus|Education|Default|Balance|Housing|Loan|  Contact|Day|Month|Duration|Campaign|PDays|Previous|POutcome|Deposit|\n",
      "+---+-------+-------------+---------+-------+-------+-------+----+---------+---+-----+--------+--------+-----+--------+--------+-------+\n",
      "| 18|student|       single|  primary|     no|   1944|     no|  no|telephone| 10|  aug|     122|       3|   -1|       0| unknown|      1|\n",
      "| 18|student|       single|  unknown|     no|     35|     no|  no|telephone| 21|  aug|     104|       2|   -1|       0| unknown|      1|\n",
      "| 18|student|       single|  unknown|     no|    108|     no|  no| cellular|  9|  feb|      92|       1|  183|       1| success|      2|\n",
      "+---+-------+-------------+---------+-------+-------+-------+----+---------+---+-----+--------+--------+-----+--------+--------+-------+\n",
      "only showing top 3 rows\n",
      "\n"
     ]
    }
   ],
   "source": [
    "data = spark.sql(\"\"\"\n",
    "SELECT * \n",
    "FROM bank_demo_db.bank_marketing\n",
    "\"\"\")\n",
    "\n",
    "(train_data, test_data) = data.randomSplit([0.7, 0.3], seed=42)\n",
    "\n",
    "train_data.cache()\n",
    "train_data.show(3)\n",
    "\n",
    "test_data.cache()\n",
    "test_data.show(3)"
   ]
  },
  {
   "cell_type": "markdown",
   "metadata": {},
   "source": [
    "## Create ML Pipeline with XGBoost model"
   ]
  },
  {
   "cell_type": "code",
   "execution_count": 15,
   "metadata": {},
   "outputs": [],
   "source": [
    "from pyspark.ml import Pipeline, PipelineModel\n",
    "from pyspark.ml.feature import OneHotEncoder, StringIndexer\n",
    "from ml.dmlc.xgboost4j.scala.spark import XGBoostClassificationModel, XGBoostClassifier\n",
    "\n",
    "categorical_cols = [field for (field, data_type) in train_data.dtypes \n",
    "                    if ((data_type == \"string\") & (field != 'Deposit'))]\n",
    "\n",
    "string_index_output_cols = [x + \"_Index\" for x in categorical_cols]\n",
    "\n",
    "categorical_string_indexer = StringIndexer(\n",
    "    inputCols=categorical_cols,\n",
    "    outputCols=string_index_output_cols,\n",
    "    handleInvalid=\"skip\")\n",
    "\n",
    "numeric_cols = [field for (field, data_type) in train_data.dtypes \n",
    "                if (((data_type == \"double\") | (data_type == \"int\") | (data_type == \"bigint\"))\n",
    "                  & (field != 'Deposit'))]\n",
    "\n",
    "features = string_index_output_cols + numeric_cols\n",
    "\n",
    "label_string_indexer = StringIndexer(). \\\n",
    "  setInputCol(\"Deposit\"). \\\n",
    "  setOutputCol(\"label\")\n",
    "\n",
    "params = { \n",
    "    'treeMethod': 'gpu_hist',\n",
    "    'maxDepth': 10, \n",
    "    'maxLeaves': 256,\n",
    "    'growPolicy': 'depthwise',\n",
    "    'objective': 'binary:logistic',\n",
    "    'numRound': 100,\n",
    "    'numWorkers': 2\n",
    "}\n",
    "\n",
    "# For GPU you must use .setFeaturesCols(features) and pass in the list of columns that are the features\n",
    "xgbc = XGBoostClassifier(**params).setLabelCol(\"label\").setFeaturesCols(features)\n",
    "\n",
    "# For CPU training you must use .setFeaturesCol('features') which \n",
    "# expects the features to be vectorised into one column first\n",
    "# xgbc = XGBoostClassifier(**params).setLabelCol('label').setFeaturesCol('features')\n",
    "\n",
    "pipeline = Pipeline(stages=[\n",
    "    categorical_string_indexer,\n",
    "    label_string_indexer,\n",
    "    xgbc\n",
    "])"
   ]
  },
  {
   "cell_type": "code",
   "execution_count": 16,
   "metadata": {},
   "outputs": [
    {
     "name": "stdout",
     "output_type": "stream",
     "text": [
      "CPU times: user 74.4 ms, sys: 18.3 ms, total: 92.7 ms\n",
      "Wall time: 20.1 s\n"
     ]
    }
   ],
   "source": [
    "%%time\n",
    "# Train model on training data\n",
    "pipeline_model = pipeline.fit(train_data)"
   ]
  },
  {
   "cell_type": "code",
   "execution_count": 17,
   "metadata": {},
   "outputs": [
    {
     "name": "stdout",
     "output_type": "stream",
     "text": [
      "+----------+-----+\n",
      "|prediction|label|\n",
      "+----------+-----+\n",
      "|       0.0|  0.0|\n",
      "|       0.0|  0.0|\n",
      "|       1.0|  1.0|\n",
      "|       0.0|  1.0|\n",
      "|       0.0|  0.0|\n",
      "+----------+-----+\n",
      "only showing top 5 rows\n",
      "\n"
     ]
    }
   ],
   "source": [
    "# Make predictions on test\n",
    "\n",
    "predictions = pipeline_model.transform(test_data)\n",
    "predictions.select(\"prediction\", \"label\").show(5)"
   ]
  },
  {
   "cell_type": "code",
   "execution_count": 18,
   "metadata": {},
   "outputs": [
    {
     "name": "stdout",
     "output_type": "stream",
     "text": [
      "0.9261211368401443\n"
     ]
    }
   ],
   "source": [
    "from pyspark.ml.evaluation import BinaryClassificationEvaluator\n",
    "\n",
    "binaryEvaluator = BinaryClassificationEvaluator(labelCol=\"label\")\n",
    "\n",
    "auc = binaryEvaluator.evaluate(predictions, {binaryEvaluator.metricName: \"areaUnderROC\"})\n",
    "print(auc)"
   ]
  },
  {
   "cell_type": "markdown",
   "metadata": {},
   "source": [
    "### View model stats using Numpy and Scikit-learn\n",
    "\n",
    "PySpark cannot be used to calculate the precision, recall, and f1_score for binary classification evaluation and therefore sklearn.metrics is used"
   ]
  },
  {
   "cell_type": "code",
   "execution_count": 19,
   "metadata": {},
   "outputs": [
    {
     "name": "stdout",
     "output_type": "stream",
     "text": [
      "f1: 0.5221674876847291\n",
      "precision: 0.5879556259904913\n",
      "recall: 0.46962025316455697\n"
     ]
    }
   ],
   "source": [
    "import numpy as np\n",
    "from sklearn.metrics import accuracy_score, precision_score, recall_score, roc_auc_score, f1_score\n",
    "\n",
    "predictions_np = np.array((predictions.select(\"label\",\"prediction\").collect()))\n",
    "\n",
    "np_acc = accuracy_score(predictions_np[:,0], predictions_np[:,1])\n",
    "np_f1 = f1_score(predictions_np[:,0], predictions_np[:,1])\n",
    "np_precision = precision_score(predictions_np[:,0], predictions_np[:,1])\n",
    "np_recall = recall_score(predictions_np[:,0], predictions_np[:,1])\n",
    "np_auc = roc_auc_score(predictions_np[:,0], predictions_np[:,1])\n",
    "\n",
    "print(\"f1:\", np_f1)\n",
    "print(\"precision:\", np_precision)\n",
    "print(\"recall:\", np_recall)"
   ]
  },
  {
   "cell_type": "code",
   "execution_count": 20,
   "metadata": {},
   "outputs": [
    {
     "data": {
      "text/html": [
       "<div>\n",
       "<style scoped>\n",
       "    .dataframe tbody tr th:only-of-type {\n",
       "        vertical-align: middle;\n",
       "    }\n",
       "\n",
       "    .dataframe tbody tr th {\n",
       "        vertical-align: top;\n",
       "    }\n",
       "\n",
       "    .dataframe thead th {\n",
       "        text-align: right;\n",
       "    }\n",
       "</style>\n",
       "<table border=\"1\" class=\"dataframe\">\n",
       "  <thead>\n",
       "    <tr style=\"text-align: right;\">\n",
       "      <th></th>\n",
       "      <th>Predicted True</th>\n",
       "      <th>Predicted Not True</th>\n",
       "    </tr>\n",
       "  </thead>\n",
       "  <tbody>\n",
       "    <tr>\n",
       "      <th>Actually True</th>\n",
       "      <td>742</td>\n",
       "      <td>838</td>\n",
       "    </tr>\n",
       "    <tr>\n",
       "      <th>Actually Not True</th>\n",
       "      <td>520</td>\n",
       "      <td>11398</td>\n",
       "    </tr>\n",
       "  </tbody>\n",
       "</table>\n",
       "</div>"
      ],
      "text/plain": [
       "                   Predicted True  Predicted Not True\n",
       "Actually True                 742                 838\n",
       "Actually Not True             520               11398"
      ]
     },
     "execution_count": 20,
     "metadata": {},
     "output_type": "execute_result"
    }
   ],
   "source": [
    "# import package that will generate the confusion matrix scores\n",
    "from sklearn.metrics import confusion_matrix\n",
    "# import packages that will help display the scores\n",
    "import pandas as pd\n",
    "\n",
    "confusion_matrix_scores = confusion_matrix(predictions_np[:,0], \n",
    "                                           predictions_np[:,1], \n",
    "                                           labels=[1, 0])\n",
    "\n",
    "# display scores as a heatmap\n",
    "df = pd.DataFrame(confusion_matrix_scores, \n",
    "                  columns = [\"Predicted True\", \"Predicted Not True\"],\n",
    "                  index = [\"Actually True\", \"Actually Not True\"])\n",
    "\n",
    "\n",
    "df.head()"
   ]
  },
  {
   "cell_type": "markdown",
   "metadata": {},
   "source": [
    "### Save model_pipeline"
   ]
  },
  {
   "cell_type": "code",
   "execution_count": 148,
   "metadata": {},
   "outputs": [],
   "source": [
    "from pyspark.ml import Pipeline, PipelineModel\n",
    "\n",
    "model_path = 'gs://dataproc-datalake-examples/xgboost/pipeline_model/bank-marketing'\n",
    "\n",
    "pipeline_model.write().overwrite().save(model_path)"
   ]
  },
  {
   "cell_type": "code",
   "execution_count": 149,
   "metadata": {},
   "outputs": [],
   "source": [
    "loaded_pipeline_model = PipelineModel.load(model_path)"
   ]
  },
  {
   "cell_type": "code",
   "execution_count": 150,
   "metadata": {},
   "outputs": [
    {
     "name": "stdout",
     "output_type": "stream",
     "text": [
      "+---+-------+---+--------+--------+-----+--------+-------+-----------+---------+-------------------+--------------+-------------+-------------+---------------+----------+-------------+-----+--------------------+--------------------+----------+\n",
      "|Age|Balance|Day|Duration|Campaign|PDays|Previous|Deposit|Month_Index|Job_Index|MaritalStatus_Index|POutcome_Index|Housing_Index|Contact_Index|Education_Index|Loan_Index|Default_Index|label|       rawPrediction|         probability|prediction|\n",
      "+---+-------+---+--------+--------+-----+--------+-------+-----------+---------+-------------------+--------------+-------------+-------------+---------------+----------+-------------+-----+--------------------+--------------------+----------+\n",
      "| 18|   1944| 10|     122|       3|   -1|       0|      1|        2.0|     10.0|                1.0|           0.0|          1.0|          2.0|            2.0|       0.0|          0.0|  0.0|[6.82134294509887...|[0.99891093163751...|       0.0|\n",
      "| 18|     35| 21|     104|       2|   -1|       0|      1|        2.0|     10.0|                1.0|           0.0|          1.0|          2.0|            3.0|       0.0|          0.0|  0.0|[1.91996443271636...|[0.87213446199893...|       0.0|\n",
      "| 18|    108|  9|      92|       1|  183|       1|      2|        6.0|     10.0|                1.0|           3.0|          1.0|          0.0|            3.0|       0.0|          0.0|  1.0|[-2.4723315238952...|[0.07782077789306...|       1.0|\n",
      "| 18|    108| 10|     167|       1|   -1|       0|      2|        2.0|     10.0|                1.0|           0.0|          1.0|          0.0|            3.0|       0.0|          0.0|  1.0|[0.12223700433969...|[0.53052130341529...|       0.0|\n",
      "| 19|     56| 12|     246|       1|   -1|       0|      1|        2.0|     10.0|                1.0|           0.0|          1.0|          0.0|            2.0|       0.0|          0.0|  0.0|[2.10480499267578...|[0.89136932045221...|       0.0|\n",
      "+---+-------+---+--------+--------+-----+--------+-------+-----------+---------+-------------------+--------------+-------------+-------------+---------------+----------+-------------+-----+--------------------+--------------------+----------+\n",
      "only showing top 5 rows\n",
      "\n"
     ]
    }
   ],
   "source": [
    "# Make predictions using loaded model\n",
    "\n",
    "predictions = loaded_pipeline_model.transform(test_data)\n",
    "\n",
    "predictions.show(5)"
   ]
  },
  {
   "cell_type": "markdown",
   "metadata": {},
   "source": [
    "### Save prediction results to a new table"
   ]
  },
  {
   "cell_type": "code",
   "execution_count": 151,
   "metadata": {},
   "outputs": [],
   "source": [
    "predictions.write.mode('overwrite').format(\"parquet\").saveAsTable(\"bank_demo_db.bank_marketing_predictions\")"
   ]
  },
  {
   "cell_type": "code",
   "execution_count": 152,
   "metadata": {},
   "outputs": [
    {
     "name": "stdout",
     "output_type": "stream",
     "text": [
      "+------------+--------------------------+-----------+\n",
      "|database    |tableName                 |isTemporary|\n",
      "+------------+--------------------------+-----------+\n",
      "|bank_demo_db|bank_marketing            |false      |\n",
      "|bank_demo_db|bank_marketing_predictions|false      |\n",
      "+------------+--------------------------+-----------+\n",
      "\n"
     ]
    }
   ],
   "source": [
    "spark.sql(\"SHOW TABLES in bank_demo_db\").show(10, False)"
   ]
  },
  {
   "cell_type": "markdown",
   "metadata": {},
   "source": [
    "## 5. Data Ops - Deploy Spark pipeline using Dataproc Workflows\n",
    "\n",
    "### Dataproc Workflows\n",
    "\n",
    "Dataproc Workflows has 2 types of workflow templates.\n",
    "\n",
    "1. Manged cluster - Create a new cluster and delete the cluster once the job has completed.\n",
    "2. Cluster selector - Select a pre-existing Dataproc cluster to the run the jobs (does not delete the cluster).\n",
    "\n",
    "This codelab will use option 1 to create a managed cluster workflow template."
   ]
  },
  {
   "cell_type": "markdown",
   "metadata": {},
   "source": [
    "### 5.1 Convert code above into 2 python files\n",
    "\n",
    "1. Job to convert CSV to Hive Tables\n",
    "2. Job to run predictions on Hive Tables"
   ]
  },
  {
   "cell_type": "code",
   "execution_count": 8,
   "metadata": {},
   "outputs": [
    {
     "name": "stdout",
     "output_type": "stream",
     "text": [
      "Writing job_csv_to_hive.py\n"
     ]
    }
   ],
   "source": [
    "%%writefile job_csv_to_hive.py\n",
    "## Job 1\n",
    "print('Job 1')\n",
    "from pyspark.sql import SparkSession\n",
    "from pyspark.ml import Pipeline\n",
    "from pyspark.ml.feature import StringIndexer\n",
    "\n",
    "warehouse_location = 'gs://dataproc-datalake-demo/hive-warehouse'\n",
    "service_endpoint = 'thrift://hive-cluster-m.us-central1-f:9083'\n",
    "\n",
    "spark = SparkSession.builder \\\n",
    "  .appName('csv_to_hive') \\\n",
    "  .config(\"hive.metastore.uris\", service_endpoint)  \\\n",
    "  .config(\"spark.sql.warehouse.dir\", warehouse_location) \\\n",
    "  .enableHiveSupport() \\\n",
    "  .getOrCreate()\n",
    "\n",
    "#To-Do add code from notebook job 1 "
   ]
  },
  {
   "cell_type": "code",
   "execution_count": 11,
   "metadata": {},
   "outputs": [
    {
     "name": "stdout",
     "output_type": "stream",
     "text": [
      "Writing job_xgboost_predictions.py\n"
     ]
    }
   ],
   "source": [
    "%%writefile job_xgboost_predictions.py\n",
    "## Job 2\n",
    "print('Job 2')\n",
    "\n",
    "# Load the data\n",
    "data = spark.sql(\"\"\"\n",
    "SELECT * \n",
    "FROM bank_demo_db.bank_marketing\n",
    "\"\"\")\n",
    "\n",
    "model_path = 'gs://dataproc-datalake-examples/xgboost/pipeline_model/bank-marketing'\n",
    "\n",
    "loaded_model = XGBoostClassificationModel().load(model_path)\n",
    "\n",
    "loaded_pipeline_model = PipelineModel.load(model_path)\n",
    "\n",
    "#To-Do add code from notebook job 2 "
   ]
  },
  {
   "cell_type": "markdown",
   "metadata": {},
   "source": [
    "### 5.2. Grant service account permission to deploy workflow from notebooks\n",
    "\n",
    "Dataproc's service accounts needs to be granted \"Dataproc Editor\" IAM role.\n",
    "\n",
    "Go to https://console.cloud.google.com/iam-admin/iam\n",
    "\n",
    "Look for the service account email under the name \"Google Cloud Dataproc Service Agent\". It will be in the format\n",
    "\n",
    "```bash\n",
    "service-{project-number}@dataproc-accounts.iam.gserviceaccount.com\n",
    "```\n",
    "\n",
    "Edit the roles and add the role \"Dataproc Editor\" and press save."
   ]
  },
  {
   "cell_type": "code",
   "execution_count": 79,
   "metadata": {},
   "outputs": [],
   "source": [
    "## Alternatively run all of the below from the Google Cloud Shell"
   ]
  },
  {
   "cell_type": "markdown",
   "metadata": {},
   "source": [
    "### 5.3 Create Dataproc managed cluster workflow Template"
   ]
  },
  {
   "cell_type": "code",
   "execution_count": 20,
   "metadata": {},
   "outputs": [],
   "source": [
    "%%bash\n",
    "export WORKFLOW_ID=bank-marketing-workflow"
   ]
  },
  {
   "cell_type": "code",
   "execution_count": 22,
   "metadata": {},
   "outputs": [
    {
     "name": "stdout",
     "output_type": "stream",
     "text": [
      "bank-marketing-workflow\n"
     ]
    }
   ],
   "source": [
    "%%bash\n",
    "export WORKFLOW_ID=bank-marketing-workflow\n",
    "echo $WORKFLOW_ID"
   ]
  },
  {
   "cell_type": "code",
   "execution_count": 23,
   "metadata": {},
   "outputs": [],
   "source": [
    "%%bash\n",
    "export WORKFLOW_ID=bank-marketing-workflow\n",
    "export REGION=us-central1\n",
    "\n",
    "gcloud dataproc workflow-templates create $WORKFLOW_ID \\\n",
    "--region $REGION"
   ]
  },
  {
   "cell_type": "markdown",
   "metadata": {},
   "source": [
    "### 5.4 Configure managed cluster for the workflow template"
   ]
  },
  {
   "cell_type": "code",
   "execution_count": 24,
   "metadata": {},
   "outputs": [],
   "source": [
    "%%bash\n",
    "export WORKFLOW_ID=bank-marketing-workflow\n",
    "\n",
    "export PROJECT_ID=dataproc-datalake\n",
    "export CLUSTER_NAME=spark-workflow-cluster\n",
    "export BUCKET_NAME=${PROJECT_ID}-demo\n",
    "export REGION=us-central1\n",
    "export ZONE=us-central1-f\n",
    "\n",
    "gcloud beta dataproc workflow-templates set-managed-cluster $WORKFLOW_ID \\\n",
    "    --cluster-name $CLUSTER_NAME \\\n",
    "    --region $REGION \\\n",
    "    --zone $ZONE \\\n",
    "    --image-version preview-ubuntu \\\n",
    "    --master-machine-type n1-standard-4 \\\n",
    "    --worker-machine-type n1-standard-4 \\\n",
    "    --optional-components=ANACONDA,JUPYTER \\\n",
    "    --initialization-actions gs://goog-dataproc-initialization-actions-${REGION}/rapids/rapids.sh \\\n",
    "    --metadata rapids-runtime=SPARK \\\n",
    "    --bucket $BUCKET_NAME"
   ]
  },
  {
   "cell_type": "markdown",
   "metadata": {},
   "source": [
    "### 5.5 Upload PySpark job to GCS"
   ]
  },
  {
   "cell_type": "code",
   "execution_count": 10,
   "metadata": {},
   "outputs": [
    {
     "name": "stderr",
     "output_type": "stream",
     "text": [
      "Copying file://job_csv_to_hive.py [Content-Type=text/x-python]...\n",
      "/ [1 files][   24.0 B/   24.0 B]                                                \n",
      "Operation completed over 1 objects/24.0 B.                                       \n"
     ]
    }
   ],
   "source": [
    "%%bash\n",
    "export PROJECT_ID=dataproc-datalake\n",
    "export BUCKET_NAME=${PROJECT_ID}-demo\n",
    "gsutil cp job_csv_to_hive.py \\\n",
    " gs://${PROJECT_ID}-demo/workflows/spark-bank-marketing/job_csv_to_hive.py"
   ]
  },
  {
   "cell_type": "code",
   "execution_count": 13,
   "metadata": {},
   "outputs": [
    {
     "name": "stderr",
     "output_type": "stream",
     "text": [
      "Copying file://job_xgboost_predictions.py [Content-Type=text/x-python]...\n",
      "/ [1 files][   24.0 B/   24.0 B]                                                \n",
      "Operation completed over 1 objects/24.0 B.                                       \n"
     ]
    }
   ],
   "source": [
    "%%bash\n",
    "export PROJECT_ID=dataproc-datalake\n",
    "export BUCKET_NAME=${PROJECT_ID}-demo\n",
    "gsutil cp job_xgboost_predictions.py \\\n",
    " gs://${PROJECT_ID}-demo/workflows/spark-bank-marketing/job_xgboost_predictions.py"
   ]
  },
  {
   "cell_type": "markdown",
   "metadata": {},
   "source": [
    "### 5.6 Add job to workflow template"
   ]
  },
  {
   "cell_type": "code",
   "execution_count": 34,
   "metadata": {},
   "outputs": [
    {
     "name": "stdout",
     "output_type": "stream",
     "text": [
      "createTime: '2020-09-08T16:56:47.304Z'\n",
      "id: bank-marketing-workflow\n",
      "jobs:\n",
      "- pysparkJob:\n",
      "    mainPythonFileUri: gs://dataproc-datalake-demo/workflows/spark-bank-marketing/job_csv_to_hive.py\n",
      "  stepId: csv_to_hive\n",
      "name: projects/dataproc-datalake/regions/us-central1/workflowTemplates/bank-marketing-workflow\n",
      "placement:\n",
      "  managedCluster:\n",
      "    clusterName: spark-workflow-cluster\n",
      "    config:\n",
      "      configBucket: dataproc-datalake-demo\n",
      "      gceClusterConfig:\n",
      "        metadata:\n",
      "          rapids-runtime: SPARK\n",
      "        zoneUri: us-central1-f\n",
      "      initializationActions:\n",
      "      - executableFile: gs://goog-dataproc-initialization-actions-us-central1/rapids/rapids.sh\n",
      "        executionTimeout: 600s\n",
      "      masterConfig:\n",
      "        machineTypeUri: n1-standard-4\n",
      "      softwareConfig:\n",
      "        imageVersion: preview-ubuntu\n",
      "        optionalComponents:\n",
      "        - ANACONDA\n",
      "        - JUPYTER\n",
      "      workerConfig:\n",
      "        machineTypeUri: n1-standard-4\n",
      "updateTime: '2020-09-08T17:09:28.406Z'\n",
      "version: 5\n"
     ]
    }
   ],
   "source": [
    "%%bash\n",
    "export WORKFLOW_ID=bank-marketing-workflow\n",
    "export REGION=us-central1\n",
    "export PROJECT_ID=dataproc-datalake\n",
    "\n",
    "gcloud dataproc workflow-templates add-job pyspark \\\n",
    "  gs://${PROJECT_ID}-demo/workflows/spark-bank-marketing/job_csv_to_hive.py \\\n",
    "    --region $REGION \\\n",
    "    --step-id csv_to_hive \\\n",
    "    --workflow-template $WORKFLOW_ID"
   ]
  },
  {
   "cell_type": "code",
   "execution_count": null,
   "metadata": {},
   "outputs": [],
   "source": []
  },
  {
   "cell_type": "code",
   "execution_count": 35,
   "metadata": {},
   "outputs": [
    {
     "name": "stdout",
     "output_type": "stream",
     "text": [
      "createTime: '2020-09-08T16:56:47.304Z'\n",
      "id: bank-marketing-workflow\n",
      "jobs:\n",
      "- pysparkJob:\n",
      "    mainPythonFileUri: gs://dataproc-datalake-demo/workflows/spark-bank-marketing/job_csv_to_hive.py\n",
      "  stepId: csv_to_hive\n",
      "- prerequisiteStepIds:\n",
      "  - csv_to_hive\n",
      "  pysparkJob:\n",
      "    mainPythonFileUri: gs://dataproc-datalake-demo/workflows/spark-bank-marketing/job_xgboost_predictions.py\n",
      "  stepId: xgboost_predictions\n",
      "name: projects/dataproc-datalake/regions/us-central1/workflowTemplates/bank-marketing-workflow\n",
      "placement:\n",
      "  managedCluster:\n",
      "    clusterName: spark-workflow-cluster\n",
      "    config:\n",
      "      configBucket: dataproc-datalake-demo\n",
      "      gceClusterConfig:\n",
      "        metadata:\n",
      "          rapids-runtime: SPARK\n",
      "        zoneUri: us-central1-f\n",
      "      initializationActions:\n",
      "      - executableFile: gs://goog-dataproc-initialization-actions-us-central1/rapids/rapids.sh\n",
      "        executionTimeout: 600s\n",
      "      masterConfig:\n",
      "        machineTypeUri: n1-standard-4\n",
      "      softwareConfig:\n",
      "        imageVersion: preview-ubuntu\n",
      "        optionalComponents:\n",
      "        - ANACONDA\n",
      "        - JUPYTER\n",
      "      workerConfig:\n",
      "        machineTypeUri: n1-standard-4\n",
      "updateTime: '2020-09-08T17:10:02.855Z'\n",
      "version: 6\n"
     ]
    }
   ],
   "source": [
    "%%bash\n",
    "export WORKFLOW_ID=bank-marketing-workflow\n",
    "export REGION=us-central1\n",
    "export PROJECT_ID=dataproc-datalake\n",
    "\n",
    "gcloud dataproc workflow-templates add-job pyspark \\\n",
    "  gs://${PROJECT_ID}-demo/workflows/spark-bank-marketing/job_xgboost_predictions.py \\\n",
    "    --region $REGION \\\n",
    "    --start-after=csv_to_hive \\\n",
    "    --step-id xgboost_predictions \\\n",
    "    --workflow-template $WORKFLOW_ID"
   ]
  },
  {
   "cell_type": "markdown",
   "metadata": {},
   "source": [
    "### 5.7 Run workflow template"
   ]
  },
  {
   "cell_type": "code",
   "execution_count": 36,
   "metadata": {},
   "outputs": [
    {
     "name": "stderr",
     "output_type": "stream",
     "text": [
      "Waiting on operation [projects/dataproc-datalake/regions/us-central1/operations/4072cbbe-c966-3708-b54d-4298354ab78a].\n",
      "WorkflowTemplate [bank-marketing-workflow] PENDING\n",
      "WorkflowTemplate [bank-marketing-workflow] RUNNING\n",
      "Creating cluster: Operation ID [projects/dataproc-datalake/regions/us-central1/operations/db00b13c-d677-48ae-9f78-f2e29c693d08].\n",
      "Created cluster: spark-workflow-cluster-zobjl64tmvq4s.\n",
      "Job ID csv_to_hive-zobjl64tmvq4s RUNNING\n",
      "Job ID csv_to_hive-zobjl64tmvq4s COMPLETED\n",
      "Job ID xgboost_predictions-zobjl64tmvq4s COMPLETED\n",
      "Deleting cluster: Operation ID [projects/dataproc-datalake/regions/us-central1/operations/0478b08a-944b-4d8a-99ba-1a013662ea2a].\n",
      "WorkflowTemplate [bank-marketing-workflow] DONE\n",
      "Deleted cluster: spark-workflow-cluster-zobjl64tmvq4s.\n"
     ]
    }
   ],
   "source": [
    "%%bash\n",
    "export WORKFLOW_ID=bank-marketing-workflow\n",
    "export REGION=us-central1\n",
    "\n",
    "gcloud dataproc workflow-templates instantiate $WORKFLOW_ID \\\n",
    "--region $REGION"
   ]
  },
  {
   "cell_type": "markdown",
   "metadata": {},
   "source": [
    "### 5.8 View Cluster, workflow and jobs tabs\n",
    "\n",
    "Go to the Dataproc UI and view the cluster page. You should see the new cluster spinning up\n",
    "\n",
    "Once the cluster is ready view the workflow and jobs tabs to check the progress of the jobs."
   ]
  },
  {
   "cell_type": "markdown",
   "metadata": {},
   "source": [
    "### 5.9 Check new predictions table was created"
   ]
  },
  {
   "cell_type": "markdown",
   "metadata": {},
   "source": [
    "### 5.10 Schedule workflows\n",
    "\n",
    "View the guide on how to schedule Dataproc workflows\n",
    "\n",
    "https://cloud.google.com/dataproc/docs/concepts/workflows/workflow-schedule-solutions"
   ]
  },
  {
   "cell_type": "code",
   "execution_count": null,
   "metadata": {},
   "outputs": [],
   "source": []
  }
 ],
 "metadata": {
  "kernelspec": {
   "display_name": "Python 3",
   "language": "python",
   "name": "python3"
  },
  "language_info": {
   "codemirror_mode": {
    "name": "ipython",
    "version": 3
   },
   "file_extension": ".py",
   "mimetype": "text/x-python",
   "name": "python",
   "nbconvert_exporter": "python",
   "pygments_lexer": "ipython3",
   "version": "3.7.4"
  }
 },
 "nbformat": 4,
 "nbformat_minor": 4
}